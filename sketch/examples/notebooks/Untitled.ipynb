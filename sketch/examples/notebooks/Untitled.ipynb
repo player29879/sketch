{
 "cells": [
  {
   "cell_type": "code",
   "execution_count": 1,
   "id": "b16f9b39-1f0e-43cc-99a7-365cfe47ea28",
   "metadata": {},
   "outputs": [
    {
     "ename": "ImportError",
     "evalue": "cannot import name 'search' from 'sketch' (/home/jawaugh/labs/sketch/sketch/__init__.py)",
     "output_type": "error",
     "traceback": [
      "\u001b[0;31m---------------------------------------------------------------------------\u001b[0m",
      "\u001b[0;31mImportError\u001b[0m                               Traceback (most recent call last)",
      "Input \u001b[0;32mIn [1]\u001b[0m, in \u001b[0;36m<cell line: 1>\u001b[0;34m()\u001b[0m\n\u001b[0;32m----> 1\u001b[0m \u001b[38;5;28;01mfrom\u001b[39;00m \u001b[38;5;21;01msketch\u001b[39;00m \u001b[38;5;28;01mimport\u001b[39;00m search\n",
      "\u001b[0;31mImportError\u001b[0m: cannot import name 'search' from 'sketch' (/home/jawaugh/labs/sketch/sketch/__init__.py)"
     ]
    }
   ],
   "source": [
    "from sketch import search"
   ]
  },
  {
   "cell_type": "code",
   "execution_count": 2,
   "id": "51d806e6-b581-4152-b554-abf8b52c9e02",
   "metadata": {},
   "outputs": [
    {
     "ename": "NameError",
     "evalue": "name 'sketch' is not defined",
     "output_type": "error",
     "traceback": [
      "\u001b[0;31m---------------------------------------------------------------------------\u001b[0m",
      "\u001b[0;31mNameError\u001b[0m                                 Traceback (most recent call last)",
      "Input \u001b[0;32mIn [2]\u001b[0m, in \u001b[0;36m<cell line: 1>\u001b[0;34m()\u001b[0m\n\u001b[0;32m----> 1\u001b[0m \u001b[43msketch\u001b[49m\u001b[38;5;241m.\u001b[39msearch(\u001b[38;5;124m\"\u001b[39m\u001b[38;5;124mUser-table with features about age and demographics\u001b[39m\u001b[38;5;124m\"\u001b[39m)\n",
      "\u001b[0;31mNameError\u001b[0m: name 'sketch' is not defined"
     ]
    }
   ],
   "source": [
    "sketch.search(\"User-table with features about age and demographics\") "
   ]
  },
  {
   "cell_type": "code",
   "execution_count": 3,
   "id": "9260cd9e-e0b6-4717-9271-06a533d709a9",
   "metadata": {},
   "outputs": [
    {
     "ename": "NameError",
     "evalue": "name 'sketch' is not defined",
     "output_type": "error",
     "traceback": [
      "\u001b[0;31m---------------------------------------------------------------------------\u001b[0m",
      "\u001b[0;31mNameError\u001b[0m                                 Traceback (most recent call last)",
      "Input \u001b[0;32mIn [3]\u001b[0m, in \u001b[0;36m<cell line: 1>\u001b[0;34m()\u001b[0m\n\u001b[0;32m----> 1\u001b[0m \u001b[43msketch\u001b[49m\u001b[38;5;241m.\u001b[39muse_local \u001b[38;5;241m=\u001b[39m \u001b[38;5;28;01mTrue\u001b[39;00m\n\u001b[1;32m      2\u001b[0m sketch\u001b[38;5;241m.\u001b[39msearch(\u001b[38;5;124m\"\u001b[39m\u001b[38;5;124mUser table with features about spend-by-day\u001b[39m\u001b[38;5;124m\"\u001b[39m)\n",
      "\u001b[0;31mNameError\u001b[0m: name 'sketch' is not defined"
     ]
    }
   ],
   "source": [
    "sketch.use_local = True\n",
    "import pandas as pd\n",
    "df1 = pd.operation(..)\n",
    "df3 = pd.operation(...)\n",
    "df7 = pd.operation()\n",
    "\n",
    "sketch.search(\"User table with features about spend-by-day\") "
   ]
  },
  {
   "cell_type": "code",
   "execution_count": 6,
   "id": "17860a8e-996f-4be7-80de-e61d1a2ae93a",
   "metadata": {},
   "outputs": [],
   "source": [
    "# second result returns things that are now, more likely to work,\n",
    "# in a notebook that has been using pandas.\n",
    "\n",
    "# It will \"bias\" the results of the \"user table\" for features with Keys\n",
    "# that are likely to join into keys you know\n",
    "\n",
    "# this means that it has a special button {compose-join} for 'good searches', and it will return\n",
    "# a sql query or a pandas series of operations, that will 'bring the feature you searched for' into \n",
    "# your current 'table of reference' that you're working with\n",
    "\n",
    "# you can always \"drop things\", from that table, and you can keep searching for things. \n",
    "\n",
    "# technically in python, should this be a context-manager, rather than a global use_local = True?\n",
    "# like, maybe \n",
    "\n",
    "# this is the \"kernel level\", so at the kernel level, would be a good context of measurement.\n",
    "\n",
    "## local data-frame objects can be searched \"from the local cache\", including stuff that's like...\n",
    "# df = df+1\n",
    "# df = df+3\n",
    "# df = df.groupby('something').agg('somethingelse')\n",
    "\n",
    "# when doing search, somehow give a \"zoom-in-time\" or \"labeled zoom\" that lets someone select \n",
    "# a specific dataframe 'from the local cache'. These cache refernces, will expire in time, to \n",
    "# try to prevent memory over-use, but may over-use memory, and thus may be killed - expired / \n",
    "# not downloadable\n"
   ]
  },
  {
   "cell_type": "code",
   "execution_count": 7,
   "id": "b5960592-05f1-4fb9-ba92-b4636a5a2a76",
   "metadata": {},
   "outputs": [],
   "source": [
    "# \"When we say you can search data, we even mean in your 'last 3 minutes', data you had, or across the company\n",
    "# or across \"public datasets\". Change your domain, search, compose, and learn\n"
   ]
  },
  {
   "cell_type": "code",
   "execution_count": null,
   "id": "634286ba-cca9-40e8-b46e-6b4bc7069dd6",
   "metadata": {},
   "outputs": [],
   "source": []
  }
 ],
 "metadata": {
  "kernelspec": {
   "display_name": "Python 3 (ipykernel)",
   "language": "python",
   "name": "python3"
  },
  "language_info": {
   "codemirror_mode": {
    "name": "ipython",
    "version": 3
   },
   "file_extension": ".py",
   "mimetype": "text/x-python",
   "name": "python",
   "nbconvert_exporter": "python",
   "pygments_lexer": "ipython3",
   "version": "3.10.5"
  }
 },
 "nbformat": 4,
 "nbformat_minor": 5
}
