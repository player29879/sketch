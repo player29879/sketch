{
 "cells": [
  {
   "cell_type": "code",
   "execution_count": null,
   "metadata": {},
   "outputs": [],
   "source": [
    "import faiss\n",
    "import os\n",
    "import sketch\n",
    "\n",
    "# import datasketches\n",
    "# import numpy as np\n",
    "# import pandas as pd\n",
    "\n",
    "basepath = \"/Users/jawaugh/labs\""
   ]
  },
  {
   "cell_type": "code",
   "execution_count": null,
   "metadata": {},
   "outputs": [],
   "source": [
    "#  Iterate through all subfolders of a path and return all sqlite files\n",
    "\n",
    "def get_sqlite_files(path):\n",
    "    sqlite_files = []\n",
    "    for root, dirs, files in os.walk(path):\n",
    "        for file in files:\n",
    "            if file.endswith(\".sqlite\"):\n",
    "                sqlite_files.append(os.path.join(root, file))\n",
    "    return sqlite_files\n"
   ]
  },
  {
   "cell_type": "code",
   "execution_count": null,
   "metadata": {},
   "outputs": [],
   "source": [
    "all_sqlite = get_sqlite_files(os.path.join(basepath, \"benchmarks\"))\n",
    "print(len(all_sqlite))"
   ]
  },
  {
   "cell_type": "code",
   "execution_count": null,
   "metadata": {},
   "outputs": [],
   "source": [
    "from sketch.core import Portfolio\n",
    "\n",
    "#  Create a portfolio from all the sqlite files\n",
    "pf = Portfolio()\n",
    "\n",
    "for i, sqlite_file in enumerate(all_sqlite):\n",
    "    try:\n",
    "        pf.add_sqlite(sqlite_file)\n",
    "    except:\n",
    "        print(f\"Failed to add {sqlite_file}\")\n",
    "        raise"
   ]
  },
  {
   "cell_type": "code",
   "execution_count": null,
   "metadata": {},
   "outputs": [],
   "source": [
    "# 14.1 s for 50 sqlite files\n",
    "# 16.9 s for 50 sqlite files (+ DS_HLL)\n",
    "# 18.5 s for 50 sqlite files (+ DS_HLL + DS_CPC)\n",
    "# 32.7 s for 50 sqlite files (+ All the datasketches (less DS_VO))\n",
    "\n",
    "# -> for the full dataset, on M1, this takes 3m 5s without any of the added sketches from today, \n",
    "# -> not sure how long it takes now taht sketches are added (for the M1)\n",
    "# -> For the full dataset (both benchmark datasets) on x86 took 18m15s (~9000 columns)\n",
    "# -> For the full dataset (both benchmark datasets) on M1  took 9m38s (~9000 columns)"
   ]
  },
  {
   "cell_type": "code",
   "execution_count": null,
   "metadata": {},
   "outputs": [],
   "source": []
  },
  {
   "cell_type": "code",
   "execution_count": null,
   "metadata": {},
   "outputs": [],
   "source": [
    "pf.upload(apiKey=\"8f79be2b6d0d47ccb8192e46f38c80ce\")"
   ]
  },
  {
   "cell_type": "code",
   "execution_count": null,
   "metadata": {},
   "outputs": [],
   "source": [
    "# Upload (for full set took) ... 4m 17s\n",
    "# Upload (for full set on M1) took ... 59s"
   ]
  },
  {
   "cell_type": "code",
   "execution_count": null,
   "metadata": {},
   "outputs": [],
   "source": []
  }
 ],
 "metadata": {
  "kernelspec": {
   "display_name": "Python 3.10.5 64-bit ('sketch')",
   "language": "python",
   "name": "python3"
  },
  "language_info": {
   "codemirror_mode": {
    "name": "ipython",
    "version": 3
   },
   "file_extension": ".py",
   "mimetype": "text/x-python",
   "name": "python",
   "nbconvert_exporter": "python",
   "pygments_lexer": "ipython3",
   "version": "3.10.5"
  },
  "vscode": {
   "interpreter": {
    "hash": "1a56c398c352595db7d0130f0fc00eb36e63ee8641ddc16c2e5bdd38e08d5e9b"
   }
  }
 },
 "nbformat": 4,
 "nbformat_minor": 2
}
