{
 "cells": [
  {
   "cell_type": "code",
   "execution_count": 1,
   "id": "9a175329-fdfb-4524-a0eb-54ea72e30444",
   "metadata": {},
   "outputs": [],
   "source": [
    "import pandas as pd"
   ]
  },
  {
   "cell_type": "code",
   "execution_count": 3,
   "id": "21aeb35d-1a50-4389-b147-0d792246eeaf",
   "metadata": {},
   "outputs": [],
   "source": [
    "attempt = pd.read_html('https://en.wikipedia.org/wiki/Spider_taxonomy')"
   ]
  },
  {
   "cell_type": "code",
   "execution_count": 4,
   "id": "2f9d6d85-3641-4a88-b8eb-096e1f5f5605",
   "metadata": {},
   "outputs": [
    {
     "data": {
      "text/plain": [
       "list"
      ]
     },
     "execution_count": 4,
     "metadata": {},
     "output_type": "execute_result"
    }
   ],
   "source": [
    "type(attempt)"
   ]
  },
  {
   "cell_type": "code",
   "execution_count": 6,
   "id": "a32a1c4d-410a-4ce4-9bbd-905e509025a4",
   "metadata": {},
   "outputs": [
    {
     "data": {
      "text/plain": [
       "29"
      ]
     },
     "execution_count": 17,
     "metadata": {},
     "output_type": "execute_result"
    }
   ],
   "source": [
    "len(attempt)"
   ]
  },
  {
   "cell_type": "code",
   "execution_count": 25,
   "id": "2b415445-5bc4-4bfa-bfc7-a4929d83017c",
   "metadata": {},
   "outputs": [
    {
     "data": {
      "text/html": [
       "<div>\n",
       "<style scoped>\n",
       "    .dataframe tbody tr th:only-of-type {\n",
       "        vertical-align: middle;\n",
       "    }\n",
       "\n",
       "    .dataframe tbody tr th {\n",
       "        vertical-align: top;\n",
       "    }\n",
       "\n",
       "    .dataframe thead th {\n",
       "        text-align: right;\n",
       "    }\n",
       "</style>\n",
       "<table border=\"1\" class=\"dataframe\">\n",
       "  <thead>\n",
       "    <tr style=\"text-align: right;\">\n",
       "      <th></th>\n",
       "      <th>0</th>\n",
       "      <th>1</th>\n",
       "    </tr>\n",
       "  </thead>\n",
       "  <tbody>\n",
       "    <tr>\n",
       "      <th>0</th>\n",
       "      <td>Plants</td>\n",
       "      <td>Plantae Allium Liliaceae Tulipa Narcissus Orch...</td>\n",
       "    </tr>\n",
       "    <tr>\n",
       "      <th>1</th>\n",
       "      <td>Animals</td>\n",
       "      <td>Animalia Gastropoda 2017 2005 1997 Conoidea Bi...</td>\n",
       "    </tr>\n",
       "  </tbody>\n",
       "</table>\n",
       "</div>"
      ],
      "text/plain": [
       "         0                                                  1\n",
       "0   Plants  Plantae Allium Liliaceae Tulipa Narcissus Orch...\n",
       "1  Animals  Animalia Gastropoda 2017 2005 1997 Conoidea Bi..."
      ]
     },
     "execution_count": 25,
     "metadata": {},
     "output_type": "execute_result"
    }
   ],
   "source": [
    "attempt[28]"
   ]
  },
  {
   "cell_type": "code",
   "execution_count": null,
   "id": "574d8133-3b1b-45ee-b659-5d38d6c52f7d",
   "metadata": {},
   "outputs": [],
   "source": []
  }
 ],
 "metadata": {
  "kernelspec": {
   "display_name": "Python 3 (ipykernel)",
   "language": "python",
   "name": "python3"
  },
  "language_info": {
   "codemirror_mode": {
    "name": "ipython",
    "version": 3
   },
   "file_extension": ".py",
   "mimetype": "text/x-python",
   "name": "python",
   "nbconvert_exporter": "python",
   "pygments_lexer": "ipython3",
   "version": "3.10.5"
  }
 },
 "nbformat": 4,
 "nbformat_minor": 5
}
