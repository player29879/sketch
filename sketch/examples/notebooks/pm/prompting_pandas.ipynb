{
 "cells": [
  {
   "cell_type": "code",
   "execution_count": null,
   "metadata": {},
   "outputs": [],
   "source": [
    "from sketch.examples.prompt_machine import *\n",
    "\n",
    "import pandas as pd"
   ]
  },
  {
   "cell_type": "code",
   "execution_count": null,
   "metadata": {},
   "outputs": [],
   "source": [
    "# load any data you want (including using st helper functions)\n",
    "state_data = pd.read_html('https://en.wikipedia.org/wiki/List_of_states_and_territories_of_the_United_States')[1]\n",
    "state_data.columns = state_data.columns.to_flat_index()\n",
    "state_names = state_data[state_data.columns[0]]"
   ]
  },
  {
   "cell_type": "code",
   "execution_count": null,
   "metadata": {},
   "outputs": [],
   "source": [
    "state_names.head()"
   ]
  },
  {
   "cell_type": "code",
   "execution_count": null,
   "metadata": {},
   "outputs": [],
   "source": [
    "result = state_names.apply(\n",
    "    GPT3Prompt(\n",
    "        \"get_color_for_state\",\n",
    "        \"Colors for NBA fans in {{ state }} (as a hex, eg. (0xF1F1F1)): (0x\",\n",
    "        stop=\")\"\n",
    "    )\n",
    ")"
   ]
  },
  {
   "cell_type": "code",
   "execution_count": null,
   "metadata": {},
   "outputs": [],
   "source": [
    "import altair as alt\n",
    "from vega_datasets import data\n",
    "alt.renderers.enable('html')\n",
    "\n",
    "results = pd.concat([state_names.rename(\"state_name\"), result.rename(\"color_hex\")], axis=1)\n",
    "results.index.name = 'id'\n",
    "results = results.reset_index()\n",
    "\n",
    "# # altair state to color plot\n",
    "states = alt.topo_feature(data.us_10m.url, feature='states')\n",
    "\n",
    "alt.Chart(states).mark_geoshape().encode(\n",
    "    color=alt.Color(\n",
    "        \"state_name:N\",\n",
    "        scale=alt.Scale(\n",
    "            domain=list(results['state_name'].values),\n",
    "            range=list((\"#\"+results['color_hex']).values)\n",
    "        )\n",
    "    ),\n",
    ").transform_lookup(\n",
    "    lookup='id',\n",
    "    from_=alt.LookupData(results, 'id', list(results.columns))\n",
    ").properties(\n",
    "    width=500,\n",
    "    height=300\n",
    ").project('albersUsa')"
   ]
  },
  {
   "cell_type": "markdown",
   "metadata": {},
   "source": [
    "![Map Attempt](map_attempt_0.png)"
   ]
  },
  {
   "cell_type": "markdown",
   "metadata": {},
   "source": []
  }
 ],
 "metadata": {
  "kernelspec": {
   "display_name": "Python 3.10.5 64-bit ('sketch': pyenv)",
   "language": "python",
   "name": "python3"
  },
  "language_info": {
   "codemirror_mode": {
    "name": "ipython",
    "version": 3
   },
   "file_extension": ".py",
   "mimetype": "text/x-python",
   "name": "python",
   "nbconvert_exporter": "python",
   "pygments_lexer": "ipython3",
   "version": "3.10.5"
  },
  "vscode": {
   "interpreter": {
    "hash": "adcb619b33f588203bb576ea56ee3c20c6d0d8de6f18aca777331501d8e7497b"
   }
  }
 },
 "nbformat": 4,
 "nbformat_minor": 2
}
