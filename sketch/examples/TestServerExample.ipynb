{
 "cells": [
  {
   "cell_type": "code",
   "execution_count": 1,
   "id": "6b721bd8-c1bf-440f-b518-e9620ae8caae",
   "metadata": {},
   "outputs": [],
   "source": [
    "import requests\n",
    "from sketch import Portfolio"
   ]
  },
  {
   "cell_type": "code",
   "execution_count": 2,
   "id": "61aa4c2b-1202-41ea-9afa-24f0436069a7",
   "metadata": {},
   "outputs": [],
   "source": [
    "pf = Portfolio.from_sqlite('datasets/food-trucks.db')"
   ]
  },
  {
   "cell_type": "code",
   "execution_count": 3,
   "id": "7bd9e5d6-9c56-42e8-8359-a86d818af72f",
   "metadata": {},
   "outputs": [],
   "source": [
    "def upload_portfolio(portfolio, url='http://localhost:8000/api'):\n",
    "    for sketchpad in portfolio.sketchpads.values():\n",
    "        res = requests.post(url, json=sketchpad.to_dict())"
   ]
  },
  {
   "cell_type": "code",
   "execution_count": 4,
   "id": "ec667639-ab15-4651-a973-912fd79fc30e",
   "metadata": {},
   "outputs": [],
   "source": [
    "upload_portfolio(pf)"
   ]
  },
  {
   "cell_type": "code",
   "execution_count": 5,
   "id": "8aaac6a2-5e34-44a4-aab6-8ee32c5afbf5",
   "metadata": {},
   "outputs": [],
   "source": [
    "pf = Portfolio.from_sqlite('datasets/fivethirtyeight.db')"
   ]
  },
  {
   "cell_type": "code",
   "execution_count": 35,
   "id": "9aa9f616-3e4b-4254-887e-edb53155ad71",
   "metadata": {},
   "outputs": [],
   "source": [
    "upload_portfolio(pf)"
   ]
  },
  {
   "cell_type": "code",
   "execution_count": null,
   "id": "ef9773f5-5619-4744-bc8f-227f493721a0",
   "metadata": {},
   "outputs": [],
   "source": []
  }
 ],
 "metadata": {
  "kernelspec": {
   "display_name": "Python 3 (ipykernel)",
   "language": "python",
   "name": "python3"
  },
  "language_info": {
   "codemirror_mode": {
    "name": "ipython",
    "version": 3
   },
   "file_extension": ".py",
   "mimetype": "text/x-python",
   "name": "python",
   "nbconvert_exporter": "python",
   "pygments_lexer": "ipython3",
   "version": "3.10.5"
  }
 },
 "nbformat": 4,
 "nbformat_minor": 5
}
