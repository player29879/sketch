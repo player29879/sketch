{
 "cells": [
  {
   "cell_type": "code",
   "execution_count": null,
   "metadata": {},
   "outputs": [],
   "source": [
    "import pandas as pd\n",
    "import altair as alt\n",
    "import os\n",
    "from dotenv import load_dotenv\n",
    "\n",
    "load_dotenv()\n",
    "\n",
    "csv_path = \"/Users/jawaugh/labs/data_examples/multiTimeline.csv\"\n",
    "chart_description = \"A line-chart where the line is green and the points are Orange, and there is a title that is in Roboto font (red)\""
   ]
  },
  {
   "cell_type": "code",
   "execution_count": null,
   "metadata": {},
   "outputs": [],
   "source": [
    "import requests\n",
    "\n",
    "API_KEY = os.environ.get(\"OPENAI_API_KEY\")\n",
    "\n",
    "def get_gpt3_response(prompt, stop=None):\n",
    "    headers = {\"Authorization\": f\"Bearer {API_KEY}\", \"Content-Type\": \"application/json\"}\n",
    "    data = {\"prompt\": prompt, \"max_tokens\": 500, \"temperature\": 0, \"model\": \"text-davinci-002\"}\n",
    "    if stop:\n",
    "        data[\"stop\"] = stop\n",
    "    response = requests.post(\"https://api.openai.com/v1/completions\", headers=headers, json=data)\n",
    "    return response.json()\n",
    "\n",
    "def get_summary_of_frame(df):\n",
    "    summary_df = pd.DataFrame(df.dtypes,columns=['dtype'])\n",
    "    summary_df.columns.name = 'Variable'\n",
    "    summary_df['Missing values'] = df.isna().sum()\n",
    "    summary_df['Uniques'] = df.nunique()\n",
    "    summary_df['First value'] = df.loc[0]\n",
    "    summary_df['Min value'] = df.min()\n",
    "    summary_df['Max value'] = df.max()\n",
    "    return summary_df\n",
    "\n",
    "def get_prompt_for_chart(chart_description, data_summary):\n",
    "    prompt_for_chart = f\"\"\"\n",
    "A python function for generating a { chart_description } chart with altair.\n",
    "\n",
    "# Explore the data\n",
    "{data_summary}\n",
    "\n",
    "CODE:\n",
    "```\n",
    "import altair as alt\n",
    "\n",
    "def get_chart(df):\n",
    "\"\"\"\n",
    "    return prompt_for_chart\n",
    "\n",
    "def get_chart_code(prompt, stop=\"```\"):\n",
    "    response = get_gpt3_response(prompt, stop)\n",
    "    return \"def get_chart(df):\\n\" + response[\"choices\"][0][\"text\"]\n",
    "\n"
   ]
  },
  {
   "cell_type": "code",
   "execution_count": null,
   "metadata": {},
   "outputs": [],
   "source": [
    "df = pd.read_csv(csv_path)\n",
    "summary = get_summary_of_frame(df).to_string()\n",
    "prompt = get_prompt_for_chart(chart_description, summary)"
   ]
  },
  {
   "cell_type": "code",
   "execution_count": null,
   "metadata": {},
   "outputs": [],
   "source": []
  },
  {
   "cell_type": "code",
   "execution_count": null,
   "metadata": {},
   "outputs": [],
   "source": [
    "result = get_chart_code(prompt)"
   ]
  },
  {
   "cell_type": "code",
   "execution_count": null,
   "metadata": {},
   "outputs": [],
   "source": [
    "exec(result)\n",
    "chart = get_chart(df)"
   ]
  },
  {
   "cell_type": "code",
   "execution_count": null,
   "metadata": {},
   "outputs": [],
   "source": [
    "chart.interactive()"
   ]
  },
  {
   "cell_type": "code",
   "execution_count": null,
   "metadata": {},
   "outputs": [],
   "source": [
    "print(result)"
   ]
  },
  {
   "cell_type": "code",
   "execution_count": null,
   "metadata": {},
   "outputs": [],
   "source": []
  },
  {
   "cell_type": "code",
   "execution_count": null,
   "metadata": {},
   "outputs": [],
   "source": []
  },
  {
   "cell_type": "code",
   "execution_count": null,
   "metadata": {},
   "outputs": [],
   "source": []
  },
  {
   "cell_type": "code",
   "execution_count": null,
   "metadata": {},
   "outputs": [],
   "source": []
  },
  {
   "cell_type": "code",
   "execution_count": null,
   "metadata": {},
   "outputs": [],
   "source": []
  },
  {
   "cell_type": "code",
   "execution_count": null,
   "metadata": {},
   "outputs": [],
   "source": []
  },
  {
   "cell_type": "code",
   "execution_count": null,
   "metadata": {},
   "outputs": [],
   "source": []
  }
 ],
 "metadata": {
  "kernelspec": {
   "display_name": "Python 3.10.5 64-bit ('sketch')",
   "language": "python",
   "name": "python3"
  },
  "language_info": {
   "codemirror_mode": {
    "name": "ipython",
    "version": 3
   },
   "file_extension": ".py",
   "mimetype": "text/x-python",
   "name": "python",
   "nbconvert_exporter": "python",
   "pygments_lexer": "ipython3",
   "version": "3.10.5"
  },
  "vscode": {
   "interpreter": {
    "hash": "1a56c398c352595db7d0130f0fc00eb36e63ee8641ddc16c2e5bdd38e08d5e9b"
   }
  }
 },
 "nbformat": 4,
 "nbformat_minor": 2
}
