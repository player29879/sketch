{
 "cells": [
  {
   "cell_type": "code",
   "execution_count": null,
   "metadata": {},
   "outputs": [],
   "source": [
    "from sketch.examples.prompt_machine import *"
   ]
  },
  {
   "cell_type": "code",
   "execution_count": null,
   "metadata": {},
   "outputs": [],
   "source": [
    "p = GPT3Prompt(\"Chess Player\",\n",
    "\"\"\"\n",
    "This is a game between two players of chess\n",
    "1.e4d62.d4Nf63.Nc3g64.Be3Bg75.Qd2c66.f3b57.Nge2Nbd78.Bh6Bxh69.Qxh6Bb710.a3e511.O-O-OQe712.Kb1a613.Nc1O-O-O14.Nb3exd415.Rxd4c516.Rd1Nb617.g3Kb818.Na5Ba819.Bh3d520.Qf4+Ka721.Rhe1d422.Nd5Nbxd523.exd5Qd624.Rxd4cxd425.Re7+Kb626.Qxd4+Kxa527.b4+Ka428.Qc3Qxd529.Ra7Bb730.Rxb7Qc431.Qxf6Kxa332.Qxa6+Kxb433.c3+Kxc334.Qa1+Kd235.Qb2+Kd136.Bf1Rd237.Rd7Rxd738.Bxc4bxc439.Qxh8Rd340.Qa8c341.Qa4+Ke142.f4f543.Kc1Rd244.Qa71-0\n",
    "This is a game between two players of chess, white is better than black\n",
    "{{ moves_so_far }}{{ moves_so_far.split(\".\") | length }}.\"\"\", temperature=0.7, stop = \".\")\n"
   ]
  },
  {
   "cell_type": "code",
   "execution_count": null,
   "metadata": {},
   "outputs": [],
   "source": [
    "# # clearly lost, and lost track of being able to make good moves.\n",
    "# p(\"1.e4Nf62.e5Nd53.d4e64.Nc3Qh45.Bc4Nb66.Bb3d57.Qf3Qxd48.Qxf7+Kxf79.Nxd5exd510.Bxd5+Nxd5\")"
   ]
  },
  {
   "cell_type": "code",
   "execution_count": null,
   "metadata": {},
   "outputs": [],
   "source": [
    "p(\"1.e4b62.d4Bb73.Nc3e64.f3d55.a3c66.Bf4Ne77.Nge2Nd7\")"
   ]
  },
  {
   "cell_type": "markdown",
   "metadata": {},
   "source": [
    "![title](game2.png)"
   ]
  },
  {
   "cell_type": "code",
   "execution_count": null,
   "metadata": {},
   "outputs": [],
   "source": [
    "# eventually it got stuck, but for a \"few prompt\" player, it kept deciding valid moves for a long time.\n",
    "\n",
    "# p(\"1.e4b62.d4Bb73.Nc3e64.f3d55.a3c66.Bf4Ne77.Nge2Nd7\")"
   ]
  },
  {
   "cell_type": "code",
   "execution_count": null,
   "metadata": {},
   "outputs": [],
   "source": []
  }
 ],
 "metadata": {
  "kernelspec": {
   "display_name": "Python 3.10.5 64-bit ('sketch': pyenv)",
   "language": "python",
   "name": "python3"
  },
  "language_info": {
   "codemirror_mode": {
    "name": "ipython",
    "version": 3
   },
   "file_extension": ".py",
   "mimetype": "text/x-python",
   "name": "python",
   "nbconvert_exporter": "python",
   "pygments_lexer": "ipython3",
   "version": "3.10.5"
  },
  "vscode": {
   "interpreter": {
    "hash": "adcb619b33f588203bb576ea56ee3c20c6d0d8de6f18aca777331501d8e7497b"
   }
  }
 },
 "nbformat": 4,
 "nbformat_minor": 2
}
