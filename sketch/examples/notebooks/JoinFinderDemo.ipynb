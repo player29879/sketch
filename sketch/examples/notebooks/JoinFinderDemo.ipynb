{
 "cells": [
  {
   "cell_type": "code",
   "execution_count": 7,
   "id": "b6e13a83-15b9-4719-8fb0-1b7770488ae3",
   "metadata": {},
   "outputs": [],
   "source": [
    "import pandas as pd\n",
    "import random\n",
    "\n",
    "local_df = pd.DataFrame(\n",
    "    {'i': [x for x in range(120)]*8,\n",
    "     'age': [random.randint(20,80) for _ in range(120)]*8\n",
    "    }\n",
    ")"
   ]
  },
  {
   "cell_type": "code",
   "execution_count": 8,
   "id": "0cfa3ede-9497-4605-9257-04e070596182",
   "metadata": {},
   "outputs": [
    {
     "data": {
      "text/html": [
       "<div>\n",
       "<style scoped>\n",
       "    .dataframe tbody tr th:only-of-type {\n",
       "        vertical-align: middle;\n",
       "    }\n",
       "\n",
       "    .dataframe tbody tr th {\n",
       "        vertical-align: top;\n",
       "    }\n",
       "\n",
       "    .dataframe thead th {\n",
       "        text-align: right;\n",
       "    }\n",
       "</style>\n",
       "<table border=\"1\" class=\"dataframe\">\n",
       "  <thead>\n",
       "    <tr style=\"text-align: right;\">\n",
       "      <th></th>\n",
       "      <th>i</th>\n",
       "      <th>age</th>\n",
       "    </tr>\n",
       "  </thead>\n",
       "  <tbody>\n",
       "    <tr>\n",
       "      <th>0</th>\n",
       "      <td>0</td>\n",
       "      <td>39</td>\n",
       "    </tr>\n",
       "    <tr>\n",
       "      <th>1</th>\n",
       "      <td>1</td>\n",
       "      <td>39</td>\n",
       "    </tr>\n",
       "    <tr>\n",
       "      <th>2</th>\n",
       "      <td>2</td>\n",
       "      <td>66</td>\n",
       "    </tr>\n",
       "    <tr>\n",
       "      <th>3</th>\n",
       "      <td>3</td>\n",
       "      <td>77</td>\n",
       "    </tr>\n",
       "    <tr>\n",
       "      <th>4</th>\n",
       "      <td>4</td>\n",
       "      <td>65</td>\n",
       "    </tr>\n",
       "  </tbody>\n",
       "</table>\n",
       "</div>"
      ],
      "text/plain": [
       "   i  age\n",
       "0  0   39\n",
       "1  1   39\n",
       "2  2   66\n",
       "3  3   77\n",
       "4  4   65"
      ]
     },
     "execution_count": 8,
     "metadata": {},
     "output_type": "execute_result"
    }
   ],
   "source": [
    "local_df.head()"
   ]
  },
  {
   "cell_type": "code",
   "execution_count": 3,
   "id": "15ff151d-3f94-4912-8c6b-b552a9d45bda",
   "metadata": {},
   "outputs": [
    {
     "data": {
      "text/plain": [
       "960"
      ]
     },
     "execution_count": 3,
     "metadata": {},
     "output_type": "execute_result"
    }
   ],
   "source": [
    "len(local_df)"
   ]
  },
  {
   "cell_type": "code",
   "execution_count": null,
   "id": "54edafce",
   "metadata": {},
   "outputs": [],
   "source": []
  },
  {
   "cell_type": "code",
   "execution_count": null,
   "id": "207e0b79-48f5-4c3f-9a1f-6f169c6c3741",
   "metadata": {},
   "outputs": [],
   "source": []
  },
  {
   "cell_type": "code",
   "execution_count": 4,
   "id": "a739f2c8-7ad7-4f66-932c-c575e2ccefd1",
   "metadata": {},
   "outputs": [],
   "source": [
    "from sketch import Portfolio\n",
    "test = Portfolio.from_dataframe(local_df)"
   ]
  },
  {
   "cell_type": "code",
   "execution_count": 5,
   "id": "6008590e-1f30-4db5-8ad0-93565251c782",
   "metadata": {},
   "outputs": [
    {
     "data": {
      "text/html": [
       "\n",
       "        <iframe\n",
       "            width=\"100%\"\n",
       "            height=\"600\"\n",
       "            src=\"data:text/html;charset=utf-8,%0A%0A%3C%21DOCTYPE%20html%3E%0A%0A%3Chtml%20lang%3D%22en%22%3E%0A%0A%3Chead%3E%0A%20%20%20%20%3Cmeta%20charset%3D%22UTF-8%22%3E%0A%20%20%20%20%3Cmeta%20name%3D%22viewport%22%20content%3D%22initial-scale%3D1.0%22%3E%0A%20%20%20%20%3Clink%20rel%3D%22stylesheet%22%20type%3D%22text/css%22%20href%3D%22http%3A//localhost%3A8000/static/output.css%22%3E%0A%20%20%20%20%3Cscript%20src%3D%22https%3A//cdn.jsdelivr.net/npm/vega%405.22.1/build/vega.min.js%22%3E%3C/script%3E%0A%20%20%20%20%3Cscript%20src%3D%22https%3A//cdn.jsdelivr.net/npm/vega-lite%405.4.0/build/vega-lite.min.js%22%3E%3C/script%3E%0A%20%20%20%20%3Cscript%20src%3D%22https%3A//cdn.jsdelivr.net/npm/vega-embed%406.21.0/build/vega-embed.min.js%22%3E%3C/script%3E%0A%20%20%20%20%3Ctitle%3E%20Landing%20Page%21%20%3C/title%3E%0A%3C/head%3E%0A%0A%3Cbody%3E%0A%20%20%20%20%3Cdiv%20class%3D%22flex%20flex-col%20h-screen%22%3E%0A%20%20%20%20%20%20%20%20%0A%0A%3Cdiv%20class%3D%22flex%20justify-center%20items-center%22%3E%0A%20%20%20%20%3Cul%20class%3D%22grow%22%3E%0A%20%20%20%20%20%20%20%20%0A%20%20%20%20%20%20%20%20%3Cli%20class%3D%22p-2%22%3E%0A%20%20%20%20%20%20%20%20%20%20%20%20%3C%21--%20Flexbox%20for%20card%2C%20full%20width%2C%20rounded%20with%20shadow%20--%3E%0A%3Cdiv%20class%3D%22relative%22%3E%0A%20%20%20%20%3Cdiv%20class%3D%22absolute%20top-0%20right-0%20bg-slate-50%20hover%3Abg-slate-300%20dark%3Abg-gray-800%20dark%3Ahover%3Abg-gray-900%20rounded-bl-lg%20rounded-tr-lg%22%0A%20%20%20%20%20%20%20%20onclick%3D%22testing%28%60import%20os%0Aimport%20pandas%20as%20pd%0Aimport%20sqlite3%0Aos.system%28%26%2334%3Bwget%20-nc%20%26%2339%3Bhttps%3A//san-francisco.datasettes.com/food-trucks.db%26%2339%3B%20-P%20~/.cache/sketch/%26%2334%3B%29%0Aconn%20%3D%20sqlite3.connect%28%26%2339%3B~/.cache/sketch/food-trucks.db%26%2339%3B%29%0Adf%20%3D%20pd.read_sql_query%28%26%2339%3BSELECT%20id%20FROM%20Applicant%26%2339%3B%2C%20conn%29%0Adf%20%3D%20df%5B%26%2339%3Bid%26%2339%3B%5D%60%29%22%3E%0A%20%20%20%20%20%20%20%20%3Csvg%20class%3D%22h-8%22%20viewbox%3D%220%200%20360%20442%22%3E%0A%20%20%20%20%20%20%20%20%20%20%20%20%3Cg%20fill%3D%22white%22%20stroke%3D%22black%22%20stroke-width%3D%2240%22%3E%0A%20%20%20%20%20%20%20%20%20%20%20%20%20%20%20%20%3Crect%20x%3D%2220%22%20y%3D%2220%22%20rx%3D%2260%22%20ry%3D%2260%22%20width%3D%22200%22%20height%3D%22282%22%20/%3E%0A%20%20%20%20%20%20%20%20%20%20%20%20%20%20%20%20%3Crect%20x%3D%22140%22%20y%3D%22140%22%20rx%3D%2260%22%20ry%3D%2260%22%20width%3D%22200%22%20height%3D%22282%22%20/%3E%0A%20%20%20%20%20%20%20%20%20%20%20%20%3C/g%3E%0A%20%20%20%20%20%20%20%20%3C/svg%3E%0A%20%20%20%20%3C/div%3E%0A%20%20%20%20%3Cdiv%20class%3D%22flex%20flex-row%20items-baseline%20shadow-lg%20justify-center%20bg-slate-50%20dark%3Abg-slate-900%22%3E%0A%20%20%20%20%20%20%20%20%3Cdiv%20class%3D%22grow%20flex%20flex-col%20px-4%20bg-no-repeat%20bg-%5Blength%3A100px_20px%5D%22%20style%3D%22background-image%3A%20url%28%20%20%29%3B%22%3E%0A%20%20%20%20%20%20%20%20%20%20%20%20%3Cdiv%20class%3D%22grow%20flex%20flex-col%20p-4%22%3E%0A%20%20%20%20%20%20%20%20%20%20%20%20%20%20%20%20%3Cdiv%20class%3D%22flex%20flex-row%20space-x-4%20items-center%22%3E%0A%20%20%20%20%20%20%20%20%20%20%20%20%20%20%20%20%20%20%20%20%3Cimg%20class%3D%22h-8%20shadow%20dark%3Abg-slate-300%22%0A%20%20%20%20%20%20%20%20%20%20%20%20%20%20%20%20%20%20%20%20%20%20%20%20src%3D%22http%3A//localhost%3A8000/static/SQLite370.svg%22%0A%20%20%20%20%20%20%20%20%20%20%20%20%20%20%20%20%20%20%20%20%20%20%20%20alt%3D%22Logo%22%20class%3D%22w-8%20h-8%22%3E%0A%20%20%20%20%20%20%20%20%20%20%20%20%20%20%20%20%20%20%20%20%3Ca%20class%3D%22text-l%20font-bold%20overflow-hidden%20w-24%22%20href%3D%22/refernece/5cc641d76c53ed2cd0c164fb4b9ee4c0d894b202333332fdbb2b4dca73c3159e%22%3E%0A%20%20%20%20%20%20%20%20%20%20%20%20%20%20%20%20%20%20%20%20%20%20%20%20ref%3A5cc641d76c53ed2cd0c164fb4b9ee4c0d894b202333332fdbb2b4dca73c3159e%0A%20%20%20%20%20%20%20%20%20%20%20%20%20%20%20%20%20%20%20%20%3C/a%3E%0A%20%20%20%20%20%20%20%20%20%20%20%20%20%20%20%20%3C/div%3E%0A%20%20%20%20%20%20%20%20%20%20%20%20%20%20%20%20%0A%20%20%20%20%20%20%20%20%20%20%20%20%20%20%20%20%3Cdiv%20class%3D%22text-l%20font-bold%22%3Ehttps%3A//san-francisco.datasettes.com/food-trucks.db%3C/div%3E%0A%20%20%20%20%20%20%20%20%20%20%20%20%20%20%20%20%3Cdiv%20class%3D%22grow%20flex%20flex-row%20align-baseline%22%3E%0A%20%20%20%20%20%20%20%20%20%20%20%20%20%20%20%20%20%20%20%20%3Cdiv%20class%3D%22flex%20flex-col%22%3E%0A%20%20%20%20%20%20%20%20%20%20%20%20%20%20%20%20%20%20%20%20%20%20%20%20%3Cdiv%20class%3D%22text-sm%20font-bold%22%3EQuery%3A%3C/div%3E%0A%20%20%20%20%20%20%20%20%20%20%20%20%20%20%20%20%20%20%20%20%20%20%20%20%3Cdiv%20class%3D%22text-xs%20font-bold%22%3EColumn%3A%3C/div%3E%0A%20%20%20%20%20%20%20%20%20%20%20%20%20%20%20%20%20%20%20%20%3C/div%3E%0A%20%20%20%20%20%20%20%20%20%20%20%20%20%20%20%20%20%20%20%20%3Cdiv%20class%3D%22p-2%22%3E%3C/div%3E%0A%20%20%20%20%20%20%20%20%20%20%20%20%20%20%20%20%20%20%20%20%3Cdiv%20class%3D%22flex%20flex-col%22%3E%0A%20%20%20%20%20%20%20%20%20%20%20%20%20%20%20%20%20%20%20%20%20%20%20%20%3Cdiv%20class%3D%22text-sm%20font-semibold%22%3ESELECT%20id%20FROM%20Applicant%3C/div%3E%0A%20%20%20%20%20%20%20%20%20%20%20%20%20%20%20%20%20%20%20%20%20%20%20%20%3Cdiv%20class%3D%22text-xs%20font-semibold%22%3Eid%3C/div%3E%0A%20%20%20%20%20%20%20%20%20%20%20%20%20%20%20%20%20%20%20%20%3C/div%3E%0A%20%20%20%20%20%20%20%20%20%20%20%20%20%20%20%20%3C/div%3E%0A%20%20%20%20%20%20%20%20%20%20%20%20%20%20%20%20%0A%20%20%20%20%20%20%20%20%20%20%20%20%3C/div%3E%0A%0A%20%20%20%20%20%20%20%20%3C/div%3E%0A%20%20%20%20%20%20%20%20%3Cdiv%20class%3D%22flex%20flex-col%20items-end%20px-4%22%3E%0A%20%20%20%20%20%20%20%20%20%20%20%20%3Cp%20class%3D%22text-xl%22%3E%0A%20%20%20%20%20%20%20%20%20%20%20%20%20%20%20%20%3Cspan%20class%3D%22text-sm%20text-cyan-800%22%3E%0A%20%20%20%20%20%20%20%20%20%20%20%20%20%20%20%20%20%20%20%20Est%20%23Uniques%3A%0A%20%20%20%20%20%20%20%20%20%20%20%20%20%20%20%20%3C/span%3E%0A%20%20%20%20%20%20%20%20%20%20%20%20%20%20%20%20137%0A%20%20%20%20%20%20%20%20%20%20%20%20%3C/p%3E%0A%20%20%20%20%20%20%20%20%20%20%20%20%3Cp%20class%3D%22text-xl%22%3E%0A%20%20%20%20%20%20%20%20%20%20%20%20%20%20%20%20%3Cspan%20class%3D%22text-sm%20text-cyan-500%22%3E%0A%20%20%20%20%20%20%20%20%20%20%20%20%20%20%20%20%20%20%20%20Rows%3A%0A%20%20%20%20%20%20%20%20%20%20%20%20%20%20%20%20%3C/span%3E%0A%20%20%20%20%20%20%20%20%20%20%20%20%20%20%20%20131%0A%20%20%20%20%20%20%20%20%20%20%20%20%3C/p%3E%0A%20%20%20%20%20%20%20%20%3C/div%3E%0A%20%20%20%20%3C/div%3E%0A%3C/div%3E%0A%3Cscript%3E%0A%20%20%20%20function%20testing%28text%29%20%7B%0A%20%20%20%20%20%20%20%20navigator.clipboard.writeText%28text%29.then%28function%20%28%29%20%7B%0A%20%20%20%20%20%20%20%20%7D%2C%20function%20%28err%29%20%7B%0A%20%20%20%20%20%20%20%20%20%20%20%20console.error%28%27Async%3A%20Could%20not%20copy%20text%3A%20%27%2C%20err%29%3B%0A%20%20%20%20%20%20%20%20%7D%29%3B%0A%20%20%20%20%7D%0A%3C/script%3E%0A%20%20%20%20%20%20%20%20%3C/li%3E%0A%20%20%20%20%20%20%20%20%0A%20%20%20%20%20%20%20%20%3Cli%20class%3D%22p-2%22%3E%0A%20%20%20%20%20%20%20%20%20%20%20%20%3C%21--%20Flexbox%20for%20card%2C%20full%20width%2C%20rounded%20with%20shadow%20--%3E%0A%3Cdiv%20class%3D%22relative%22%3E%0A%20%20%20%20%3Cdiv%20class%3D%22absolute%20top-0%20right-0%20bg-slate-50%20hover%3Abg-slate-300%20dark%3Abg-gray-800%20dark%3Ahover%3Abg-gray-900%20rounded-bl-lg%20rounded-tr-lg%22%0A%20%20%20%20%20%20%20%20onclick%3D%22testing%28%60import%20os%0Aimport%20pandas%20as%20pd%0Aimport%20sqlite3%0Aconn%20%3D%20sqlite3.connect%28%26%2339%3B../datasets/food-trucks.db%26%2339%3B%29%0Adf%20%3D%20pd.read_sql_query%28%26%2339%3BSELECT%20id%20FROM%20Applicant%26%2339%3B%2C%20conn%29%0Adf%20%3D%20df%5B%26%2339%3Bid%26%2339%3B%5D%60%29%22%3E%0A%20%20%20%20%20%20%20%20%3Csvg%20class%3D%22h-8%22%20viewbox%3D%220%200%20360%20442%22%3E%0A%20%20%20%20%20%20%20%20%20%20%20%20%3Cg%20fill%3D%22white%22%20stroke%3D%22black%22%20stroke-width%3D%2240%22%3E%0A%20%20%20%20%20%20%20%20%20%20%20%20%20%20%20%20%3Crect%20x%3D%2220%22%20y%3D%2220%22%20rx%3D%2260%22%20ry%3D%2260%22%20width%3D%22200%22%20height%3D%22282%22%20/%3E%0A%20%20%20%20%20%20%20%20%20%20%20%20%20%20%20%20%3Crect%20x%3D%22140%22%20y%3D%22140%22%20rx%3D%2260%22%20ry%3D%2260%22%20width%3D%22200%22%20height%3D%22282%22%20/%3E%0A%20%20%20%20%20%20%20%20%20%20%20%20%3C/g%3E%0A%20%20%20%20%20%20%20%20%3C/svg%3E%0A%20%20%20%20%3C/div%3E%0A%20%20%20%20%3Cdiv%20class%3D%22flex%20flex-row%20items-baseline%20shadow-lg%20justify-center%20bg-slate-50%20dark%3Abg-slate-900%22%3E%0A%20%20%20%20%20%20%20%20%3Cdiv%20class%3D%22grow%20flex%20flex-col%20px-4%20bg-no-repeat%20bg-%5Blength%3A100px_20px%5D%22%20style%3D%22background-image%3A%20url%28%20%20%29%3B%22%3E%0A%20%20%20%20%20%20%20%20%20%20%20%20%3Cdiv%20class%3D%22grow%20flex%20flex-col%20p-4%22%3E%0A%20%20%20%20%20%20%20%20%20%20%20%20%20%20%20%20%3Cdiv%20class%3D%22flex%20flex-row%20space-x-4%20items-center%22%3E%0A%20%20%20%20%20%20%20%20%20%20%20%20%20%20%20%20%20%20%20%20%3Cimg%20class%3D%22h-8%20shadow%20dark%3Abg-slate-300%22%0A%20%20%20%20%20%20%20%20%20%20%20%20%20%20%20%20%20%20%20%20%20%20%20%20src%3D%22http%3A//localhost%3A8000/static/SQLite370.svg%22%0A%20%20%20%20%20%20%20%20%20%20%20%20%20%20%20%20%20%20%20%20%20%20%20%20alt%3D%22Logo%22%20class%3D%22w-8%20h-8%22%3E%0A%20%20%20%20%20%20%20%20%20%20%20%20%20%20%20%20%20%20%20%20%3Ca%20class%3D%22text-l%20font-bold%20overflow-hidden%20w-24%22%20href%3D%22/refernece/c4383ec6b0029525e1e9917cd97c11d661f07823e63eae913c090baacce8c0e2%22%3E%0A%20%20%20%20%20%20%20%20%20%20%20%20%20%20%20%20%20%20%20%20%20%20%20%20ref%3Ac4383ec6b0029525e1e9917cd97c11d661f07823e63eae913c090baacce8c0e2%0A%20%20%20%20%20%20%20%20%20%20%20%20%20%20%20%20%20%20%20%20%3C/a%3E%0A%20%20%20%20%20%20%20%20%20%20%20%20%20%20%20%20%3C/div%3E%0A%20%20%20%20%20%20%20%20%20%20%20%20%20%20%20%20%0A%20%20%20%20%20%20%20%20%20%20%20%20%20%20%20%20%3Cdiv%20class%3D%22text-l%20font-bold%22%3E../datasets/food-trucks.db%3C/div%3E%0A%20%20%20%20%20%20%20%20%20%20%20%20%20%20%20%20%3Cdiv%20class%3D%22grow%20flex%20flex-row%20align-baseline%22%3E%0A%20%20%20%20%20%20%20%20%20%20%20%20%20%20%20%20%20%20%20%20%3Cdiv%20class%3D%22flex%20flex-col%22%3E%0A%20%20%20%20%20%20%20%20%20%20%20%20%20%20%20%20%20%20%20%20%20%20%20%20%3Cdiv%20class%3D%22text-sm%20font-bold%22%3EQuery%3A%3C/div%3E%0A%20%20%20%20%20%20%20%20%20%20%20%20%20%20%20%20%20%20%20%20%20%20%20%20%3Cdiv%20class%3D%22text-xs%20font-bold%22%3EColumn%3A%3C/div%3E%0A%20%20%20%20%20%20%20%20%20%20%20%20%20%20%20%20%20%20%20%20%3C/div%3E%0A%20%20%20%20%20%20%20%20%20%20%20%20%20%20%20%20%20%20%20%20%3Cdiv%20class%3D%22p-2%22%3E%3C/div%3E%0A%20%20%20%20%20%20%20%20%20%20%20%20%20%20%20%20%20%20%20%20%3Cdiv%20class%3D%22flex%20flex-col%22%3E%0A%20%20%20%20%20%20%20%20%20%20%20%20%20%20%20%20%20%20%20%20%20%20%20%20%3Cdiv%20class%3D%22text-sm%20font-semibold%22%3ESELECT%20id%20FROM%20Applicant%3C/div%3E%0A%20%20%20%20%20%20%20%20%20%20%20%20%20%20%20%20%20%20%20%20%20%20%20%20%3Cdiv%20class%3D%22text-xs%20font-semibold%22%3Eid%3C/div%3E%0A%20%20%20%20%20%20%20%20%20%20%20%20%20%20%20%20%20%20%20%20%3C/div%3E%0A%20%20%20%20%20%20%20%20%20%20%20%20%20%20%20%20%3C/div%3E%0A%20%20%20%20%20%20%20%20%20%20%20%20%20%20%20%20%0A%20%20%20%20%20%20%20%20%20%20%20%20%3C/div%3E%0A%0A%20%20%20%20%20%20%20%20%3C/div%3E%0A%20%20%20%20%20%20%20%20%3Cdiv%20class%3D%22flex%20flex-col%20items-end%20px-4%22%3E%0A%20%20%20%20%20%20%20%20%20%20%20%20%3Cp%20class%3D%22text-xl%22%3E%0A%20%20%20%20%20%20%20%20%20%20%20%20%20%20%20%20%3Cspan%20class%3D%22text-sm%20text-cyan-800%22%3E%0A%20%20%20%20%20%20%20%20%20%20%20%20%20%20%20%20%20%20%20%20Est%20%23Uniques%3A%0A%20%20%20%20%20%20%20%20%20%20%20%20%20%20%20%20%3C/span%3E%0A%20%20%20%20%20%20%20%20%20%20%20%20%20%20%20%20137%0A%20%20%20%20%20%20%20%20%20%20%20%20%3C/p%3E%0A%20%20%20%20%20%20%20%20%20%20%20%20%3Cp%20class%3D%22text-xl%22%3E%0A%20%20%20%20%20%20%20%20%20%20%20%20%20%20%20%20%3Cspan%20class%3D%22text-sm%20text-cyan-500%22%3E%0A%20%20%20%20%20%20%20%20%20%20%20%20%20%20%20%20%20%20%20%20Rows%3A%0A%20%20%20%20%20%20%20%20%20%20%20%20%20%20%20%20%3C/span%3E%0A%20%20%20%20%20%20%20%20%20%20%20%20%20%20%20%20131%0A%20%20%20%20%20%20%20%20%20%20%20%20%3C/p%3E%0A%20%20%20%20%20%20%20%20%3C/div%3E%0A%20%20%20%20%3C/div%3E%0A%3C/div%3E%0A%3Cscript%3E%0A%20%20%20%20function%20testing%28text%29%20%7B%0A%20%20%20%20%20%20%20%20navigator.clipboard.writeText%28text%29.then%28function%20%28%29%20%7B%0A%20%20%20%20%20%20%20%20%7D%2C%20function%20%28err%29%20%7B%0A%20%20%20%20%20%20%20%20%20%20%20%20console.error%28%27Async%3A%20Could%20not%20copy%20text%3A%20%27%2C%20err%29%3B%0A%20%20%20%20%20%20%20%20%7D%29%3B%0A%20%20%20%20%7D%0A%3C/script%3E%0A%20%20%20%20%20%20%20%20%3C/li%3E%0A%20%20%20%20%20%20%20%20%0A%20%20%20%20%20%20%20%20%3Cli%20class%3D%22p-2%22%3E%0A%20%20%20%20%20%20%20%20%20%20%20%20%3C%21--%20Flexbox%20for%20card%2C%20full%20width%2C%20rounded%20with%20shadow%20--%3E%0A%3Cdiv%20class%3D%22relative%22%3E%0A%20%20%20%20%3Cdiv%20class%3D%22absolute%20top-0%20right-0%20bg-slate-50%20hover%3Abg-slate-300%20dark%3Abg-gray-800%20dark%3Ahover%3Abg-gray-900%20rounded-bl-lg%20rounded-tr-lg%22%0A%20%20%20%20%20%20%20%20onclick%3D%22testing%28%60import%20os%0Aimport%20pandas%20as%20pd%0Aimport%20sqlite3%0Aos.system%28%26%2334%3Bwget%20-nc%20%26%2339%3Bhttps%3A//san-francisco.datasettes.com/food-trucks.db%26%2339%3B%20-P%20~/.cache/sketch/%26%2334%3B%29%0Aconn%20%3D%20sqlite3.connect%28%26%2339%3B~/.cache/sketch/food-trucks.db%26%2339%3B%29%0Adf%20%3D%20pd.read_sql_query%28%26%2339%3BSELECT%20id%20FROM%20block%26%2339%3B%2C%20conn%29%0Adf%20%3D%20df%5B%26%2339%3Bid%26%2339%3B%5D%60%29%22%3E%0A%20%20%20%20%20%20%20%20%3Csvg%20class%3D%22h-8%22%20viewbox%3D%220%200%20360%20442%22%3E%0A%20%20%20%20%20%20%20%20%20%20%20%20%3Cg%20fill%3D%22white%22%20stroke%3D%22black%22%20stroke-width%3D%2240%22%3E%0A%20%20%20%20%20%20%20%20%20%20%20%20%20%20%20%20%3Crect%20x%3D%2220%22%20y%3D%2220%22%20rx%3D%2260%22%20ry%3D%2260%22%20width%3D%22200%22%20height%3D%22282%22%20/%3E%0A%20%20%20%20%20%20%20%20%20%20%20%20%20%20%20%20%3Crect%20x%3D%22140%22%20y%3D%22140%22%20rx%3D%2260%22%20ry%3D%2260%22%20width%3D%22200%22%20height%3D%22282%22%20/%3E%0A%20%20%20%20%20%20%20%20%20%20%20%20%3C/g%3E%0A%20%20%20%20%20%20%20%20%3C/svg%3E%0A%20%20%20%20%3C/div%3E%0A%20%20%20%20%3Cdiv%20class%3D%22flex%20flex-row%20items-baseline%20shadow-lg%20justify-center%20bg-slate-50%20dark%3Abg-slate-900%22%3E%0A%20%20%20%20%20%20%20%20%3Cdiv%20class%3D%22grow%20flex%20flex-col%20px-4%20bg-no-repeat%20bg-%5Blength%3A100px_20px%5D%22%20style%3D%22background-image%3A%20url%28%20%20%29%3B%22%3E%0A%20%20%20%20%20%20%20%20%20%20%20%20%3Cdiv%20class%3D%22grow%20flex%20flex-col%20p-4%22%3E%0A%20%20%20%20%20%20%20%20%20%20%20%20%20%20%20%20%3Cdiv%20class%3D%22flex%20flex-row%20space-x-4%20items-center%22%3E%0A%20%20%20%20%20%20%20%20%20%20%20%20%20%20%20%20%20%20%20%20%3Cimg%20class%3D%22h-8%20shadow%20dark%3Abg-slate-300%22%0A%20%20%20%20%20%20%20%20%20%20%20%20%20%20%20%20%20%20%20%20%20%20%20%20src%3D%22http%3A//localhost%3A8000/static/SQLite370.svg%22%0A%20%20%20%20%20%20%20%20%20%20%20%20%20%20%20%20%20%20%20%20%20%20%20%20alt%3D%22Logo%22%20class%3D%22w-8%20h-8%22%3E%0A%20%20%20%20%20%20%20%20%20%20%20%20%20%20%20%20%20%20%20%20%3Ca%20class%3D%22text-l%20font-bold%20overflow-hidden%20w-24%22%20href%3D%22/refernece/4e55478f4fdbb556e8d7c78625e4ef09555f36a519e00157dd1f9fe0696f7b43%22%3E%0A%20%20%20%20%20%20%20%20%20%20%20%20%20%20%20%20%20%20%20%20%20%20%20%20ref%3A4e55478f4fdbb556e8d7c78625e4ef09555f36a519e00157dd1f9fe0696f7b43%0A%20%20%20%20%20%20%20%20%20%20%20%20%20%20%20%20%20%20%20%20%3C/a%3E%0A%20%20%20%20%20%20%20%20%20%20%20%20%20%20%20%20%3C/div%3E%0A%20%20%20%20%20%20%20%20%20%20%20%20%20%20%20%20%0A%20%20%20%20%20%20%20%20%20%20%20%20%20%20%20%20%3Cdiv%20class%3D%22text-l%20font-bold%22%3Ehttps%3A//san-francisco.datasettes.com/food-trucks.db%3C/div%3E%0A%20%20%20%20%20%20%20%20%20%20%20%20%20%20%20%20%3Cdiv%20class%3D%22grow%20flex%20flex-row%20align-baseline%22%3E%0A%20%20%20%20%20%20%20%20%20%20%20%20%20%20%20%20%20%20%20%20%3Cdiv%20class%3D%22flex%20flex-col%22%3E%0A%20%20%20%20%20%20%20%20%20%20%20%20%20%20%20%20%20%20%20%20%20%20%20%20%3Cdiv%20class%3D%22text-sm%20font-bold%22%3EQuery%3A%3C/div%3E%0A%20%20%20%20%20%20%20%20%20%20%20%20%20%20%20%20%20%20%20%20%20%20%20%20%3Cdiv%20class%3D%22text-xs%20font-bold%22%3EColumn%3A%3C/div%3E%0A%20%20%20%20%20%20%20%20%20%20%20%20%20%20%20%20%20%20%20%20%3C/div%3E%0A%20%20%20%20%20%20%20%20%20%20%20%20%20%20%20%20%20%20%20%20%3Cdiv%20class%3D%22p-2%22%3E%3C/div%3E%0A%20%20%20%20%20%20%20%20%20%20%20%20%20%20%20%20%20%20%20%20%3Cdiv%20class%3D%22flex%20flex-col%22%3E%0A%20%20%20%20%20%20%20%20%20%20%20%20%20%20%20%20%20%20%20%20%20%20%20%20%3Cdiv%20class%3D%22text-sm%20font-semibold%22%3ESELECT%20id%20FROM%20block%3C/div%3E%0A%20%20%20%20%20%20%20%20%20%20%20%20%20%20%20%20%20%20%20%20%20%20%20%20%3Cdiv%20class%3D%22text-xs%20font-semibold%22%3Eid%3C/div%3E%0A%20%20%20%20%20%20%20%20%20%20%20%20%20%20%20%20%20%20%20%20%3C/div%3E%0A%20%20%20%20%20%20%20%20%20%20%20%20%20%20%20%20%3C/div%3E%0A%20%20%20%20%20%20%20%20%20%20%20%20%20%20%20%20%0A%20%20%20%20%20%20%20%20%20%20%20%20%3C/div%3E%0A%0A%20%20%20%20%20%20%20%20%3C/div%3E%0A%20%20%20%20%20%20%20%20%3Cdiv%20class%3D%22flex%20flex-col%20items-end%20px-4%22%3E%0A%20%20%20%20%20%20%20%20%20%20%20%20%3Cp%20class%3D%22text-xl%22%3E%0A%20%20%20%20%20%20%20%20%20%20%20%20%20%20%20%20%3Cspan%20class%3D%22text-sm%20text-cyan-800%22%3E%0A%20%20%20%20%20%20%20%20%20%20%20%20%20%20%20%20%20%20%20%20Est%20%23Uniques%3A%0A%20%20%20%20%20%20%20%20%20%20%20%20%20%20%20%20%3C/span%3E%0A%20%20%20%20%20%20%20%20%20%20%20%20%20%20%20%20462%0A%20%20%20%20%20%20%20%20%20%20%20%20%3C/p%3E%0A%20%20%20%20%20%20%20%20%20%20%20%20%3Cp%20class%3D%22text-xl%22%3E%0A%20%20%20%20%20%20%20%20%20%20%20%20%20%20%20%20%3Cspan%20class%3D%22text-sm%20text-cyan-500%22%3E%0A%20%20%20%20%20%20%20%20%20%20%20%20%20%20%20%20%20%20%20%20Rows%3A%0A%20%20%20%20%20%20%20%20%20%20%20%20%20%20%20%20%3C/span%3E%0A%20%20%20%20%20%20%20%20%20%20%20%20%20%20%20%20414%0A%20%20%20%20%20%20%20%20%20%20%20%20%3C/p%3E%0A%20%20%20%20%20%20%20%20%3C/div%3E%0A%20%20%20%20%3C/div%3E%0A%3C/div%3E%0A%3Cscript%3E%0A%20%20%20%20function%20testing%28text%29%20%7B%0A%20%20%20%20%20%20%20%20navigator.clipboard.writeText%28text%29.then%28function%20%28%29%20%7B%0A%20%20%20%20%20%20%20%20%7D%2C%20function%20%28err%29%20%7B%0A%20%20%20%20%20%20%20%20%20%20%20%20console.error%28%27Async%3A%20Could%20not%20copy%20text%3A%20%27%2C%20err%29%3B%0A%20%20%20%20%20%20%20%20%7D%29%3B%0A%20%20%20%20%7D%0A%3C/script%3E%0A%20%20%20%20%20%20%20%20%3C/li%3E%0A%20%20%20%20%20%20%20%20%0A%20%20%20%20%3C/ul%3E%0A%3C/div%3E%0A%0A%0A%20%20%20%20%3C/div%3E%0A%3C/body%3E%0A%0A%3C/html%3E\"\n",
       "            frameborder=\"0\"\n",
       "            allowfullscreen\n",
       "            scrolling=\"no\"\n",
       "        ></iframe>\n",
       "        "
      ],
      "text/plain": [
       "<IPython.lib.display.IFrame at 0x120f8da50>"
      ]
     },
     "metadata": {},
     "output_type": "display_data"
    }
   ],
   "source": [
    "test.find_joinables_html(apiKey='8f79be2b6d0d47ccb8192e46f38c80ce')"
   ]
  },
  {
   "cell_type": "code",
   "execution_count": 6,
   "id": "c22e52b4-dfd4-4bc6-96cb-38a7ae767cc9",
   "metadata": {},
   "outputs": [],
   "source": [
    "# !pip install sketch"
   ]
  },
  {
   "cell_type": "code",
   "execution_count": null,
   "id": "fbfac2f3-f8ec-476c-9d00-73ee5e49d6c4",
   "metadata": {},
   "outputs": [],
   "source": []
  },
  {
   "cell_type": "code",
   "execution_count": null,
   "id": "b2541274-a11e-4e06-9e05-7a387d56c0c3",
   "metadata": {},
   "outputs": [],
   "source": []
  },
  {
   "cell_type": "code",
   "execution_count": null,
   "id": "2b882043-6e40-4746-96eb-9feef59e944f",
   "metadata": {},
   "outputs": [],
   "source": []
  }
 ],
 "metadata": {
  "kernelspec": {
   "display_name": "Python 3 (ipykernel)",
   "language": "python",
   "name": "python3"
  },
  "language_info": {
   "codemirror_mode": {
    "name": "ipython",
    "version": 3
   },
   "file_extension": ".py",
   "mimetype": "text/x-python",
   "name": "python",
   "nbconvert_exporter": "python",
   "pygments_lexer": "ipython3",
   "version": "3.10.5"
  },
  "vscode": {
   "interpreter": {
    "hash": "1a56c398c352595db7d0130f0fc00eb36e63ee8641ddc16c2e5bdd38e08d5e9b"
   }
  }
 },
 "nbformat": 4,
 "nbformat_minor": 5
}
