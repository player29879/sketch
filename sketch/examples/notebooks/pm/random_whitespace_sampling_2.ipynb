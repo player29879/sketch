{
 "cells": [
  {
   "cell_type": "code",
   "execution_count": null,
   "metadata": {},
   "outputs": [],
   "source": [
    "from sketch.examples.prompt_machine import *\n",
    "PM_SETTINGS[\"VERBOSE\"] = False"
   ]
  },
  {
   "cell_type": "code",
   "execution_count": null,
   "metadata": {},
   "outputs": [],
   "source": [
    "# Test prompt works\n",
    "prompt = asyncGPT3Prompt(\"whitespace_iterations\", \"\"\"{{ head }}{{ body }}\"\"\", temperature=0.0)\n",
    "await prompt(\"      \", \"What is a joke that invovles a hippo?\")"
   ]
  },
  {
   "cell_type": "code",
   "execution_count": null,
   "metadata": {},
   "outputs": [],
   "source": [
    "import random\n",
    "import itertools\n",
    "from itertools import product\n",
    "\n",
    "\n",
    "\n",
    "async def get_n_samples(N, whitespace_char_N, samples=1, body=\"What is a joke that invovles a hippo?\", request_horizontal_limit=10, temperature=0.0, seed=\"testing-potato\"):\n",
    "    prompt = asyncGPT3Prompt(\"whitespace_iterations\", \"\"\"{{ head }}{{ body }}\"\"\", temperature=temperature)\n",
    "    \n",
    "    def get_random_whitespace_sequence(whitespace_char_N):\n",
    "        results = []\n",
    "        for _ in range(0, whitespace_char_N):\n",
    "            r = random.random()\n",
    "            results.append(\" \" if r < 0.33333 else (\"\\t\" if r < 0.66667 else \"\\n\"))\n",
    "        return \"\".join(results)\n",
    "    \n",
    "    def get_batch(whitespace_char_N, seen=None):\n",
    "        seen = seen or set()\n",
    "        if  (3**(whitespace_char_N) - len(seen)) < request_horizontal_limit:\n",
    "            all_possible = set([\"\".join(x) for x in product([\" \", \"\\t\", \"\\n\"], repeat=whitespace_char_N)])\n",
    "            headers = list(all_possible - seen)\n",
    "        else:\n",
    "            headers = set()\n",
    "            while len(headers) < request_horizontal_limit:\n",
    "                header = get_random_whitespace_sequence(whitespace_char_N)\n",
    "                if header not in seen:\n",
    "                    headers.add(header)\n",
    "                    seen.add(header)\n",
    "            headers = list(headers)\n",
    "        print(len(headers))\n",
    "\n",
    "        assert len(headers) > 0, \"Something went wrong\"\n",
    "        \n",
    "        async def get_wrapped(header):\n",
    "            return (header, await prompt(head=header, body=body))\n",
    "    \n",
    "        results = asyncio.gather(*[get_wrapped(header) for header in headers])\n",
    "        return results\n",
    "    \n",
    "    samp = []\n",
    "    for i in range(samples):\n",
    "        random.seed(seed)\n",
    "        results = []\n",
    "        while (len(results) < N) and (len(results) < 3**whitespace_char_N):\n",
    "            print(whitespace_char_N)\n",
    "            new_results = await get_batch(whitespace_char_N, seen=set([x[0] for x in results]))\n",
    "            for j, (header, result) in enumerate(new_results):\n",
    "                print(f\"==== {len(results)+j:05d}/~{N:05d}\\nHeader:{repr(header)}\\nResult:\\n{repr(result)}\\n====\")\n",
    "                results.append((header, result))\n",
    "        samp.append(results)\n",
    "    return samp\n"
   ]
  },
  {
   "cell_type": "code",
   "execution_count": null,
   "metadata": {},
   "outputs": [],
   "source": [
    "results = []\n",
    "for i in [0, 1, 2, 3, 4, 8, 12, 16, 32, 64, 128, 256, 512, 1024, 2048]:\n",
    "    results.append(await get_n_samples(40, i, samples=1))"
   ]
  },
  {
   "cell_type": "code",
   "execution_count": null,
   "metadata": {},
   "outputs": [],
   "source": [
    "for run in results:\n",
    "    unique_inputs = set([header for header, _ in run[0]])\n",
    "    unique_outputs = set([result for _, result in run[0]])\n",
    "    avg_whitespace = sum([len(header) for header, output in run[0]]) / len(run[0])\n",
    "    hippo_cross = sum([1 for header, output in run[0] if \"Why did the hippo cross the road?\" in output])\n",
    "    empty_headers = sum([1 for header, output in run[0] if header == \"\"])\n",
    "    print({\"avg_whitespace\": avg_whitespace, \"hippo_cross\": hippo_cross, \"empty_prompt\": empty_headers, \"total\": len(run[0]), \"unique_inputs\": len(unique_inputs), \"unique_outputs\": len(unique_outputs)})"
   ]
  },
  {
   "cell_type": "code",
   "execution_count": null,
   "metadata": {},
   "outputs": [],
   "source": [
    "from collections import defaultdict\n",
    "\n",
    "\n",
    "def get_unique_counts(rr, input_filter = lambda *_: True, output_filter = lambda *_: True):\n",
    "    unique_inputs = set([header for header, _ in rr if input_filter(header)])\n",
    "    unique_outputs = set([result.strip() for _, result in rr if output_filter(result)])\n",
    "    return (len(unique_inputs), len(unique_outputs))\n",
    "\n",
    "def get_unique_without_hippo(rr, input_filter = lambda*_: True, output_filter= lambda *_: True):\n",
    "    return get_unique_counts(rr, input_filter=input_filter, output_filter=output_filter)\n",
    "\n",
    "def get_unique_output_without_hippo(rr, input_filter = lambda*_: True, output_filter= lambda *_: True):\n",
    "    return get_unique_without_hippo(rr, input_filter=input_filter, output_filter=output_filter)[1]\n",
    "\n",
    "\n",
    "def get_stacks(x, y, levels=20):\n",
    "    y_max = max(y)\n",
    "    # assume y_min = 0\n",
    "    # assume x is sorted.\n",
    "    stacks = defaultdict(dict)\n",
    "    for x_i, y_i in zip(x, y):\n",
    "        for i in range(levels):\n",
    "            if y_i > (i / levels) * y_max:\n",
    "                stacks[i][x_i] = \"*\"\n",
    "            else:\n",
    "                stacks[i][x_i] = \" \"\n",
    "    return stacks\n",
    "\n",
    "def print_stacks(xvals, yvals, title=\"\", x_axis_label=\"\"):\n",
    "    x_labels = \" \"*10 + \"  \".join([f\"{yval:>07.2f}\" for yval in xvals])\n",
    "    if title:\n",
    "        left_pad = (len(x_labels) - len(title))//2\n",
    "        print(\"=\"*len(x_labels))\n",
    "        print(\" \"*left_pad + title)\n",
    "        print(\"=\"*len(x_labels))\n",
    "    stacks = get_stacks(xvals, yvals)\n",
    "    max_yval = max(yvals)\n",
    "    for res in reversed(stacks):\n",
    "        print(f\"{res*max_yval/len(stacks):>9.4f}\", end=\"\")\n",
    "        for aws in stacks[res]:\n",
    "            print(f\" {stacks[res][aws] * 7} \", end=\"\")\n",
    "        print()\n",
    "    print(x_labels)\n",
    "    if x_axis_label:\n",
    "        left_pad = (len(x_labels) - len(x_axis_label))//2\n",
    "        print(\" \"*left_pad + x_axis_label)\n",
    "\n",
    "\n",
    "output_filter = lambda output: \"Why did the hippo cross the road?\" not in output\n",
    "xvals = [sum([len(header) for header, output in run[0]]) / len(run[0]) for run in results]\n",
    "yvals = [get_unique_output_without_hippo(run[0], output_filter=output_filter) for run in results]\n",
    "print_stacks(xvals, yvals, title=\"Number of unique output.strip() continuations generated (T = 0 K)\", x_axis_label=\"Number of leading space whitespace characters {`\\\\n`, `\\\\t`, ` `}\")\n",
    "\n",
    "xvals = [sum([len(header) for header, output in run[0]]) / len(run[0]) for run in results]\n",
    "yvals = [get_unique_without_hippo(run[0], output_filter=output_filter)[1] / get_unique_without_hippo(run[0], output_filter=output_filter)[0] for run in results]\n",
    "print_stacks(xvals, yvals, title=\"Ratio of output.strip() in this size that are novel (unique out / unique in) (T = 0 K)\", x_axis_label=\"Number of leading space whitespace characters {`\\\\n`, `\\\\t`, ` `}\")"
   ]
  },
  {
   "cell_type": "code",
   "execution_count": null,
   "metadata": {},
   "outputs": [],
   "source": [
    "seen = set()\n",
    "for run in results:\n",
    "    new_responses = set([x.strip() for x in set(y[1] for y in run[0]) if output_filter(x)])\n",
    "    print(len(run[0][0][0]), len(new_responses))\n",
    "    print(\"\\n----\\n\".join(new_responses))\n",
    "    seen |= new_responses"
   ]
  },
  {
   "cell_type": "code",
   "execution_count": null,
   "metadata": {},
   "outputs": [],
   "source": [
    "# jupyter nbconvert --to html --execute random_whitespace_sampling.ipynb\n",
    "# change the file `random_whitespace_sampling.html` to `random_whitespace_sampling_{date}.html` and commit it to the repo\n",
    "! jupyter nbconvert --to html random_whitespace_sampling_2.ipynb && mv random_whitespace_sampling_2.html random_whitespace_sampling_2_$(date -u +\"%Y-%m-%dT%H:%M:%SZ\").html"
   ]
  },
  {
   "cell_type": "markdown",
   "metadata": {},
   "source": []
  },
  {
   "cell_type": "code",
   "execution_count": null,
   "metadata": {},
   "outputs": [],
   "source": []
  },
  {
   "cell_type": "code",
   "execution_count": null,
   "metadata": {},
   "outputs": [],
   "source": []
  }
 ],
 "metadata": {
  "kernelspec": {
   "display_name": "Python 3.10.5 64-bit ('sketch': pyenv)",
   "language": "python",
   "name": "python3"
  },
  "language_info": {
   "codemirror_mode": {
    "name": "ipython",
    "version": 3
   },
   "file_extension": ".py",
   "mimetype": "text/x-python",
   "name": "python",
   "nbconvert_exporter": "python",
   "pygments_lexer": "ipython3",
   "version": "3.10.5"
  },
  "vscode": {
   "interpreter": {
    "hash": "adcb619b33f588203bb576ea56ee3c20c6d0d8de6f18aca777331501d8e7497b"
   }
  }
 },
 "nbformat": 4,
 "nbformat_minor": 2
}
