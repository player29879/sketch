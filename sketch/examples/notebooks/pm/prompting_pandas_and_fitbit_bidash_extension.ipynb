{
 "cells": [
  {
   "cell_type": "code",
   "execution_count": null,
   "metadata": {},
   "outputs": [],
   "source": [
    "# this was just a lot of ideas, and i wanted a place to write it down. A journal of sorts i guess."
   ]
  },
  {
   "cell_type": "code",
   "execution_count": null,
   "metadata": {},
   "outputs": [],
   "source": [
    "# okay, the first one is a quick function / utility. \n",
    "# this if made super easy (import sketch as sk; sk.Init(sk.openAI('1234'))) \n",
    "# then you can do df.groupby('state').apply(sk.prompt(\"Colors for NBA fans in Zion: [0xF12C2FE, 0x012345]\\nColors for NBA fans in {{ state }}:\"))\n",
    "# ## sk.prompts have a \"clean\" built in, that ensures structure is right. In this example, it infers that it should be a list of colors (in hex)\n",
    "# sk.__get_total_number_of_users(..)\n",
    "\n",
    "# not all prompts work. There is a \"fee\" on openAI per fill-in, so there's a billing thing there\n",
    "# can offer \"Reduced billing\" (if it's known that most prompts that come in can be run as batches)\n",
    "# eg. those that are run behind pandas like this, are more likely to have a \"parallelizable\" \"apply\" structure.\n",
    "# those (i think) are cheaper to run - based on the \"run inference as fast as possible\" libraries which have \"batch sized based scaling\" aparently (linear in that is 'almost free', it's a trade-off dimension?)\n",
    "# so, if you have a prompt that is \"batchable\" (like this one) you can get a discount on the \"fill-in\" cost.\n",
    "\n",
    "# so, the next one is a \"fitbit\" dashboard.\n",
    "# this is a bit more complicated, but it's a good example of how to use the \"sketch\" library to build a dashboard. -> edit / append to, a dashboard\n",
    "\n",
    "# could lean into the idea of \"sketch\" (draw on top of, add a sketch-pad on top, that's a 'digital sandbox' that you can move and put shapes in?? lol, im stretching here, doesn't work really)"
   ]
  },
  {
   "cell_type": "code",
   "execution_count": null,
   "metadata": {},
   "outputs": [],
   "source": [
    "from sketch.examples.prompt_machine import *\n",
    "\n",
    "import pandas as pd"
   ]
  },
  {
   "cell_type": "code",
   "execution_count": null,
   "metadata": {},
   "outputs": [],
   "source": [
    "# Data search code\n",
    "\n",
    "# load any data you want (including using st helper functions)\n",
    "state_data = pd.read_html('https://en.wikipedia.org/wiki/List_of_states_and_territories_of_the_United_States')[1]\n",
    "state_data.columns = state_data.columns.to_flat_index()\n",
    "state_names = state_data[state_data.columns[0]]"
   ]
  },
  {
   "cell_type": "code",
   "execution_count": null,
   "metadata": {},
   "outputs": [],
   "source": [
    "state_names.head()"
   ]
  },
  {
   "cell_type": "code",
   "execution_count": null,
   "metadata": {},
   "outputs": [],
   "source": [
    "result = state_names.apply(\n",
    "    lambda x: GPT3Prompt(\n",
    "        \"get_colors_for_state\",\n",
    "        \"Colors for NBA fans in {{ state }} (as a list of hex tuple, eg. (0xF1F1F1, ...)): (0x\"\n",
    "        )(state=x)\n",
    ")"
   ]
  },
  {
   "cell_type": "code",
   "execution_count": null,
   "metadata": {},
   "outputs": [],
   "source": [
    "# Let's color some maps with the colors we got from GPT-3 (from a language)\n",
    "# oh no, choices error."
   ]
  },
  {
   "cell_type": "code",
   "execution_count": null,
   "metadata": {},
   "outputs": [],
   "source": [
    "#  convert  `F1F1F1, 0xF1F1F1, 0xF1F1F1, 0xF1F1F1, 0xF1F1F1)` -> [F1F1F1, F1F1F1, F1F1F1, F1F1F1, F1F1F1]\n",
    "# 1                   or        `BD1021, 0x002244, 0xFDB927)` -> [BD1021, 002244, FDB927]`\n",
    "\n",
    "def clean_colors(x):\n",
    "    x = x.replace('(', '').replace(')', '').replace(' ', '').replace('0x', '')\n",
    "    return [y for y in x.split(',') if len(y) == 6]"
   ]
  },
  {
   "cell_type": "code",
   "execution_count": null,
   "metadata": {},
   "outputs": [],
   "source": [
    "colors_as_list = result.apply(clean_colors)"
   ]
  },
  {
   "cell_type": "code",
   "execution_count": null,
   "metadata": {},
   "outputs": [],
   "source": [
    "import altair as alt\n",
    "\n",
    "state_names # state names is a a list of state names like \"Alabama\"\n",
    "colors_as_list # is a pandas series that has colors in a list format [\"F1F2F3\", \"C1C2C3\"]\n",
    "\n",
    "alt.Chart(state_names).mark_geoshape().encode(\n",
    "    color=alt.Color('state:N', scale=alt.Scale(domain=state_names, range=colors_as_list))\n",
    ").project(\n",
    "    type='albersUsa'\n",
    ")"
   ]
  },
  {
   "cell_type": "code",
   "execution_count": null,
   "metadata": {},
   "outputs": [],
   "source": []
  }
 ],
 "metadata": {
  "kernelspec": {
   "display_name": "Python 3.10.5 64-bit ('sketch')",
   "language": "python",
   "name": "python3"
  },
  "language_info": {
   "codemirror_mode": {
    "name": "ipython",
    "version": 3
   },
   "file_extension": ".py",
   "mimetype": "text/x-python",
   "name": "python",
   "nbconvert_exporter": "python",
   "pygments_lexer": "ipython3",
   "version": "3.10.5"
  },
  "vscode": {
   "interpreter": {
    "hash": "1a56c398c352595db7d0130f0fc00eb36e63ee8641ddc16c2e5bdd38e08d5e9b"
   }
  }
 },
 "nbformat": 4,
 "nbformat_minor": 2
}
