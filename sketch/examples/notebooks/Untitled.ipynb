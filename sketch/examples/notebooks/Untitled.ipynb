{
 "cells": [
  {
   "cell_type": "code",
   "execution_count": 1,
   "id": "2f8b42a8-ef2c-4daa-a6a5-f297037b1590",
   "metadata": {},
   "outputs": [
    {
     "name": "stderr",
     "output_type": "stream",
     "text": [
      "File ‘/Users/jawaugh/.cache/sketch/food-trucks.db’ already there; not retrieving.\n",
      "\n"
     ]
    }
   ],
   "source": [
    "import os\n",
    "import pandas as pd\n",
    "import sqlite3\n",
    "os.system(\"wget -nc 'https://san-francisco.datasettes.com/food-trucks.db' -P ~/.cache/sketch/\")\n",
    "conn = sqlite3.connect('~/.cache/sketch/food-trucks.db')\n",
    "df = pd.read_sql_query('SELECT LocationDescription FROM Mobile_Food_Facility_Permit', conn)\n",
    "df = df['LocationDescription']"
   ]
  },
  {
   "cell_type": "code",
   "execution_count": 2,
   "id": "37641d60-5395-476c-a412-c6ecbefab4c3",
   "metadata": {},
   "outputs": [
    {
     "data": {
      "text/plain": [
       "0            FOLSOM ST: 14TH ST to 15TH ST (1800 - 1899)\n",
       "1      INDUSTRIAL ST: PALOU AVE to QUESADA AVE (51 - ...\n",
       "2      VALENCIA ST: ROSA PARKS LN to 15TH ST (338 - 399)\n",
       "3      MARKET ST: 01ST ST \\ BUSH ST to 02ND ST (501 -...\n",
       "4      WILLIAMS AVE: APOLLO ST to PHELPS ST \\ VESTA S...\n",
       "                             ...                        \n",
       "668           12TH ST: ISIS ST to BERNICE ST (332 - 365)\n",
       "669         MISSION ST: 19TH ST to 20TH ST (2300 - 2399)\n",
       "670                 01ST ST: END to MISSION ST (72 - 99)\n",
       "671                                                 None\n",
       "672     MISSION ST: 17TH ST to CLARION ALY (2100 - 2131)\n",
       "Name: LocationDescription, Length: 673, dtype: object"
      ]
     },
     "execution_count": 2,
     "metadata": {},
     "output_type": "execute_result"
    }
   ],
   "source": [
    "df"
   ]
  },
  {
   "cell_type": "code",
   "execution_count": null,
   "id": "5764361c-33b3-4513-aecf-0551cfffb3b6",
   "metadata": {},
   "outputs": [],
   "source": []
  }
 ],
 "metadata": {
  "kernelspec": {
   "display_name": "Python 3 (ipykernel)",
   "language": "python",
   "name": "python3"
  },
  "language_info": {
   "codemirror_mode": {
    "name": "ipython",
    "version": 3
   },
   "file_extension": ".py",
   "mimetype": "text/x-python",
   "name": "python",
   "nbconvert_exporter": "python",
   "pygments_lexer": "ipython3",
   "version": "3.10.5"
  }
 },
 "nbformat": 4,
 "nbformat_minor": 5
}
