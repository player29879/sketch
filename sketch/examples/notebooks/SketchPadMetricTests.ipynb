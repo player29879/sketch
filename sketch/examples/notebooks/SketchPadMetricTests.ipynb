{
 "cells": [
  {
   "cell_type": "code",
   "execution_count": 1,
   "metadata": {},
   "outputs": [],
   "source": [
    "sqlite_example = \"/home/jawaugh/benchmarks/raw/cosql_dataset/cosql_dataset/database/e_government/e_government.sqlite\""
   ]
  },
  {
   "cell_type": "code",
   "execution_count": 2,
   "metadata": {},
   "outputs": [
    {
     "data": {
      "text/plain": [
       "<sketch.core.Portfolio at 0x7f4467184d60>"
      ]
     },
     "execution_count": 2,
     "metadata": {},
     "output_type": "execute_result"
    }
   ],
   "source": [
    "import sketch\n",
    "\n",
    "pf = sketch.core.Portfolio()\n",
    "pf.add_sqlite(sqlite_example)"
   ]
  },
  {
   "cell_type": "code",
   "execution_count": 3,
   "metadata": {},
   "outputs": [],
   "source": [
    "# test = pf.get_sketchpad_by_reference_id('37915b9654563dfc9fe740384b0c713014b3bbbb18d7ec4ceb0a69965e4e9113')"
   ]
  },
  {
   "cell_type": "code",
   "execution_count": 4,
   "metadata": {},
   "outputs": [],
   "source": [
    "# [x.get_sketchdata_by_name(\"HyperLogLog\").count() for x in pf.sketchpads.values()]"
   ]
  },
  {
   "cell_type": "code",
   "execution_count": 5,
   "metadata": {},
   "outputs": [
    {
     "ename": "AttributeError",
     "evalue": "'datasketches.var_opt_sketch' object has no attribute 'serialize'",
     "output_type": "error",
     "traceback": [
      "\u001b[0;31m---------------------------------------------------------------------------\u001b[0m",
      "\u001b[0;31mAttributeError\u001b[0m                            Traceback (most recent call last)",
      "\u001b[1;32m/home/jawaugh/sketch/sketch/examples/notebooks/SketchPadMetricTests.ipynb Cell 5\u001b[0m in \u001b[0;36m<cell line: 4>\u001b[0;34m()\u001b[0m\n\u001b[1;32m      <a href='vscode-notebook-cell://ssh-remote%2B20.25.72.215/home/jawaugh/sketch/sketch/examples/notebooks/SketchPadMetricTests.ipynb#W4sdnNjb2RlLXJlbW90ZQ%3D%3D?line=0'>1</a>\u001b[0m \u001b[39mimport\u001b[39;00m \u001b[39mdatasketches\u001b[39;00m\n\u001b[1;32m      <a href='vscode-notebook-cell://ssh-remote%2B20.25.72.215/home/jawaugh/sketch/sketch/examples/notebooks/SketchPadMetricTests.ipynb#W4sdnNjb2RlLXJlbW90ZQ%3D%3D?line=2'>3</a>\u001b[0m test \u001b[39m=\u001b[39m \u001b[39mnext\u001b[39m(\u001b[39miter\u001b[39m(pf\u001b[39m.\u001b[39msketchpads\u001b[39m.\u001b[39mvalues()))\n\u001b[0;32m----> <a href='vscode-notebook-cell://ssh-remote%2B20.25.72.215/home/jawaugh/sketch/sketch/examples/notebooks/SketchPadMetricTests.ipynb#W4sdnNjb2RlLXJlbW90ZQ%3D%3D?line=3'>4</a>\u001b[0m wow \u001b[39m=\u001b[39m sketch\u001b[39m.\u001b[39mSketchPad\u001b[39m.\u001b[39mfrom_dict(test\u001b[39m.\u001b[39;49mto_dict())\n\u001b[1;32m      <a href='vscode-notebook-cell://ssh-remote%2B20.25.72.215/home/jawaugh/sketch/sketch/examples/notebooks/SketchPadMetricTests.ipynb#W4sdnNjb2RlLXJlbW90ZQ%3D%3D?line=5'>6</a>\u001b[0m ds \u001b[39m=\u001b[39m wow\u001b[39m.\u001b[39mget_sketchdata_by_name(\u001b[39m\"\u001b[39m\u001b[39mDS_HLL\u001b[39m\u001b[39m\"\u001b[39m)\n\u001b[1;32m      <a href='vscode-notebook-cell://ssh-remote%2B20.25.72.215/home/jawaugh/sketch/sketch/examples/notebooks/SketchPadMetricTests.ipynb#W4sdnNjb2RlLXJlbW90ZQ%3D%3D?line=6'>7</a>\u001b[0m \u001b[39mprint\u001b[39m(\u001b[39m\"\u001b[39m\u001b[39m=HLL=\u001b[39m\u001b[39m\"\u001b[39m\u001b[39m.\u001b[39mljust(\u001b[39m12\u001b[39m, \u001b[39m\"\u001b[39m\u001b[39m \u001b[39m\u001b[39m\"\u001b[39m), ds\u001b[39m.\u001b[39mget_lower_bound(\u001b[39m2\u001b[39m), ds\u001b[39m.\u001b[39mget_upper_bound(\u001b[39m2\u001b[39m), ds\u001b[39m.\u001b[39mget_estimate())\n",
      "File \u001b[0;32m~/sketch/sketch/core.py:80\u001b[0m, in \u001b[0;36mSketchPad.to_dict\u001b[0;34m(self)\u001b[0m\n\u001b[1;32m     75\u001b[0m \u001b[39mdef\u001b[39;00m \u001b[39mto_dict\u001b[39m(\u001b[39mself\u001b[39m):\n\u001b[1;32m     76\u001b[0m     \u001b[39mreturn\u001b[39;00m {\n\u001b[1;32m     77\u001b[0m         \u001b[39m\"\u001b[39m\u001b[39mversion\u001b[39m\u001b[39m\"\u001b[39m: \u001b[39mself\u001b[39m\u001b[39m.\u001b[39mversion,\n\u001b[1;32m     78\u001b[0m         \u001b[39m\"\u001b[39m\u001b[39mmetadata\u001b[39m\u001b[39m\"\u001b[39m: \u001b[39mself\u001b[39m\u001b[39m.\u001b[39mmetadata,\n\u001b[1;32m     79\u001b[0m         \u001b[39m\"\u001b[39m\u001b[39mreference\u001b[39m\u001b[39m\"\u001b[39m: \u001b[39mself\u001b[39m\u001b[39m.\u001b[39mreference\u001b[39m.\u001b[39mto_dict(),\n\u001b[0;32m---> 80\u001b[0m         \u001b[39m\"\u001b[39m\u001b[39msketches\u001b[39m\u001b[39m\"\u001b[39m: [s\u001b[39m.\u001b[39mto_dict() \u001b[39mfor\u001b[39;00m s \u001b[39min\u001b[39;00m \u001b[39mself\u001b[39m\u001b[39m.\u001b[39msketches],\n\u001b[1;32m     81\u001b[0m         \u001b[39m\"\u001b[39m\u001b[39mcontext\u001b[39m\u001b[39m\"\u001b[39m: \u001b[39mself\u001b[39m\u001b[39m.\u001b[39mcontext,\n\u001b[1;32m     82\u001b[0m     }\n",
      "File \u001b[0;32m~/sketch/sketch/core.py:80\u001b[0m, in \u001b[0;36m<listcomp>\u001b[0;34m(.0)\u001b[0m\n\u001b[1;32m     75\u001b[0m \u001b[39mdef\u001b[39;00m \u001b[39mto_dict\u001b[39m(\u001b[39mself\u001b[39m):\n\u001b[1;32m     76\u001b[0m     \u001b[39mreturn\u001b[39;00m {\n\u001b[1;32m     77\u001b[0m         \u001b[39m\"\u001b[39m\u001b[39mversion\u001b[39m\u001b[39m\"\u001b[39m: \u001b[39mself\u001b[39m\u001b[39m.\u001b[39mversion,\n\u001b[1;32m     78\u001b[0m         \u001b[39m\"\u001b[39m\u001b[39mmetadata\u001b[39m\u001b[39m\"\u001b[39m: \u001b[39mself\u001b[39m\u001b[39m.\u001b[39mmetadata,\n\u001b[1;32m     79\u001b[0m         \u001b[39m\"\u001b[39m\u001b[39mreference\u001b[39m\u001b[39m\"\u001b[39m: \u001b[39mself\u001b[39m\u001b[39m.\u001b[39mreference\u001b[39m.\u001b[39mto_dict(),\n\u001b[0;32m---> 80\u001b[0m         \u001b[39m\"\u001b[39m\u001b[39msketches\u001b[39m\u001b[39m\"\u001b[39m: [s\u001b[39m.\u001b[39;49mto_dict() \u001b[39mfor\u001b[39;00m s \u001b[39min\u001b[39;00m \u001b[39mself\u001b[39m\u001b[39m.\u001b[39msketches],\n\u001b[1;32m     81\u001b[0m         \u001b[39m\"\u001b[39m\u001b[39mcontext\u001b[39m\u001b[39m\"\u001b[39m: \u001b[39mself\u001b[39m\u001b[39m.\u001b[39mcontext,\n\u001b[1;32m     82\u001b[0m     }\n",
      "File \u001b[0;32m~/sketch/sketch/sketches.py:41\u001b[0m, in \u001b[0;36mSketchBase.to_dict\u001b[0;34m(self)\u001b[0m\n\u001b[1;32m     40\u001b[0m \u001b[39mdef\u001b[39;00m \u001b[39mto_dict\u001b[39m(\u001b[39mself\u001b[39m):\n\u001b[0;32m---> 41\u001b[0m     \u001b[39mreturn\u001b[39;00m {\u001b[39m\"\u001b[39m\u001b[39mname\u001b[39m\u001b[39m\"\u001b[39m: \u001b[39mself\u001b[39m\u001b[39m.\u001b[39m\u001b[39m__class__\u001b[39m\u001b[39m.\u001b[39m\u001b[39m__name__\u001b[39m, \u001b[39m\"\u001b[39m\u001b[39mdata\u001b[39m\u001b[39m\"\u001b[39m: \u001b[39mself\u001b[39;49m\u001b[39m.\u001b[39;49mpack()}\n",
      "File \u001b[0;32m~/sketch/sketch/sketches.py:262\u001b[0m, in \u001b[0;36mDS_VO.pack\u001b[0;34m(self)\u001b[0m\n\u001b[1;32m    261\u001b[0m \u001b[39mdef\u001b[39;00m \u001b[39mpack\u001b[39m(\u001b[39mself\u001b[39m):\n\u001b[0;32m--> 262\u001b[0m     \u001b[39mreturn\u001b[39;00m base64\u001b[39m.\u001b[39mb64encode(\u001b[39mself\u001b[39;49m\u001b[39m.\u001b[39;49mdata\u001b[39m.\u001b[39;49mserialize(datasketch\u001b[39m.\u001b[39mPyStringsSerDe()))\u001b[39m.\u001b[39mdecode(\u001b[39m\"\u001b[39m\u001b[39mutf-8\u001b[39m\u001b[39m\"\u001b[39m)\n",
      "\u001b[0;31mAttributeError\u001b[0m: 'datasketches.var_opt_sketch' object has no attribute 'serialize'"
     ]
    }
   ],
   "source": [
    "import datasketches\n",
    "\n",
    "test = next(iter(pf.sketchpads.values()))\n",
    "wow = sketch.SketchPad.from_dict(test.to_dict())\n",
    "\n",
    "ds = wow.get_sketchdata_by_name(\"DS_HLL\")\n",
    "print(\"=HLL=\".ljust(12, \" \"), ds.get_lower_bound(2), ds.get_upper_bound(2), ds.get_estimate())\n",
    "\n",
    "ds = wow.get_sketchdata_by_name(\"DS_CPC\")\n",
    "print(\"=CPC=\".ljust(12, \" \"), ds.get_lower_bound(2), ds.get_upper_bound(2), ds.get_estimate())\n",
    "\n",
    "ds = wow.get_sketchdata_by_name(\"DS_FI\")\n",
    "print(\"=FI=\".ljust(12, \" \"), ds.get_frequent_items(datasketches.frequent_items_error_type.NO_FALSE_POSITIVES), ds.get_frequent_items(datasketches.frequent_items_error_type.NO_FALSE_NEGATIVES))\n",
    "\n",
    "ds = wow.get_sketchdata_by_name(\"DS_KLL\")\n",
    "print(\"=KLL=\".ljust(12, \" \"), ds.get_quantile(0.5), ds.get_quantile(0.9), ds.get_quantile(0.99))\n",
    "\n",
    "ds = wow.get_sketchdata_by_name(\"DS_Quantiles\")\n",
    "print(\"=Quantiles=\".ljust(12, \" \"), ds.get_quantile(0.5), ds.get_quantile(0.9), ds.get_quantile(0.99))\n",
    "\n",
    "ds = wow.get_sketchdata_by_name(\"DS_REQ\")\n",
    "print(\"=REQ=\".ljust(12, \" \"), ds.get_rank(5), ds.get_quantile(0.5), ds.get_min_value(), ds.get_max_value())\n",
    "\n",
    "ds = wow.get_sketchdata_by_name(\"DS_THETA\")\n",
    "print(\"=Theta=\".ljust(12, \" \"), ds.get_lower_bound(2), ds.get_upper_bound(2), ds.get_estimate())\n",
    "\n",
    "ds = wow.get_sketchdata_by_name(\"DS_VO\")\n",
    "print(\"=VO=\".ljust(12, \" \"), ds.to_string(True))\n",
    "\n",
    "ds = wow.get_sketchdata_by_name(\"UnicodeMatches\")\n",
    "print(\"=UnicodeMatches=\".ljust(12, \" \"), str(ds))"
   ]
  },
  {
   "cell_type": "code",
   "execution_count": null,
   "metadata": {},
   "outputs": [],
   "source": []
  },
  {
   "cell_type": "markdown",
   "metadata": {},
   "source": []
  },
  {
   "cell_type": "code",
   "execution_count": null,
   "metadata": {},
   "outputs": [],
   "source": []
  },
  {
   "cell_type": "code",
   "execution_count": null,
   "metadata": {},
   "outputs": [],
   "source": []
  }
 ],
 "metadata": {
  "kernelspec": {
   "display_name": "Python 3.10.5 ('shims': virtualenv)",
   "language": "python",
   "name": "python3"
  },
  "language_info": {
   "codemirror_mode": {
    "name": "ipython",
    "version": 3
   },
   "file_extension": ".py",
   "mimetype": "text/x-python",
   "name": "python",
   "nbconvert_exporter": "python",
   "pygments_lexer": "ipython3",
   "version": "3.10.5"
  },
  "vscode": {
   "interpreter": {
    "hash": "1c0f2ed01f2d65ba46139126d92ee60a218303d6d7af19c1873d0061d56dd84d"
   }
  }
 },
 "nbformat": 4,
 "nbformat_minor": 2
}
