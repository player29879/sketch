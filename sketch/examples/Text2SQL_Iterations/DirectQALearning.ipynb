{
 "cells": [
  {
   "cell_type": "code",
   "execution_count": null,
   "metadata": {},
   "outputs": [],
   "source": [
    "import faiss\n",
    "import os\n",
    "import sketch\n",
    "\n",
    "# import datasketches\n",
    "# import numpy as np\n",
    "# import pandas as pd\n",
    "0\n",
    "basepath = \"/home/jawaugh/\""
   ]
  },
  {
   "cell_type": "code",
   "execution_count": null,
   "metadata": {},
   "outputs": [],
   "source": [
    "#  Iterate through all subfolders of a path and return all sqlite files\n",
    "\n",
    "def get_sqlite_files(path):\n",
    "    sqlite_files = []\n",
    "    for root, dirs, files in os.walk(path):\n",
    "        for file in files:\n",
    "            if file.endswith(\".sqlite\"):\n",
    "                sqlite_files.append(os.path.join(root, file))\n",
    "    return sqlite_files\n"
   ]
  },
  {
   "cell_type": "code",
   "execution_count": null,
   "metadata": {},
   "outputs": [],
   "source": [
    "all_sqlite = get_sqlite_files(os.path.join(basepath, \"benchmarks\"))\n",
    "print(len(all_sqlite))"
   ]
  },
  {
   "cell_type": "code",
   "execution_count": null,
   "metadata": {},
   "outputs": [],
   "source": [
    "from sketch.core import Portfolio\n",
    "\n",
    "#  Create a portfolio from all the sqlite files\n",
    "pf = Portfolio()\n",
    "\n",
    "for i, sqlite_file in enumerate(all_sqlite):\n",
    "    try:\n",
    "        pf.add_sqlite(sqlite_file)\n",
    "    except:\n",
    "        print(f\"Failed to add {sqlite_file}\")\n",
    "        raise"
   ]
  },
  {
   "cell_type": "code",
   "execution_count": null,
   "metadata": {},
   "outputs": [],
   "source": [
    "# 14.1 s for 50 sqlite files\n",
    "# 16.9 s for 50 sqlite files (+ DS_HLL)\n",
    "# 18.5 s for 50 sqlite files (+ DS_HLL + DS_CPC)\n",
    "# 32.7 s for 50 sqlite files (+ All the datasketches (less DS_VO))\n",
    "\n",
    "# -> for the full dataset, on M1, this takes 3m 5s without any of the added sketches from today, \n",
    "# -> not sure how long it takes now taht sketches are added (for the M1)\n",
    "# -> For the full dataset (both benchmark datasets) on x86 took 18m15s (~9000 columns)\n",
    "# -> For the full dataset (both benchmark datasets) on M1  took 9m38s (~9000 columns)\n",
    "\n",
    "# --> Added DS_VO, going to run again, but since there's more, expect slightly over 18m15s.  --> was 19m16s"
   ]
  },
  {
   "cell_type": "code",
   "execution_count": null,
   "metadata": {},
   "outputs": [],
   "source": [
    "# # try serialization aroundtrip\n",
    "# import json\n",
    "# from sketch.core import SketchPad\n",
    "\n",
    "# rounder = None\n",
    "# for sketch in pf.sketchpads.values():\n",
    "#     rounder = SketchPad.from_dict(json.loads(json.dumps(sketch.to_dict())))"
   ]
  },
  {
   "cell_type": "code",
   "execution_count": null,
   "metadata": {},
   "outputs": [],
   "source": [
    "pf.upload(apiKey=\"8f79be2b6d0d47ccb8192e46f38c80ce\")"
   ]
  },
  {
   "cell_type": "code",
   "execution_count": null,
   "metadata": {},
   "outputs": [],
   "source": [
    "# Upload (for full set took) ... 4m 17s\n",
    "# Upload (for full set on M1) took ... 59s"
   ]
  },
  {
   "cell_type": "code",
   "execution_count": null,
   "metadata": {},
   "outputs": [],
   "source": []
  }
 ],
 "metadata": {
  "kernelspec": {
   "display_name": "Python 3.10.5 ('shims': virtualenv)",
   "language": "python",
   "name": "python3"
  },
  "language_info": {
   "codemirror_mode": {
    "name": "ipython",
    "version": 3
   },
   "file_extension": ".py",
   "mimetype": "text/x-python",
   "name": "python",
   "nbconvert_exporter": "python",
   "pygments_lexer": "ipython3",
   "version": "3.10.5"
  },
  "vscode": {
   "interpreter": {
    "hash": "1c0f2ed01f2d65ba46139126d92ee60a218303d6d7af19c1873d0061d56dd84d"
   }
  }
 },
 "nbformat": 4,
 "nbformat_minor": 2
}
