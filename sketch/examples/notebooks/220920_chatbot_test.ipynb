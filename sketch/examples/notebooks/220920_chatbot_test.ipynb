{
 "cells": [
  {
   "cell_type": "code",
   "execution_count": null,
   "metadata": {},
   "outputs": [],
   "source": [
    "# This is the chatbot"
   ]
  },
  {
   "cell_type": "code",
   "execution_count": null,
   "metadata": {},
   "outputs": [],
   "source": [
    "from dotenv import load_dotenv\n",
    "import websockets\n",
    "import json\n",
    "import asyncio\n",
    "import sqlite3\n",
    "import requests\n",
    "\n",
    "load_dotenv()\n",
    "\n",
    "import os\n",
    "oopenai_api_key = os.environ.get(\"OPENAI_API_KEY\")\n",
    "BOT_TOKEN = \"5a3556bb2de44a73ab2e5643cb633a6c\"\n",
    "THREAD_ID = \"default\""
   ]
  },
  {
   "cell_type": "code",
   "execution_count": null,
   "metadata": {},
   "outputs": [],
   "source": []
  },
  {
   "cell_type": "code",
   "execution_count": null,
   "metadata": {},
   "outputs": [],
   "source": [
    "def get_gpt3_response(prompt, stop=None):\n",
    "    headers = {\"Authorization\": f\"Bearer {oopenai_api_key}\", \"Content-Type\": \"application/json\"}\n",
    "    data = {\"prompt\": prompt, \"max_tokens\": 500, \"temperature\": 0, \"model\": \"text-davinci-002\"}\n",
    "    if stop:\n",
    "        data[\"stop\"] = stop\n",
    "    response = requests.post(\"https://api.openai.com/v1/completions\", headers=headers, json=data)\n",
    "    return response.json()[\"choices\"][0][\"text\"]\n",
    "\n",
    "talking_prompt = \"This is a conversation with an AI assistant. The assistant is helpful, creative, clever, and very friendly. Sometimes the AI will say a crude joke in the form of a pun.\"\n",
    "\n",
    "async def chatbot_messages():\n",
    "    uri = f\"ws://localhost:8000/ws/chat?thread_id={THREAD_ID}\"\n",
    "    messages = []\n",
    "    async with websockets.connect(uri, extra_headers={\"Cookie\": f\"Authorization=Bearer {BOT_TOKEN}\"}) as ws:\n",
    "        while True:\n",
    "            try:\n",
    "                raw_data = await asyncio.wait_for(ws.recv(), timeout=0.5)\n",
    "                data = json.loads(raw_data)\n",
    "                if data.get(\"replay\", False):\n",
    "                    messages.append(data)\n",
    "                    continue\n",
    "            except:\n",
    "                break\n",
    "    return messages\n",
    "\n",
    "# Prompt chain example. \n",
    "# 1. Check if the \"intent\" of the message is to \"run a query\"\n",
    "\n",
    "check_if_run_query_intent = \"This is a chat between a human and an AI.\\nAt this stage of the conversation, should the AI return a friendly response or should it execute SQL?\"\n",
    "getsql_prompt = \"This is a chat where the human would like to run some SQL on SQLite, for a specific database (fivethirtyeight). What is the query that should be executed?\\n\\n\"\n",
    "conn = sqlite3.connect('../datasets/fivethirtyeight.db') \n",
    "c = conn.cursor()\n",
    "c.execute(\"select * from sqlite_master limit 10\")\n",
    "res = c.fetchall()\n",
    "getsql_prompt += \"\\n\".join([str(x[1:]) for x in res])+ \"\\n\\n\"\n",
    "\n",
    "friendly_response_prompt = \"This is a chat between a human and a very friendly (maybe too friendly) AI system... what should the AI say?\"\n",
    "\n",
    "def get_chat_in_text(messages):\n",
    "    return \"\\n\".join([m[\"sender\"]+\":\"+m[\"message\"] for m in messages])\n",
    "\n",
    "def prompt_chain_executor(messages):\n",
    "    # given a list of messages, execute some prompt-chain and return a response\n",
    "    prompt = check_if_run_query_intent + \"\\n====\\n\"+get_chat_in_text(messages[-1:])+\"\\n====\\n\\nShould the AI execute SQL to answer the last prompt?(y/n):\"\n",
    "    response = get_gpt3_response(prompt)\n",
    "    if response.lstrip()[0] == \"y\":\n",
    "        prompt = getsql_prompt +\"\\n====\\n\"+get_chat_in_text(messages[-1:])+\"\\n====\\n\\nWhat is the SQL query:\"\n",
    "        print(f\"prompt is: {prompt}\")\n",
    "        response = get_gpt3_response(prompt)\n",
    "        print(response)\n",
    "        try:\n",
    "            conn = sqlite3.connect('../datasets/fivethirtyeight.db') \n",
    "            c = conn.cursor()\n",
    "            c.execute(response)\n",
    "            res = c.fetchall()\n",
    "        except Exception as e:\n",
    "            res = f\"Error executing SQL {e}\"\n",
    "        return f\"I ran the query ```{response}``` and got a result {str(res)}\"\n",
    "    else:\n",
    "        prompt = friendly_response_prompt + \"\\n====\\n\"+get_chat_in_text(messages[-1:])+\"\\n====\\n\\nWhat should the AI say:\"\n",
    "        response = get_gpt3_response(prompt)\n",
    "        return response\n",
    "\n",
    "async def chatbot():\n",
    "    uri = f\"ws://localhost:8000/ws/chat?thread_id={THREAD_ID}\"\n",
    "    messages = []\n",
    "    async with websockets.connect(uri, extra_headers={\"Cookie\": f\"Authorization=Bearer {BOT_TOKEN}\"}) as ws:\n",
    "        while True:\n",
    "            try:\n",
    "                raw_data = await asyncio.wait_for(ws.recv(), timeout=0.5)\n",
    "                data = json.loads(raw_data)\n",
    "                print(\"log:\", data['message'])\n",
    "                if data.get(\"replay\", False):\n",
    "                    messages.append(data)\n",
    "                    continue\n",
    "                if data[\"message\"] == \"break\":\n",
    "                    break\n",
    "                if data[\"sender\"] == \"datAI\":\n",
    "                    # personal messages\n",
    "                    continue\n",
    "                if data.get(\"meta\", False):\n",
    "                    continue\n",
    "                messages.append(data)\n",
    "            except asyncio.TimeoutError:\n",
    "                # not sure why I'm doing this, it felt important to have an \"infinite\" loop...\n",
    "                continue\n",
    "\n",
    "            # PROMPT CHAIN STUFF\n",
    "            # Valid message to parse and likely respond to?\n",
    "            # prompt_to_send = talking_prompt + \"\\n\" + \"\\n\".join([m[\"sender\"]+\":\"+m[\"message\"] for m in messages])+\"\\n\"+\"datAI:\"\n",
    "            # response = get_gpt3_response(prompt_to_send)\n",
    "            response = prompt_chain_executor(messages)\n",
    "            await ws.send(json.dumps({\"message\": response}))\n"
   ]
  },
  {
   "cell_type": "code",
   "execution_count": null,
   "metadata": {},
   "outputs": [],
   "source": [
    "# messages = await chatbot_messages()\n",
    "# prompt_chain_executor(messages)"
   ]
  },
  {
   "cell_type": "code",
   "execution_count": null,
   "metadata": {},
   "outputs": [],
   "source": [
    "await chatbot()"
   ]
  },
  {
   "cell_type": "code",
   "execution_count": null,
   "metadata": {},
   "outputs": [],
   "source": []
  }
 ],
 "metadata": {
  "kernelspec": {
   "display_name": "Python 3.10.5 64-bit ('sketch')",
   "language": "python",
   "name": "python3"
  },
  "language_info": {
   "codemirror_mode": {
    "name": "ipython",
    "version": 3
   },
   "file_extension": ".py",
   "mimetype": "text/x-python",
   "name": "python",
   "nbconvert_exporter": "python",
   "pygments_lexer": "ipython3",
   "version": "3.10.5"
  },
  "vscode": {
   "interpreter": {
    "hash": "1a56c398c352595db7d0130f0fc00eb36e63ee8641ddc16c2e5bdd38e08d5e9b"
   }
  }
 },
 "nbformat": 4,
 "nbformat_minor": 2
}
