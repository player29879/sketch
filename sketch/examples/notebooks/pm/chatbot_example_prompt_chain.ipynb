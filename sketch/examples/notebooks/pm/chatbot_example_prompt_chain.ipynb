{
 "cells": [
  {
   "cell_type": "code",
   "execution_count": 2,
   "metadata": {},
   "outputs": [],
   "source": [
    "from sketch.examples.prompt_machine import *\n",
    "\n",
    "async def chatbot(response_callback):\n",
    "    messages = []\n",
    "    async with websockets.connect(PM_SETTINGS['uri'], extra_headers={\"Cookie\": f\"Authorization=Bearer {PM_SETTINGS['BOT_TOKEN']}\"}) as ws:\n",
    "        while True:\n",
    "            try:\n",
    "                raw_data = await asyncio.wait_for(ws.recv(), timeout=0.5)\n",
    "                data = json.loads(raw_data)\n",
    "                print(\"log:\", data['message'])\n",
    "                if data.get(\"replay\", False) or data[\"sender\"] == \"datAI\":\n",
    "                    messages.append(data)\n",
    "                    continue\n",
    "                if data[\"message\"] == \"break\":\n",
    "                    break\n",
    "                if data.get(\"meta\", False):\n",
    "                    continue\n",
    "                messages.append(data)\n",
    "            except asyncio.TimeoutError:\n",
    "                # not sure why I'm doing this, it felt important to have an \"infinite\" loop...\n",
    "                continue\n",
    "            response = response_callback(\"\\n\".join([f\"{m['sender']}: {m['message']}\" for m in messages]))\n",
    "            await ws.send(json.dumps({\"message\": response}))\n"
   ]
  },
  {
   "cell_type": "code",
   "execution_count": 4,
   "metadata": {},
   "outputs": [],
   "source": [
    "# await response_callback"
   ]
  },
  {
   "cell_type": "code",
   "execution_count": null,
   "metadata": {},
   "outputs": [],
   "source": []
  }
 ],
 "metadata": {
  "kernelspec": {
   "display_name": "Python 3.10.5 64-bit ('sketch': pyenv)",
   "language": "python",
   "name": "python3"
  },
  "language_info": {
   "codemirror_mode": {
    "name": "ipython",
    "version": 3
   },
   "file_extension": ".py",
   "mimetype": "text/x-python",
   "name": "python",
   "nbconvert_exporter": "python",
   "pygments_lexer": "ipython3",
   "version": "3.10.5"
  },
  "vscode": {
   "interpreter": {
    "hash": "adcb619b33f588203bb576ea56ee3c20c6d0d8de6f18aca777331501d8e7497b"
   }
  }
 },
 "nbformat": 4,
 "nbformat_minor": 2
}
