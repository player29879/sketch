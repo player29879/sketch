{
 "cells": [
  {
   "cell_type": "code",
   "execution_count": null,
   "metadata": {},
   "outputs": [],
   "source": [
    "import sqlite3\n",
    "import pandas as pd\n",
    "from packaging import version\n",
    "\n",
    "filepath = \"/Users/jawaugh/labs/data_examples/core_2022_8_7/homeassistant/data/home-assistant_v2.db\"\n"
   ]
  },
  {
   "cell_type": "code",
   "execution_count": null,
   "metadata": {},
   "outputs": [],
   "source": [
    "\n",
    "conn = sqlite3.connect(filepath)\n",
    "c = conn.cursor()\n",
    "\n",
    "meta_name = (\n",
    "    \"sqlite_master\"\n",
    "    if version.parse(sqlite3.sqlite_version) < version.Version(\"3.33.0\")\n",
    "    else \"sqlite_schema\"\n",
    ")\n",
    "tables = pd.read_sql(\n",
    "    f\"SELECT name FROM {meta_name} WHERE type='table' ORDER BY name;\", conn\n",
    ")\n",
    "for i, table in enumerate(tables.name):\n",
    "    print(table+\"|\"+\",\".join(list(pd.read_sql(f'PRAGMA table_info(\"{table}\")', conn).name)))"
   ]
  },
  {
   "cell_type": "code",
   "execution_count": null,
   "metadata": {},
   "outputs": [],
   "source": [
    "pd.read_sql(\"SELECT * FROM event_data LIMIT 10;\", conn)"
   ]
  },
  {
   "cell_type": "code",
   "execution_count": null,
   "metadata": {},
   "outputs": [],
   "source": [
    "cursor = conn.cursor()\n",
    "for row in cursor.execute(\"\"\"\n",
    "SELECT json_extract(shared_attrs, '$.friendly_name') as fn\n",
    "FROM state_attributes\n",
    "WHERE fn LIKE '%motion%'\n",
    "group by fn\n",
    "\"\"\").fetchall():\n",
    "    print(*row)"
   ]
  },
  {
   "cell_type": "code",
   "execution_count": null,
   "metadata": {},
   "outputs": [],
   "source": []
  }
 ],
 "metadata": {
  "kernelspec": {
   "display_name": "Python 3.10.5 64-bit ('sketch')",
   "language": "python",
   "name": "python3"
  },
  "language_info": {
   "codemirror_mode": {
    "name": "ipython",
    "version": 3
   },
   "file_extension": ".py",
   "mimetype": "text/x-python",
   "name": "python",
   "nbconvert_exporter": "python",
   "pygments_lexer": "ipython3",
   "version": "3.10.5"
  },
  "vscode": {
   "interpreter": {
    "hash": "1a56c398c352595db7d0130f0fc00eb36e63ee8641ddc16c2e5bdd38e08d5e9b"
   }
  }
 },
 "nbformat": 4,
 "nbformat_minor": 2
}
