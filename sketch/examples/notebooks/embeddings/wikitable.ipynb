{
 "cells": [
  {
   "cell_type": "code",
   "execution_count": null,
   "metadata": {},
   "outputs": [],
   "source": [
    "import sketch\n",
    "import pandas as pd\n",
    "import pyarrow as pa\n",
    "import pickle"
   ]
  },
  {
   "cell_type": "code",
   "execution_count": null,
   "metadata": {},
   "outputs": [],
   "source": [
    "import glob\n",
    "from sketch.sketches import DS_THETA\n",
    "import datasketches\n",
    "\n",
    "rowsketches = []\n",
    "columns = []\n",
    "for path in glob.glob(\"../data_examples/tables/*.parquet\"):\n",
    "    df = pd.read_parquet(path)\n",
    "    for i in range(len(df)):\n",
    "        test_df = pickle.loads(df['pa_table_pickle'].iloc[i]).to_pandas()\n",
    "        for column in test_df:\n",
    "            rowsketches.append(DS_THETA.from_series(test_df[column]).data)\n",
    "            columns.append(test_df[column])\n",
    "    if len(rowsketches) > 100000:\n",
    "        break"
   ]
  },
  {
   "cell_type": "code",
   "execution_count": null,
   "metadata": {},
   "outputs": [],
   "source": [
    "import glob\n",
    "from sketch.sketches import DS_THETA\n",
    "import datasketches\n",
    "\n",
    "rowsketch_binary = []\n",
    "for path in glob.glob(\"../data_examples/tables/*.parquet\"):\n",
    "    df = pd.read_parquet(path)\n",
    "    for i in range(len(df)):\n",
    "        test_df = pickle.loads(df['pa_table_pickle'].iloc[i]).to_pandas()\n",
    "        for column in test_df:\n",
    "            rowsketch_binary.append(DS_THETA.from_series(test_df[column]).to_dict()['data'])\n",
    "    if len(rowsketches) > 100000:\n",
    "        break"
   ]
  },
  {
   "cell_type": "code",
   "execution_count": null,
   "metadata": {},
   "outputs": [],
   "source": [
    "import base64\n",
    "import numpy as np\n",
    "binarydata = [np.unpackbits(np.frombuffer(base64.b64decode(x), dtype='uint8'))[:1000] for x in rowsketch_binary]\n",
    "binarydata = [np.pad(x, (0, 1000-len(x))) for x in binarydata]"
   ]
  },
  {
   "cell_type": "code",
   "execution_count": null,
   "metadata": {},
   "outputs": [],
   "source": [
    "binaryversion = pd.DataFrame(np.array(binarydata))"
   ]
  },
  {
   "cell_type": "code",
   "execution_count": null,
   "metadata": {},
   "outputs": [],
   "source": []
  },
  {
   "cell_type": "code",
   "execution_count": null,
   "metadata": {},
   "outputs": [],
   "source": [
    "import umap\n",
    "\n",
    "fit = umap.UMAP(\n",
    "    n_components=2,\n",
    "    n_neighbors=50,\n",
    "    min_dist=0.01,\n",
    "    metric=\"hamming\"\n",
    ")\n",
    "# u = fit.fit_transform(binaryversion)\n",
    "u2 = fit.fit(binaryversion)\n"
   ]
  },
  {
   "cell_type": "code",
   "execution_count": null,
   "metadata": {},
   "outputs": [],
   "source": [
    "import umap.plot\n"
   ]
  },
  {
   "cell_type": "code",
   "execution_count": null,
   "metadata": {},
   "outputs": [],
   "source": [
    "# umap.plot.points(u2)\n",
    "umap.plot.output_notebook()\n"
   ]
  },
  {
   "cell_type": "code",
   "execution_count": null,
   "metadata": {},
   "outputs": [],
   "source": [
    "u2hover = pd.DataFrame([str(x.unique()) for x in columns], columns=[\"col\"])\n",
    "u2len = pd.DataFrame([len(x.unique()) for x in columns], columns=[\"colunique\"])"
   ]
  },
  {
   "cell_type": "code",
   "execution_count": null,
   "metadata": {},
   "outputs": [],
   "source": [
    ".ndim"
   ]
  },
  {
   "cell_type": "code",
   "execution_count": null,
   "metadata": {},
   "outputs": [],
   "source": [
    "p = umap.plot.points(u2, width=800, height=800)\n",
    "# values=u2len['colunique'].values\n",
    "umap.plot.show(p)"
   ]
  },
  {
   "cell_type": "code",
   "execution_count": null,
   "metadata": {},
   "outputs": [],
   "source": []
  },
  {
   "cell_type": "code",
   "execution_count": null,
   "metadata": {},
   "outputs": [],
   "source": [
    "p = umap.plot.interactive(u2, hover_data=u2hover, point_size=5, width=1800, height=1200)\n",
    "umap.plot.show(p)"
   ]
  },
  {
   "cell_type": "code",
   "execution_count": null,
   "metadata": {},
   "outputs": [],
   "source": [
    "# Create an embedding of every column. Will start with every column getting a HLL sketch"
   ]
  },
  {
   "cell_type": "code",
   "execution_count": null,
   "metadata": {},
   "outputs": [],
   "source": [
    "metric_func = lambda a, b: 1.0-datasketches.theta_jaccard_similarity.jaccard(a, b)[1]"
   ]
  },
  {
   "cell_type": "code",
   "execution_count": null,
   "metadata": {},
   "outputs": [],
   "source": []
  },
  {
   "cell_type": "code",
   "execution_count": null,
   "metadata": {},
   "outputs": [],
   "source": [
    "# let's just brute force this, grab 200 random, then distance to those.\n",
    "import random\n",
    "test = random.sample(rowsketches, k=200)\n",
    "\n",
    "distances = []\n",
    "for comp in test:\n",
    "    column = []\n",
    "    for rs in rowsketches:\n",
    "        column.append(metric_func(comp, rs))\n",
    "    distances.append(column)\n",
    "# (about 20s for 10k x 100)"
   ]
  },
  {
   "cell_type": "code",
   "execution_count": null,
   "metadata": {},
   "outputs": [],
   "source": [
    "data = pd.DataFrame(distances).T\n",
    "data.shape"
   ]
  },
  {
   "cell_type": "code",
   "execution_count": null,
   "metadata": {},
   "outputs": [],
   "source": [
    "data.min(axis=1)"
   ]
  },
  {
   "cell_type": "code",
   "execution_count": null,
   "metadata": {},
   "outputs": [],
   "source": [
    "import umap\n",
    "\n",
    "fit = umap.UMAP(\n",
    "    n_components=2,\n",
    "    n_neighbors=20,\n",
    "    min_dist=0.2,\n",
    ")\n",
    "u = fit.fit_transform(data)"
   ]
  },
  {
   "cell_type": "code",
   "execution_count": null,
   "metadata": {},
   "outputs": [],
   "source": [
    "import matplotlib.pyplot as plt\n",
    "fig = plt.figure(figsize=(16, 10))\n",
    "ax = fig.add_subplot(111)\n",
    "ax.scatter(u[:,0], u[:,1])\n",
    "plt.show()"
   ]
  },
  {
   "cell_type": "code",
   "execution_count": null,
   "metadata": {},
   "outputs": [],
   "source": [
    "bounds = [[-19, -18], [-3, -2]]\n",
    "import numpy as np\n",
    "indexer = np.logical_and(\n",
    "    np.logical_and(\n",
    "        u[:,0] > bounds[0][0],\n",
    "        u[:,0] < bounds[0][1]),\n",
    "    np.logical_and(\n",
    "        u[:,1] > bounds[1][0],\n",
    "        u[:,1] < bounds[1][1])\n",
    ")\n",
    "u2 = u[indexer]\n",
    "ilocs = np.arange(0, len(u))[indexer]"
   ]
  },
  {
   "cell_type": "code",
   "execution_count": null,
   "metadata": {},
   "outputs": [],
   "source": [
    "# ilocs"
   ]
  },
  {
   "cell_type": "code",
   "execution_count": null,
   "metadata": {},
   "outputs": [],
   "source": [
    "columns[random.choice(ilocs)]"
   ]
  },
  {
   "cell_type": "code",
   "execution_count": null,
   "metadata": {},
   "outputs": [],
   "source": [
    "import matplotlib.pyplot as plt\n",
    "fig = plt.figure(figsize=(16, 10))\n",
    "ax = fig.add_subplot(111)\n",
    "ax.scatter(u2[:,0], u2[:,1])\n",
    "plt.show()"
   ]
  },
  {
   "cell_type": "code",
   "execution_count": null,
   "metadata": {},
   "outputs": [],
   "source": [
    "state_in_colname = []\n",
    "for i, col in enumerate(columns):\n",
    "    if 'state' in str(col.name).lower():\n",
    "        state_in_colname.append(i)"
   ]
  },
  {
   "cell_type": "code",
   "execution_count": null,
   "metadata": {},
   "outputs": [],
   "source": [
    "for i in state_in_colname:\n",
    "    if 'Alaska' in columns[i].values:\n",
    "        print(i)"
   ]
  },
  {
   "cell_type": "code",
   "execution_count": null,
   "metadata": {},
   "outputs": [],
   "source": []
  },
  {
   "cell_type": "code",
   "execution_count": null,
   "metadata": {},
   "outputs": [],
   "source": []
  },
  {
   "cell_type": "code",
   "execution_count": null,
   "metadata": {},
   "outputs": [],
   "source": [
    "print(u[2918], u[2921], u[83311], u[97020])"
   ]
  },
  {
   "cell_type": "code",
   "execution_count": null,
   "metadata": {},
   "outputs": [],
   "source": [
    "u[state_in_colname[6]]"
   ]
  },
  {
   "cell_type": "code",
   "execution_count": null,
   "metadata": {},
   "outputs": [],
   "source": [
    "u[state_in_colname[7]]"
   ]
  },
  {
   "cell_type": "code",
   "execution_count": null,
   "metadata": {},
   "outputs": [],
   "source": [
    "u[state_in_colname[8]]"
   ]
  },
  {
   "cell_type": "code",
   "execution_count": null,
   "metadata": {},
   "outputs": [],
   "source": [
    "# u3 = u[state_in_colname]\n",
    "# import matplotlib.pyplot as plt\n",
    "# fig = plt.figure(figsize=(16, 10))\n",
    "# ax = fig.add_subplot(111)\n",
    "# ax.scatter(u3[:,0], u3[:,1])\n",
    "# plt.show()"
   ]
  },
  {
   "cell_type": "code",
   "execution_count": null,
   "metadata": {},
   "outputs": [],
   "source": [
    "columns[55].name"
   ]
  },
  {
   "cell_type": "code",
   "execution_count": null,
   "metadata": {},
   "outputs": [],
   "source": []
  },
  {
   "cell_type": "code",
   "execution_count": null,
   "metadata": {},
   "outputs": [],
   "source": [
    "datasketches.theta_jaccard_similarity.jaccard(temp.data, temp.data)"
   ]
  },
  {
   "cell_type": "code",
   "execution_count": null,
   "metadata": {},
   "outputs": [],
   "source": [
    "import pickle\n",
    "test = pickle.loads(df['pa_table_pickle'].iloc[0])"
   ]
  },
  {
   "cell_type": "code",
   "execution_count": null,
   "metadata": {},
   "outputs": [],
   "source": [
    "test.to_pandas()"
   ]
  },
  {
   "cell_type": "code",
   "execution_count": null,
   "metadata": {},
   "outputs": [],
   "source": []
  }
 ],
 "metadata": {
  "kernelspec": {
   "display_name": "Python 3.10.5 64-bit ('sketch')",
   "language": "python",
   "name": "python3"
  },
  "language_info": {
   "codemirror_mode": {
    "name": "ipython",
    "version": 3
   },
   "file_extension": ".py",
   "mimetype": "text/x-python",
   "name": "python",
   "nbconvert_exporter": "python",
   "pygments_lexer": "ipython3",
   "version": "3.10.5"
  },
  "vscode": {
   "interpreter": {
    "hash": "1a56c398c352595db7d0130f0fc00eb36e63ee8641ddc16c2e5bdd38e08d5e9b"
   }
  }
 },
 "nbformat": 4,
 "nbformat_minor": 2
}
