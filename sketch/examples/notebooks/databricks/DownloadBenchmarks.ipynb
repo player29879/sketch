{
 "cells": [
  {
   "cell_type": "code",
   "execution_count": null,
   "metadata": {
    "application/vnd.databricks.v1+cell": {
     "inputWidgets": {},
     "nuid": "ba3ea9fb-508b-4c5d-b7c0-703ba90a38f0",
     "showTitle": false,
     "title": ""
    }
   },
   "outputs": [],
   "source": [
    "! pip install gdown"
   ]
  },
  {
   "cell_type": "code",
   "execution_count": null,
   "metadata": {
    "application/vnd.databricks.v1+cell": {
     "inputWidgets": {},
     "nuid": "25afba4d-3db5-402f-9aae-33b379606eb5",
     "showTitle": false,
     "title": ""
    }
   },
   "outputs": [],
   "source": [
    "import os\n",
    "basepath = '/home/jawaugh/benchmarks/'\n"
   ]
  },
  {
   "cell_type": "code",
   "execution_count": null,
   "metadata": {
    "application/vnd.databricks.v1+cell": {
     "inputWidgets": {},
     "nuid": "addbd2e0-4074-458a-a239-5ead6d728701",
     "showTitle": false,
     "title": ""
    }
   },
   "outputs": [],
   "source": [
    "# https://yale-lily.github.io/spider\n",
    "# https://yale-lily.github.io/cosql"
   ]
  },
  {
   "cell_type": "code",
   "execution_count": null,
   "metadata": {
    "application/vnd.databricks.v1+cell": {
     "inputWidgets": {},
     "nuid": "0e9e595e-b3a7-4cb9-9734-bc267c6d474e",
     "showTitle": false,
     "title": ""
    }
   },
   "outputs": [],
   "source": [
    "import gdown\n",
    "url = 'https://drive.google.com/uc?export=download&id=1TqleXec_OykOYFREKKtschzY29dUcVAQ'\n",
    "os.makedirs(os.path.join(basepath, 'raw'), exist_ok=True)\n",
    "output = os.path.join(basepath, 'raw/spider.zip')\n",
    "\n",
    "gdown.download(url, output, quiet=False)"
   ]
  },
  {
   "cell_type": "code",
   "execution_count": null,
   "metadata": {
    "application/vnd.databricks.v1+cell": {
     "inputWidgets": {},
     "nuid": "7dcf395b-f879-4f9f-8b1a-5bd23c7e06b7",
     "showTitle": false,
     "title": ""
    }
   },
   "outputs": [],
   "source": [
    "url = 'https://drive.google.com/uc?export=download&id=1Y3ydpFiQQ3FC0bzdfy3groV95O_f1nXF'\n",
    "output = os.path.join(basepath, 'raw/cosql_dataset.zip')\n",
    "\n",
    "gdown.download(url, output, quiet=False)"
   ]
  },
  {
   "cell_type": "code",
   "execution_count": null,
   "metadata": {
    "application/vnd.databricks.v1+cell": {
     "inputWidgets": {},
     "nuid": "90edcdfa-0b24-4b82-b727-93a6e4e90527",
     "showTitle": false,
     "title": ""
    }
   },
   "outputs": [],
   "source": [
    "!unzip -o -q {os.path.join(basepath, 'raw/cosql_dataset.zip')} -d {os.path.join(basepath, 'raw/cosql_dataset')}"
   ]
  },
  {
   "cell_type": "code",
   "execution_count": null,
   "metadata": {
    "application/vnd.databricks.v1+cell": {
     "inputWidgets": {},
     "nuid": "a9f5823d-b8a5-492f-8036-d94169021cc2",
     "showTitle": false,
     "title": ""
    }
   },
   "outputs": [],
   "source": [
    "!unzip -o -q {os.path.join(basepath, 'raw/spider.zip')} -d {os.path.join(basepath, 'raw/spider')}"
   ]
  }
 ],
 "metadata": {
  "application/vnd.databricks.v1+notebook": {
   "dashboards": [],
   "language": "python",
   "notebookMetadata": {
    "pythonIndentUnit": 2
   },
   "notebookName": "DownloadBenchmarks",
   "notebookOrigID": 2588807581506263,
   "widgets": {}
  },
  "kernelspec": {
   "display_name": "Python 3.10.5 64-bit ('scratch': pyenv)",
   "language": "python",
   "name": "python3"
  },
  "language_info": {
   "codemirror_mode": {
    "name": "ipython",
    "version": 3
   },
   "file_extension": ".py",
   "mimetype": "text/x-python",
   "name": "python",
   "nbconvert_exporter": "python",
   "pygments_lexer": "ipython3",
   "version": "3.10.5"
  },
  "vscode": {
   "interpreter": {
    "hash": "4c64155ce154b9838e255520aa5c2f533363dccc8d45e1b2f99458a3ff90b155"
   }
  }
 },
 "nbformat": 4,
 "nbformat_minor": 4
}
