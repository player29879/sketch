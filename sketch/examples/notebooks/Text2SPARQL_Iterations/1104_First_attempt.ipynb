{
 "cells": [
  {
   "cell_type": "code",
   "execution_count": null,
   "metadata": {},
   "outputs": [],
   "source": [
    "import requests\n",
    "from sketch.examples.prompt_machine import *\n",
    "import json\n",
    "import os\n",
    "import sqlite3\n",
    "import random\n",
    "\n",
    "PM_SETTINGS[\"VERBOSE\"] = False"
   ]
  },
  {
   "cell_type": "code",
   "execution_count": null,
   "metadata": {},
   "outputs": [],
   "source": [
    "import pandas as pd\n",
    "import io\n",
    "import urllib.parse\n",
    "\n",
    "async def get_sparql_wikidata_result(sparql):\n",
    "    query = sparql\n",
    "    url = \"https://query.wikidata.org/sparql\"\n",
    "    # requst to get including a header to accept text/csv\n",
    "    headers = {\"Accept\": \"text/csv\"}\n",
    "    async with aiohttp.ClientSession() as session:\n",
    "            async with session.get(\n",
    "                url, params={\"query\": query}, headers=headers\n",
    "            ) as response:\n",
    "                text = await response.text()\n",
    "                data = pd.read_csv(io.StringIO(text), sep=\",\")\n",
    "                return data\n"
   ]
  },
  {
   "cell_type": "code",
   "execution_count": null,
   "metadata": {},
   "outputs": [],
   "source": [
    "async def search_wikidata(topic):\n",
    "    url = \"https://www.wikidata.org/w/api.php?action=wbsearchentities&search={topic}&language=en&limit=30&continue=10&format=json&uselang=en&type=item&origin=*\"\n",
    "    async with aiohttp.ClientSession() as session:\n",
    "            async with session.get(\n",
    "                url.format(topic=urllib.parse.quote(topic))\n",
    "            ) as response:\n",
    "                data = await response.json()\n",
    "                return pd.DataFrame(data.get(\"search\", []))"
   ]
  },
  {
   "cell_type": "code",
   "execution_count": null,
   "metadata": {},
   "outputs": [],
   "source": [
    "async def search_wikidata(topic, property=False):\n",
    "    if property:\n",
    "        extra_args = \"&type=property\"\n",
    "    else:\n",
    "        extra_args = \"\"\n",
    "    url = f\"https://www.wikidata.org/w/api.php?action=wbsearchentities&search={urllib.parse.quote(topic)}&language=en&limit=30&continue=10&format=json&uselang=en&type=item&origin=*{extra_args}\"\n",
    "    async with aiohttp.ClientSession() as session:\n",
    "            async with session.get(url) as response:\n",
    "                data = await response.json()\n",
    "                return pd.DataFrame(data.get(\"search\", []))"
   ]
  },
  {
   "cell_type": "code",
   "execution_count": null,
   "metadata": {},
   "outputs": [],
   "source": [
    "# test = await get_sparql_wikidata_result(\"\"\"\n",
    "# #Pokémon!\n",
    "# # Updated 2020-06-17\n",
    "\n",
    "# # Gotta catch 'em all\n",
    "# SELECT DISTINCT ?pokemon ?pokemonLabel ?pokedexNumber\n",
    "# WHERE\n",
    "# {\n",
    "#     ?pokemon wdt:P31/wdt:P279* wd:Q3966183 .\n",
    "#     ?pokemon p:P1685 ?statement.\n",
    "#     ?statement ps:P1685 ?pokedexNumber;\n",
    "#               pq:P972 wd:Q20005020.\n",
    "#     FILTER (! wikibase:isSomeValue(?pokedexNumber) )\n",
    "#     SERVICE wikibase:label { bd:serviceParam wikibase:language \"[AUTO_LANGUAGE],en\" }\n",
    "# }\n",
    "# ORDER BY (?pokedexNumber)\n",
    "# \"\"\")"
   ]
  },
  {
   "cell_type": "code",
   "execution_count": null,
   "metadata": {},
   "outputs": [],
   "source": [
    "gpt3_zeroshot_sparql = asyncGPT3Prompt(\"gpt3_zeroshot_sparql\",\n",
    "\"\"\"\n",
    "Related entities (search result) for topics and properties\n",
    "{{ context }}\n",
    "----\n",
    "SPARQL (to be run on wikidata) for question [{{ question }}]:\n",
    "```\"\"\",\n",
    "stop=\"```\",\n",
    "temperature =0.4,\n",
    "model_name=\"code-davinci-002\"\n",
    ")"
   ]
  },
  {
   "cell_type": "code",
   "execution_count": null,
   "metadata": {},
   "outputs": [],
   "source": [
    "gpt3_get_topics_from_question = asyncGPT3Prompt(\n",
    "    \"gpt3_get_topics_from_question\",\n",
    "\"\"\"\n",
    "What are the top few (up to 5) entities (and topics) in the question, that need to be found in the wikidata database as entities: [{{ question }}]?\n",
    "1.\"\"\"\n",
    ")\n",
    "\n",
    "gpt3_get_properties_from_question = asyncGPT3Prompt(\n",
    "    \"gpt3_get_properties_from_question\",\n",
    "\"\"\"\n",
    "What are the top few (up to 5) properties in the question, that need to be found in the wikidata database as properties of entities: [{{ question }}]?\n",
    "1.\"\"\"\n",
    ")\n",
    "import re\n",
    "\n",
    "async def get_topics_from_question(question):\n",
    "    results = await gpt3_get_topics_from_question(question=question)\n",
    "    topics = [re.sub(r\"^\\d*\\.\", \"\", line).strip() for line in results.split(\"\\n\")]\n",
    "    return topics\n",
    "\n",
    "get_topics_from_question_prompt = asyncPrompt(\n",
    "    \"get_topics_from_question_prompt\",\n",
    "    get_topics_from_question)\n",
    "\n",
    "async def get_properties_from_question(question):\n",
    "    results = await gpt3_get_properties_from_question(question=question)\n",
    "    props = [re.sub(r\"^\\d*\\.\", \"\", line).strip() for line in results.split(\"\\n\")]\n",
    "    return props\n",
    "\n",
    "get_properties_from_question_prompt = asyncPrompt(\n",
    "    \"get_properties_from_question_prompt\",\n",
    "    get_properties_from_question)\n",
    "\n",
    "async def get_wikidata_entities_for_topics(topics, properties):\n",
    "    results = await asyncio.gather(*[search_wikidata(topic) for topic in topics])\n",
    "    def pretty_print_search(search_result, first_n=5):\n",
    "        if len(search_result) == 0:\n",
    "            return \"No results\"\n",
    "        return search_result[[\"id\", \"label\", \"description\"]].iloc[:first_n].to_csv(index=False)\n",
    "    topic_part = \"\\n\".join([f\"Topic [{topic}]\\n{pretty_print_search(result)}\" for topic, result in zip(topics, results)])\n",
    "\n",
    "    results = await asyncio.gather(*[search_wikidata(property, property=True) for property in properties])\n",
    "    property_part = \"\\n\".join([f\"Property [{property}]\\n{pretty_print_search(result, first_n=3)}\" for property, result in zip(properties, results)])\n",
    "    return topic_part + \"\\n\" + property_part\n",
    "\n",
    "async def get_context_for_question(question):\n",
    "    topics = await get_topics_from_question_prompt(question=question)\n",
    "    properties = await get_properties_from_question_prompt(question=question)\n",
    "    return await get_wikidata_entities_for_topics(topics, properties)\n",
    "\n",
    "get_context_for_question_prompt = asyncPrompt(\n",
    "    \"get_context_for_question_prompt\",\n",
    "    get_context_for_question)"
   ]
  },
  {
   "cell_type": "code",
   "execution_count": null,
   "metadata": {},
   "outputs": [],
   "source": [
    "await gpt3_get_topics_from_question(\"What are the slowest moving animals?\")"
   ]
  },
  {
   "cell_type": "code",
   "execution_count": null,
   "metadata": {},
   "outputs": [],
   "source": [
    "async def get_data_for_question(question):\n",
    "    # 4. Call gpt3 for a completion to sparql\n",
    "    # 5. Execute sparql against wikidata\n",
    "    # 6. Return the results\n",
    "    wikidata_context = await get_context_for_question_prompt(question)\n",
    "    sparql = await gpt3_zeroshot_sparql(context=wikidata_context, question=question)\n",
    "    print(\"Sparql result...\", {sparql})\n",
    "    return await get_sparql_wikidata_result(sparql)"
   ]
  },
  {
   "cell_type": "code",
   "execution_count": null,
   "metadata": {},
   "outputs": [],
   "source": [
    "await get_data_for_question(\"What is the capital of france?\")"
   ]
  },
  {
   "cell_type": "code",
   "execution_count": null,
   "metadata": {},
   "outputs": [],
   "source": [
    "await get_data_for_question(\"How many people over the age of 30 live in Japan?\")"
   ]
  },
  {
   "cell_type": "code",
   "execution_count": null,
   "metadata": {},
   "outputs": [],
   "source": [
    "await get_data_for_question(\"What are the 5 tallest buildings in Japan, and what are their heights (in meters)?\")"
   ]
  },
  {
   "cell_type": "code",
   "execution_count": null,
   "metadata": {},
   "outputs": [],
   "source": [
    "await get_data_for_question(\"In the country Japan, what are the 10 tallest buildings, their heights (in meters), and construction date?\")"
   ]
  },
  {
   "cell_type": "code",
   "execution_count": null,
   "metadata": {},
   "outputs": [],
   "source": [
    "await get_data_for_question(\"What is the best Japanese food?\")"
   ]
  },
  {
   "cell_type": "code",
   "execution_count": null,
   "metadata": {},
   "outputs": [],
   "source": [
    "await get_data_for_question(\"How many skyscrapers are there in tokyo?\")"
   ]
  },
  {
   "cell_type": "code",
   "execution_count": null,
   "metadata": {},
   "outputs": [],
   "source": [
    "await get_data_for_question(\"What is the most visited train station in Tokyo?\")"
   ]
  },
  {
   "cell_type": "code",
   "execution_count": null,
   "metadata": {},
   "outputs": [],
   "source": [
    "await get_data_for_question(\"What are the largest economies in the world and what do they trade?\")"
   ]
  },
  {
   "cell_type": "code",
   "execution_count": null,
   "metadata": {},
   "outputs": [],
   "source": [
    "await get_data_for_question(\"What are the most popular human eye colors\")"
   ]
  },
  {
   "cell_type": "code",
   "execution_count": null,
   "metadata": {},
   "outputs": [],
   "source": [
    "await get_data_for_question(\"What color eyes do most people have?\")"
   ]
  },
  {
   "cell_type": "code",
   "execution_count": null,
   "metadata": {},
   "outputs": [],
   "source": [
    "await get_data_for_question(\"What are the locations that are best to travel to in Japan?\")"
   ]
  },
  {
   "cell_type": "code",
   "execution_count": null,
   "metadata": {},
   "outputs": [],
   "source": [
    "await get_data_for_question(\"How many border crossing checkpoints are there between Russia and Ukraine?\")"
   ]
  },
  {
   "cell_type": "code",
   "execution_count": null,
   "metadata": {},
   "outputs": [],
   "source": []
  }
 ],
 "metadata": {
  "kernelspec": {
   "display_name": "Python 3.10.5 64-bit ('sketch')",
   "language": "python",
   "name": "python3"
  },
  "language_info": {
   "codemirror_mode": {
    "name": "ipython",
    "version": 3
   },
   "file_extension": ".py",
   "mimetype": "text/x-python",
   "name": "python",
   "nbconvert_exporter": "python",
   "pygments_lexer": "ipython3",
   "version": "3.10.5"
  },
  "vscode": {
   "interpreter": {
    "hash": "1a56c398c352595db7d0130f0fc00eb36e63ee8641ddc16c2e5bdd38e08d5e9b"
   }
  }
 },
 "nbformat": 4,
 "nbformat_minor": 2
}
