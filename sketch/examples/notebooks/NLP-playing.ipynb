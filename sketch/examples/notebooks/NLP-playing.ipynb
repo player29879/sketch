{
 "cells": [
  {
   "cell_type": "code",
   "execution_count": null,
   "id": "2f7c3358-867a-4908-97c3-d9fccd95a827",
   "metadata": {},
   "outputs": [],
   "source": [
    "from transformers import pipeline"
   ]
  },
  {
   "cell_type": "code",
   "execution_count": null,
   "id": "e3403963-36df-439c-9ea0-a817dcdda025",
   "metadata": {},
   "outputs": [],
   "source": [
    "unmasker = pipeline('fill-mask', model='roberta-base')"
   ]
  },
  {
   "cell_type": "code",
   "execution_count": null,
   "id": "b0b786b6-dab5-452a-8203-43b89bb0b07b",
   "metadata": {},
   "outputs": [],
   "source": [
    "import time\n",
    "st = time.time()\n",
    "results = unmasker(\"I think i should ask a question about <mask>\")\n",
    "print(time.time()-st)\n",
    "results"
   ]
  },
  {
   "cell_type": "code",
   "execution_count": null,
   "id": "213834c8-428b-4fe6-9805-25378a99c91e",
   "metadata": {},
   "outputs": [],
   "source": []
  },
  {
   "cell_type": "code",
   "execution_count": null,
   "id": "e2c97379-da5e-4d55-a0ae-7b4e28703cd4",
   "metadata": {},
   "outputs": [],
   "source": []
  },
  {
   "cell_type": "code",
   "execution_count": null,
   "id": "9bc79538-757c-46ad-b05d-fe0ee5cedc1e",
   "metadata": {},
   "outputs": [],
   "source": [
    "summarizer = pipeline(\"summarization\")"
   ]
  },
  {
   "cell_type": "code",
   "execution_count": null,
   "id": "34dd5299-e224-4022-bbbb-21e7e5f87cf1",
   "metadata": {},
   "outputs": [],
   "source": [
    "ARTICLE = \"\"\"\n",
    "The Casino Theatre was a live theatre, in Toronto, Ontario, Canada. It was located at 87 Queen Street West across the street from the current site of Nathan Phillips Square.[1][2]\n",
    "\n",
    "The structure was designed by architects Kaplan & Sprachman, who designed 21 other theatres in Toronto, and 48 elsewhere in Canada. The theatre opened in 1936 and demolished in 1960.[3][4] It seated almost 1,200 patrons.\n",
    "\n",
    "The theatre hosted well-known performers, such as Johnny Rae, Patti Page, Gene Nelson, Pearl Bailey, Phil Silvers, Abbott and Costello, Nat King Cole, Sammy Davis Jr., Mickey Rooney, Frankie Laine, Sally Rand, Gypsy Rose Lee, Rose La Rose, Cup Cakes Cassidy, the Crewcuts, the Four Lads, Golden Gate Quartet, Billy Daniels and Rosemary Clooney.[5]\n",
    "\n",
    "The strippers, and baudy comedians who performed at Casino made the Casino particularly subject to commentary and complaints.[3][6] Doug Taylor, the author of Toronto Theaters and the Golden Age of the Silver Screen wrote that, \"Other perhaps than the Victory Theatre on Spadina, there is no entertainment venue that elicited as much praise, raunchy stories, condemnation and press coverage as the infamous Casino Theatre.\"[3] He described one high school principal staking out the theatre in order to catch students who were playing hookey to catch a show at the Casino.\n",
    "\n",
    "Mike Filey, the Toronto Sun's historical columnist, noted that the theatre opened at one minute after midnight, April 13, 1936, a Monday, because conservative laws required the closure of venues that catered to pleasure, on Sundays.[3][6] Filey suggested public complaints about the morals of the establishment were routinely ignored, since it was right across the street from City Hall, and many city councilors were regular patrons. Filey wrote that the Casino \"offered every type of performance allowed by law, and some that weren't.\"\n",
    "\n",
    "The three partners who founded the Casino were Jules Allen, and Jay Allen, and Murray Little, who already owned the Broadway Theatre, another Burlesque theatre at 75 Queen Street West.[3]\n",
    "\"\"\""
   ]
  },
  {
   "cell_type": "code",
   "execution_count": null,
   "id": "f8ff8c51-0c54-4a11-939d-c35700645474",
   "metadata": {},
   "outputs": [],
   "source": [
    "print(summarizer(ARTICLE, max_length=130, min_length=30, do_sample=False))"
   ]
  },
  {
   "cell_type": "code",
   "execution_count": null,
   "id": "32ce31a4-f46b-4619-9f51-74980d766c13",
   "metadata": {},
   "outputs": [],
   "source": []
  },
  {
   "cell_type": "code",
   "execution_count": null,
   "id": "58e73562-7346-49a8-971f-8f164ad31f8f",
   "metadata": {},
   "outputs": [],
   "source": [
    "model = SentenceTransformer('all-MiniLM-L6-v2')\n"
   ]
  },
  {
   "cell_type": "code",
   "execution_count": null,
   "id": "18d14496-1c20-4fdd-9c28-2b9fce2c2f3a",
   "metadata": {},
   "outputs": [],
   "source": [
    "test = model.encode([\"This is something, i wonder if it's fast\"])"
   ]
  },
  {
   "cell_type": "code",
   "execution_count": null,
   "id": "a9ee4430-9963-4797-ab0c-2c88a8d05b17",
   "metadata": {},
   "outputs": [],
   "source": [
    "from sentence_transformers import SentenceTransformer\n",
    "\n",
    "model = SentenceTransformer('all-MiniLM-L6-v2')\n",
    "\n",
    "#Our sentences we like to encode\n",
    "sentences = ['This framework generates embeddings for each input sentence',\n",
    "    'Sentences are passed as a list of string.',\n",
    "    'The quick brown fox jumps over the lazy dog.']*50\n",
    "\n",
    "#Sentences are encoded by calling model.encode()\n",
    "embeddings = model.encode(sentences)\n",
    "\n",
    "# #Print the embeddings\n",
    "# for sentence, embedding in zip(sentences, embeddings):\n",
    "#     print(\"Sentence:\", sentence)\n",
    "#     print(\"Embedding:\", embedding)\n",
    "#     print(\"\")"
   ]
  },
  {
   "cell_type": "code",
   "execution_count": null,
   "id": "1ba56e09-b075-490b-be97-969dc1dbd4b9",
   "metadata": {},
   "outputs": [],
   "source": [
    "#Our sentences we like to encode\n",
    "sentences = ['This framework generates embeddings for each input sentence',\n",
    "    'Sentences are passed as a list of string.',\n",
    "    'The quick brown fox jumps over the lazy dog.']*50\n",
    "\n",
    "#Sentences are encoded by calling model.encode()\n",
    "embeddings = model.encode(sentences)"
   ]
  },
  {
   "cell_type": "code",
   "execution_count": null,
   "id": "9e94d18f-ae15-4e04-905e-82f638f839f1",
   "metadata": {},
   "outputs": [],
   "source": [
    "somewords = [\"watermellon\", \"apple\", \"wasps\", 'This framework generates embeddings for each input sentence',\n",
    "    'Sentences are passed as a list of string.',\n",
    "    'The quick brown fox jumps over the lazy dog.']\n",
    "embeddings = model.encode(somewords)"
   ]
  },
  {
   "cell_type": "code",
   "execution_count": null,
   "id": "93a0e12e-3ec1-4c52-9831-00b589b0095f",
   "metadata": {},
   "outputs": [],
   "source": [
    "from sklearn.neighbors import NearestNeighbors\n",
    "\n",
    "# set desired number of neighbors\n",
    "neigh = NearestNeighbors(n_neighbors=2)\n",
    "neigh.fit(embeddings)\n",
    "# select indices of k nearest neighbors of the vectors in the input list"
   ]
  },
  {
   "cell_type": "code",
   "execution_count": null,
   "id": "9c2b798a-16b9-4c6d-a2ff-f648f24419a8",
   "metadata": {},
   "outputs": [],
   "source": [
    "neighbors = neigh.kneighbors(model.encode(['lists of strings for ranking']), return_distance = True)"
   ]
  },
  {
   "cell_type": "code",
   "execution_count": null,
   "id": "43f69153-9487-49aa-a74c-f728490b4d5c",
   "metadata": {},
   "outputs": [],
   "source": [
    "a, b = neighbors"
   ]
  },
  {
   "cell_type": "code",
   "execution_count": null,
   "id": "79e5bd7f-b4e2-4a45-b7ad-e1e9385e47a7",
   "metadata": {},
   "outputs": [],
   "source": [
    "list(b[0])"
   ]
  },
  {
   "cell_type": "code",
   "execution_count": null,
   "id": "6cb7ac9a-137f-4b7f-8754-69c661173c55",
   "metadata": {},
   "outputs": [],
   "source": []
  }
 ],
 "metadata": {
  "kernelspec": {
   "display_name": "Python 3 (ipykernel)",
   "language": "python",
   "name": "python3"
  },
  "language_info": {
   "codemirror_mode": {
    "name": "ipython",
    "version": 3
   },
   "file_extension": ".py",
   "mimetype": "text/x-python",
   "name": "python",
   "nbconvert_exporter": "python",
   "pygments_lexer": "ipython3",
   "version": "3.10.5"
  }
 },
 "nbformat": 4,
 "nbformat_minor": 5
}
