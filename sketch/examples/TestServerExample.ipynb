{
 "cells": [
  {
   "cell_type": "code",
   "execution_count": 22,
   "id": "6b721bd8-c1bf-440f-b518-e9620ae8caae",
   "metadata": {},
   "outputs": [],
   "source": [
    "import requests\n",
    "from sketch import Portfolio"
   ]
  },
  {
   "cell_type": "code",
   "execution_count": 23,
   "id": "61aa4c2b-1202-41ea-9afa-24f0436069a7",
   "metadata": {},
   "outputs": [],
   "source": [
    "pf = Portfolio.from_sqlite('datasets/food-trucks.db')"
   ]
  },
  {
   "cell_type": "code",
   "execution_count": 24,
   "id": "a00a1473-a6cb-4c59-91be-a85ec06318b6",
   "metadata": {},
   "outputs": [],
   "source": [
    "t, *_ = pf.sketchpads.values()"
   ]
  },
  {
   "cell_type": "code",
   "execution_count": 25,
   "id": "142b0403-ebbf-4be3-b0b0-7f4d4d1e52f6",
   "metadata": {},
   "outputs": [
    {
     "data": {
      "text/plain": [
       "136.84279049812653"
      ]
     },
     "execution_count": 25,
     "metadata": {},
     "output_type": "execute_result"
    }
   ],
   "source": [
    "t.get_sketchdata_by_name('HyperLogLog').count()"
   ]
  },
  {
   "cell_type": "code",
   "execution_count": 26,
   "id": "7bd9e5d6-9c56-42e8-8359-a86d818af72f",
   "metadata": {},
   "outputs": [],
   "source": [
    "def upload_portfolio(portfolio, url='http://localhost:8000/api'):\n",
    "    for sketchpad in portfolio.sketchpads.values():\n",
    "        res = requests.post(url, json=sketchpad.to_dict())"
   ]
  },
  {
   "cell_type": "code",
   "execution_count": 31,
   "id": "ec667639-ab15-4651-a973-912fd79fc30e",
   "metadata": {},
   "outputs": [],
   "source": [
    "upload_portfolio(pf)"
   ]
  },
  {
   "cell_type": "code",
   "execution_count": null,
   "id": "8aaac6a2-5e34-44a4-aab6-8ee32c5afbf5",
   "metadata": {},
   "outputs": [],
   "source": []
  },
  {
   "cell_type": "code",
   "execution_count": null,
   "id": "9aa9f616-3e4b-4254-887e-edb53155ad71",
   "metadata": {},
   "outputs": [],
   "source": []
  }
 ],
 "metadata": {
  "kernelspec": {
   "display_name": "Python 3 (ipykernel)",
   "language": "python",
   "name": "python3"
  },
  "language_info": {
   "codemirror_mode": {
    "name": "ipython",
    "version": 3
   },
   "file_extension": ".py",
   "mimetype": "text/x-python",
   "name": "python",
   "nbconvert_exporter": "python",
   "pygments_lexer": "ipython3",
   "version": "3.10.5"
  }
 },
 "nbformat": 4,
 "nbformat_minor": 5
}
