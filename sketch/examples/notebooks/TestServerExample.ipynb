{
 "cells": [
  {
   "cell_type": "code",
   "execution_count": 1,
   "id": "6b721bd8-c1bf-440f-b518-e9620ae8caae",
   "metadata": {},
   "outputs": [],
   "source": [
    "import requests\n",
    "from sketch import Portfolio"
   ]
  },
  {
   "cell_type": "code",
   "execution_count": 2,
   "id": "61aa4c2b-1202-41ea-9afa-24f0436069a7",
   "metadata": {},
   "outputs": [],
   "source": [
    "pf = Portfolio.from_sqlite('../datasets/food-trucks.db')"
   ]
  },
  {
   "cell_type": "code",
   "execution_count": 15,
   "id": "2fc6e6b4-d31f-4773-a5fc-d0a8ea1df589",
   "metadata": {},
   "outputs": [],
   "source": [
    "pf.upload('http://localhost:8000/api', apiKey=\"8f79be2b6d0d47ccb8192e46f38c80ce\")"
   ]
  },
  {
   "cell_type": "code",
   "execution_count": null,
   "id": "ef9773f5-5619-4744-bc8f-227f493721a0",
   "metadata": {},
   "outputs": [],
   "source": []
  }
 ],
 "metadata": {
  "kernelspec": {
   "display_name": "Python 3 (ipykernel)",
   "language": "python",
   "name": "python3"
  },
  "language_info": {
   "codemirror_mode": {
    "name": "ipython",
    "version": 3
   },
   "file_extension": ".py",
   "mimetype": "text/x-python",
   "name": "python",
   "nbconvert_exporter": "python",
   "pygments_lexer": "ipython3",
   "version": "3.10.5"
  }
 },
 "nbformat": 4,
 "nbformat_minor": 5
}
