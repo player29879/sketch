{
 "cells": [
  {
   "cell_type": "code",
   "execution_count": null,
   "metadata": {},
   "outputs": [],
   "source": [
    "# In this notebook, building (A, B) -> Measures ground truth pairs\n",
    "# A: column from DB_x\n",
    "# B: column from DB_x\n",
    "# Measures: from SQL queries run against A, B aggregations and operations\n",
    "# Note: DB_x is the same DB (not doing across DB, because SQL query engines are singular at a time right now)\n",
    "# this is 2ary because (A, B) -> Measures is the 2ary relationship\n",
    "# this is ground truth because it is the actual SQL queries run against the DB"
   ]
  },
  {
   "cell_type": "code",
   "execution_count": null,
   "metadata": {},
   "outputs": [],
   "source": [
    "from databases import Database\n",
    "from sketch.api import data\n",
    "import os\n",
    "\n",
    "basepath = \"/Users/jawaugh/labs\"\n",
    "\n",
    "database = Database(\n",
    "    f\"sqlite+aiosqlite:///{os.path.join(basepath, 'sketch/sketch')}/test.db\",\n",
    ")\n",
    "\n",
    "pf = await data.get_portfolio(database, 'justin')"
   ]
  },
  {
   "cell_type": "code",
   "execution_count": null,
   "metadata": {},
   "outputs": [],
   "source": [
    "# organize sketchpads based on db.\n",
    "from collections import defaultdict\n",
    "\n",
    "db_sketchpads = defaultdict(list)\n",
    "for sketchpad in pf.sketchpads.values():\n",
    "    db_sketchpads[sketchpad.reference.data['path']].append(sketchpad)"
   ]
  },
  {
   "cell_type": "code",
   "execution_count": null,
   "metadata": {},
   "outputs": [],
   "source": [
    "import pandas as pd\n",
    "import sqlite3\n",
    "from itertools import chain\n",
    "\n",
    "def distance_metric_queries(ref1, ref2):\n",
    "    yield \"union\", f\"WITH union_table as ({ref1.data['query']} UNION {ref2.data['query']}) SELECT count(*) FROM union_table;\"\n",
    "    yield \"intersect\", f\"WITH union_table as ({ref1.data['query']} INTERSECT {ref2.data['query']}) SELECT count(*) FROM union_table;\"\n",
    "    yield \"difference_left\", f\"WITH union_table as ({ref1.data['query']} EXCEPT {ref2.data['query']}) SELECT count(*) FROM union_table;\"\n",
    "    yield \"difference_right\", f\"WITH union_table as ({ref2.data['query']} EXCEPT {ref1.data['query']}) SELECT count(*) FROM union_table;\"\n",
    "    yield \"jaccard\", f\"WITH union_table as ({ref1.data['query']} UNION {ref2.data['query']}), intersect_table as ({ref1.data['query']} INTERSECT {ref2.data['query']}) SELECT count(*) / (SELECT count(*) FROM union_table) FROM intersect_table;\"\n",
    "\n",
    "def single_column_queries(ref, prepend='left'):\n",
    "    yield f\"{prepend}_count\", f\"SELECT count(*) FROM ({ref.data['query']})\"\n",
    "    yield f\"{prepend}_unique_count\", f\"\"\"SELECT count(distinct \"{ref.data['column']}\") FROM ({ref.data['query']})\"\"\"\n",
    "\n",
    "def execute_queries(ref1, ref2):\n",
    "    assert ref1.data['path'] == ref2.data['path']\n",
    "    path = ref1.data['path']\n",
    "    conn = sqlite3.connect(path)\n",
    "    conn.text_factory = lambda b: b.decode(errors=\"ignore\")\n",
    "    result = {}\n",
    "    result['path'] = path\n",
    "    result['left'] = ref1.to_json()\n",
    "    result['left_string'] = ref1.to_searchable_string()\n",
    "    result['right'] = ref2.to_json()\n",
    "    result['right_string'] = ref2.to_searchable_string()\n",
    "\n",
    "    queries = chain(\n",
    "        single_column_queries(ref1, prepend='left'),\n",
    "        single_column_queries(ref2, prepend='right'),\n",
    "        distance_metric_queries(ref1, ref2),\n",
    "    )\n",
    "    for name, query in queries:\n",
    "        try:\n",
    "            res, = conn.execute(query).fetchone()\n",
    "            result[name] = res\n",
    "        except:\n",
    "            print(f\"Failed to execute query: {query}\")\n",
    "            result[name] = None\n",
    "    return result\n"
   ]
  },
  {
   "cell_type": "code",
   "execution_count": null,
   "metadata": {},
   "outputs": [],
   "source": [
    "import random\n",
    "\n",
    "def get_n_pairs(n, sketchpads):\n",
    "    return [random.sample(sketchpads, 2) for _ in range(n)]\n",
    "\n",
    "def get_measures_from_pairs(pairs):\n",
    "    return [execute_queries(*[s.reference for s in p]) for p in pairs]\n",
    "\n",
    "def get_n_measures(n, sketchpads):\n",
    "    return get_measures_from_pairs(get_n_pairs(n, sketchpads))\n",
    "\n",
    "def get_training_dataset(db_organized, n1, n2):\n",
    "    # Not sure if n1 x n2 is right, or .. different sampling mechanism\n",
    "    results = []\n",
    "    for i in range(n1):\n",
    "        options = random.choice(list(db_organized.values()))\n",
    "        results.extend(get_n_measures(n2, options))\n",
    "    return pd.DataFrame(results)"
   ]
  },
  {
   "cell_type": "code",
   "execution_count": null,
   "metadata": {},
   "outputs": [],
   "source": [
    "big_answer = get_training_dataset(db_sketchpads, 500, 500)"
   ]
  },
  {
   "cell_type": "code",
   "execution_count": null,
   "metadata": {},
   "outputs": [],
   "source": [
    "big_answer.to_parquet('220905_250k_train_groundtruth.parquet')"
   ]
  },
  {
   "cell_type": "code",
   "execution_count": null,
   "metadata": {},
   "outputs": [],
   "source": [
    "# 100 x 100 -> 18.9s\n",
    "# 500 x 500 -> 4m 55s"
   ]
  },
  {
   "cell_type": "code",
   "execution_count": null,
   "metadata": {},
   "outputs": [],
   "source": [
    "# ! ls -lh ."
   ]
  },
  {
   "cell_type": "code",
   "execution_count": null,
   "metadata": {},
   "outputs": [],
   "source": [
    "big_answer"
   ]
  },
  {
   "cell_type": "code",
   "execution_count": null,
   "metadata": {},
   "outputs": [],
   "source": []
  }
 ],
 "metadata": {
  "kernelspec": {
   "display_name": "Python 3.10.5 64-bit ('sketch')",
   "language": "python",
   "name": "python3"
  },
  "language_info": {
   "codemirror_mode": {
    "name": "ipython",
    "version": 3
   },
   "file_extension": ".py",
   "mimetype": "text/x-python",
   "name": "python",
   "nbconvert_exporter": "python",
   "pygments_lexer": "ipython3",
   "version": "3.10.5"
  },
  "vscode": {
   "interpreter": {
    "hash": "1a56c398c352595db7d0130f0fc00eb36e63ee8641ddc16c2e5bdd38e08d5e9b"
   }
  }
 },
 "nbformat": 4,
 "nbformat_minor": 2
}
