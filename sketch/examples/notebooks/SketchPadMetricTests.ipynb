{
 "cells": [
  {
   "cell_type": "code",
   "execution_count": null,
   "metadata": {},
   "outputs": [],
   "source": [
    "sqlite_example = \"/home/jawaugh/benchmarks/raw/cosql_dataset/cosql_dataset/database/school_finance/school_finance.sqlite\""
   ]
  },
  {
   "cell_type": "code",
   "execution_count": null,
   "metadata": {},
   "outputs": [],
   "source": [
    "import sketch\n",
    "\n",
    "pf = sketch.core.Portfolio()\n",
    "pf.add_sqlite(sqlite_example)"
   ]
  },
  {
   "cell_type": "code",
   "execution_count": null,
   "metadata": {},
   "outputs": [],
   "source": [
    "# test = pf.get_sketchpad_by_reference_id('37915b9654563dfc9fe740384b0c713014b3bbbb18d7ec4ceb0a69965e4e9113')"
   ]
  },
  {
   "cell_type": "code",
   "execution_count": null,
   "metadata": {},
   "outputs": [],
   "source": [
    "# [x.get_sketchdata_by_name(\"HyperLogLog\").count() for x in pf.sketchpads.values()]"
   ]
  },
  {
   "cell_type": "code",
   "execution_count": null,
   "metadata": {},
   "outputs": [],
   "source": [
    "import datasketches\n",
    "\n",
    "for sketchpad in pf.sketchpads.values():\n",
    "    wow = sketch.SketchPad.from_dict(sketchpad.to_dict())    \n",
    "\n",
    "# check all sketches roundtrip:\n",
    "test = next(iter(pf.sketchpads.values()))\n",
    "wow = sketch.SketchPad.from_dict(test.to_dict())\n",
    "\n",
    "ds = wow.get_sketchdata_by_name(\"DS_HLL\")\n",
    "print(\"=HLL=\".ljust(12, \" \"), ds.get_lower_bound(2), ds.get_upper_bound(2), ds.get_estimate())\n",
    "\n",
    "ds = wow.get_sketchdata_by_name(\"DS_CPC\")\n",
    "print(\"=CPC=\".ljust(12, \" \"), ds.get_lower_bound(2), ds.get_upper_bound(2), ds.get_estimate())\n",
    "\n",
    "ds = wow.get_sketchdata_by_name(\"DS_FI\")\n",
    "print(\"=FI=\".ljust(12, \" \"), ds.get_frequent_items(datasketches.frequent_items_error_type.NO_FALSE_POSITIVES), ds.get_frequent_items(datasketches.frequent_items_error_type.NO_FALSE_NEGATIVES))\n",
    "\n",
    "ds = wow.get_sketchdata_by_name(\"DS_KLL\")\n",
    "print(\"=KLL=\".ljust(12, \" \"), ds.get_quantile(0.5), ds.get_quantile(0.9), ds.get_quantile(0.99))\n",
    "\n",
    "ds = wow.get_sketchdata_by_name(\"DS_Quantiles\")\n",
    "print(\"=Quantiles=\".ljust(12, \" \"), ds.get_quantile(0.5), ds.get_quantile(0.9), ds.get_quantile(0.99))\n",
    "\n",
    "ds = wow.get_sketchdata_by_name(\"DS_REQ\")\n",
    "print(\"=REQ=\".ljust(12, \" \"), ds.get_rank(5), ds.get_quantile(0.5), ds.get_min_value(), ds.get_max_value())\n",
    "\n",
    "ds = wow.get_sketchdata_by_name(\"DS_THETA\")\n",
    "print(\"=Theta=\".ljust(12, \" \"), ds.get_lower_bound(2), ds.get_upper_bound(2), ds.get_estimate())\n",
    "\n",
    "ds = wow.get_sketchdata_by_name(\"DS_VO\")\n",
    "print(\"=VO=\".ljust(12, \" \"), ds.to_string(True))\n",
    "\n",
    "ds = wow.get_sketchdata_by_name(\"UnicodeMatches\")\n",
    "print(\"=UnicodeMatches=\".ljust(12, \" \"), str(ds))"
   ]
  },
  {
   "cell_type": "code",
   "execution_count": null,
   "metadata": {},
   "outputs": [],
   "source": [
    "# from sketch.metrics import strings_from_sketchpad_sketches\n",
    "# for sketchpad in pf.sketchpads.values():\n",
    "#     print(strings_from_sketchpad_sketches(sketchpad))\n",
    "#     print(\"===\")"
   ]
  },
  {
   "cell_type": "markdown",
   "metadata": {},
   "source": []
  },
  {
   "cell_type": "code",
   "execution_count": null,
   "metadata": {},
   "outputs": [],
   "source": [
    "ds = wow.get_sketchdata_by_name(\"DS_VO\")\n",
    "ds.get_samples()"
   ]
  },
  {
   "cell_type": "code",
   "execution_count": null,
   "metadata": {},
   "outputs": [],
   "source": []
  }
 ],
 "metadata": {
  "kernelspec": {
   "display_name": "Python 3.10.5 ('shims': virtualenv)",
   "language": "python",
   "name": "python3"
  },
  "language_info": {
   "codemirror_mode": {
    "name": "ipython",
    "version": 3
   },
   "file_extension": ".py",
   "mimetype": "text/x-python",
   "name": "python",
   "nbconvert_exporter": "python",
   "pygments_lexer": "ipython3",
   "version": "3.10.5"
  },
  "vscode": {
   "interpreter": {
    "hash": "1c0f2ed01f2d65ba46139126d92ee60a218303d6d7af19c1873d0061d56dd84d"
   }
  }
 },
 "nbformat": 4,
 "nbformat_minor": 2
}
