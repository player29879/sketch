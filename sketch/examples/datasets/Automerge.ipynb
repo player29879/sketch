{
 "cells": [
  {
   "cell_type": "code",
   "execution_count": 1,
   "id": "5e1cccce-0a8e-4221-962e-4cca873fd01d",
   "metadata": {},
   "outputs": [],
   "source": [
    "import pandas as pd"
   ]
  },
  {
   "cell_type": "code",
   "execution_count": 3,
   "id": "762ddc84-0be2-4209-8668-11a3d5ba28b4",
   "metadata": {},
   "outputs": [],
   "source": [
    "df1 = pd.DataFrame({'a': [1,2,3,4,5,6], 'b': ['a', 'b', 'c', 'd', 'e', 'f'], 'c': ['p'+str(x) for x in range(6)], 'd': ['ah' for x in range(6)]})"
   ]
  },
  {
   "cell_type": "code",
   "execution_count": 4,
   "id": "baa98947-129d-4441-a1de-a8d727b439de",
   "metadata": {},
   "outputs": [],
   "source": [
    "df2 = pd.DataFrame({'g': [1,2,3,5,6], 'h': ['hi', 'wow', 'potato', 'calendar', 'moment']})"
   ]
  },
  {
   "cell_type": "code",
   "execution_count": 28,
   "id": "439291e3-b8db-467e-9999-be50f9b061ab",
   "metadata": {},
   "outputs": [],
   "source": [
    "def jaccard(s1, s2):\n",
    "    return len(s1 & s2) / len(s1 | s2)\n",
    "\n",
    "def automerge(d1, d2):\n",
    "    # for each column in d1, check if there are any columns in\n",
    "    options = []\n",
    "    d1pks = []\n",
    "    d2pks = []\n",
    "    for c1 in d1.columns:\n",
    "        if len(d1[c1].unique()) == len(d1):\n",
    "            d1pks.append(c1)\n",
    "    for c2 in d2.columns:\n",
    "        if len(d2[c2].unique()) == len(d2):\n",
    "            d2pks.append(c2)\n",
    "    # for each pk, check other table for possible joins\n",
    "    for d1pk in d1pks:\n",
    "        for c2 in d2.columns:\n",
    "            if set(d2[c2]).issubset(set(d1[d1pk])):\n",
    "                options.append({'left_on': d1pk, 'right_on': c2, 'how': 'right'})\n",
    "            if jaccard(set(d2[c2]), set(d1[d1pk])) > 0.5:\n",
    "                options.append({'left_on': d1pk, 'right_on': c2, 'how': 'outer'})\n",
    "    for d2pk in d2pks:\n",
    "        for c1 in d1.columns:\n",
    "            if set(d1[c1]).issubset(set(d2[d2pk])):\n",
    "                options.append({'left_on': c1, 'right_on': d2pk, 'how': 'left'})\n",
    "            if jaccard(set(d1[c1]), set(d2[d2pk])) > 0.5:\n",
    "                options.append({'left_on': c1, 'right_on': d2pk, 'how': 'outer'})\n",
    "    output = []\n",
    "    for option in options:\n",
    "        output.append((option, pd.merge(df1, df2, **option)))\n",
    "    return output"
   ]
  },
  {
   "cell_type": "code",
   "execution_count": null,
   "id": "bcba1b26-5943-45cd-9f7d-cce4b4af28fe",
   "metadata": {},
   "outputs": [],
   "source": []
  },
  {
   "cell_type": "code",
   "execution_count": 29,
   "id": "159f5469-5de7-4b43-b621-6b645ce2d079",
   "metadata": {},
   "outputs": [
    {
     "name": "stdout",
     "output_type": "stream",
     "text": [
      "df1\n",
      "   a  b   c   d\n",
      "0  1  a  p0  ah\n",
      "1  2  b  p1  ah\n",
      "2  3  c  p2  ah\n",
      "3  4  d  p3  ah\n",
      "4  5  e  p4  ah\n",
      "5  6  f  p5  ah\n",
      "df2\n",
      "   g         h\n",
      "0  1        hi\n",
      "1  2       wow\n",
      "2  3    potato\n",
      "3  5  calendar\n",
      "4  6    moment\n",
      "{'left_on': 'a', 'right_on': 'g', 'how': 'right'}\n",
      "   a  b   c   d  g         h\n",
      "0  1  a  p0  ah  1        hi\n",
      "1  2  b  p1  ah  2       wow\n",
      "2  3  c  p2  ah  3    potato\n",
      "3  5  e  p4  ah  5  calendar\n",
      "4  6  f  p5  ah  6    moment\n",
      "{'left_on': 'a', 'right_on': 'g', 'how': 'outer'}\n",
      "   a  b   c   d    g         h\n",
      "0  1  a  p0  ah  1.0        hi\n",
      "1  2  b  p1  ah  2.0       wow\n",
      "2  3  c  p2  ah  3.0    potato\n",
      "3  4  d  p3  ah  NaN       NaN\n",
      "4  5  e  p4  ah  5.0  calendar\n",
      "5  6  f  p5  ah  6.0    moment\n",
      "{'left_on': 'a', 'right_on': 'g', 'how': 'outer'}\n",
      "   a  b   c   d    g         h\n",
      "0  1  a  p0  ah  1.0        hi\n",
      "1  2  b  p1  ah  2.0       wow\n",
      "2  3  c  p2  ah  3.0    potato\n",
      "3  4  d  p3  ah  NaN       NaN\n",
      "4  5  e  p4  ah  5.0  calendar\n",
      "5  6  f  p5  ah  6.0    moment\n"
     ]
    }
   ],
   "source": [
    "print(\"df1\")\n",
    "print(df1)\n",
    "print(\"df2\")\n",
    "print(df2)\n",
    "\n",
    "for method, df in automerge(df1, df2):\n",
    "    print(method)\n",
    "    print(df)"
   ]
  },
  {
   "cell_type": "code",
   "execution_count": null,
   "id": "5e6315e9-8415-4d98-8470-73b4418abcd4",
   "metadata": {},
   "outputs": [],
   "source": []
  }
 ],
 "metadata": {
  "kernelspec": {
   "display_name": "Python 3 (ipykernel)",
   "language": "python",
   "name": "python3"
  },
  "language_info": {
   "codemirror_mode": {
    "name": "ipython",
    "version": 3
   },
   "file_extension": ".py",
   "mimetype": "text/x-python",
   "name": "python",
   "nbconvert_exporter": "python",
   "pygments_lexer": "ipython3",
   "version": "3.10.5"
  }
 },
 "nbformat": 4,
 "nbformat_minor": 5
}
