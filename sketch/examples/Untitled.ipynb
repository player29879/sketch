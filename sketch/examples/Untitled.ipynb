{
 "cells": [
  {
   "cell_type": "code",
   "execution_count": 1,
   "id": "6b721bd8-c1bf-440f-b518-e9620ae8caae",
   "metadata": {},
   "outputs": [],
   "source": [
    "from sketch import Portfolio"
   ]
  },
  {
   "cell_type": "code",
   "execution_count": null,
   "id": "61aa4c2b-1202-41ea-9afa-24f0436069a7",
   "metadata": {},
   "outputs": [],
   "source": [
    "Portfolio."
   ]
  }
 ],
 "metadata": {
  "kernelspec": {
   "display_name": "Python 3 (ipykernel)",
   "language": "python",
   "name": "python3"
  },
  "language_info": {
   "codemirror_mode": {
    "name": "ipython",
    "version": 3
   },
   "file_extension": ".py",
   "mimetype": "text/x-python",
   "name": "python",
   "nbconvert_exporter": "python",
   "pygments_lexer": "ipython3",
   "version": "3.10.5"
  }
 },
 "nbformat": 4,
 "nbformat_minor": 5
}
