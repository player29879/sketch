{
 "cells": [
  {
   "cell_type": "code",
   "execution_count": 1,
   "id": "b6e13a83-15b9-4719-8fb0-1b7770488ae3",
   "metadata": {},
   "outputs": [],
   "source": [
    "import pandas as pd\n",
    "import random\n",
    "\n",
    "local_df = pd.DataFrame(\n",
    "    {'i': range(120),\n",
    "     'age': [random.randint(20,80) for _ in range(120)]\n",
    "    }\n",
    ")"
   ]
  },
  {
   "cell_type": "code",
   "execution_count": 2,
   "id": "0cfa3ede-9497-4605-9257-04e070596182",
   "metadata": {},
   "outputs": [
    {
     "data": {
      "text/html": [
       "<div>\n",
       "<style scoped>\n",
       "    .dataframe tbody tr th:only-of-type {\n",
       "        vertical-align: middle;\n",
       "    }\n",
       "\n",
       "    .dataframe tbody tr th {\n",
       "        vertical-align: top;\n",
       "    }\n",
       "\n",
       "    .dataframe thead th {\n",
       "        text-align: right;\n",
       "    }\n",
       "</style>\n",
       "<table border=\"1\" class=\"dataframe\">\n",
       "  <thead>\n",
       "    <tr style=\"text-align: right;\">\n",
       "      <th></th>\n",
       "      <th>i</th>\n",
       "      <th>age</th>\n",
       "    </tr>\n",
       "  </thead>\n",
       "  <tbody>\n",
       "    <tr>\n",
       "      <th>0</th>\n",
       "      <td>0</td>\n",
       "      <td>60</td>\n",
       "    </tr>\n",
       "    <tr>\n",
       "      <th>1</th>\n",
       "      <td>1</td>\n",
       "      <td>74</td>\n",
       "    </tr>\n",
       "    <tr>\n",
       "      <th>2</th>\n",
       "      <td>2</td>\n",
       "      <td>43</td>\n",
       "    </tr>\n",
       "    <tr>\n",
       "      <th>3</th>\n",
       "      <td>3</td>\n",
       "      <td>70</td>\n",
       "    </tr>\n",
       "    <tr>\n",
       "      <th>4</th>\n",
       "      <td>4</td>\n",
       "      <td>74</td>\n",
       "    </tr>\n",
       "  </tbody>\n",
       "</table>\n",
       "</div>"
      ],
      "text/plain": [
       "   i  age\n",
       "0  0   60\n",
       "1  1   74\n",
       "2  2   43\n",
       "3  3   70\n",
       "4  4   74"
      ]
     },
     "execution_count": 2,
     "metadata": {},
     "output_type": "execute_result"
    }
   ],
   "source": [
    "local_df.head()"
   ]
  },
  {
   "cell_type": "code",
   "execution_count": 3,
   "id": "a739f2c8-7ad7-4f66-932c-c575e2ccefd1",
   "metadata": {},
   "outputs": [],
   "source": [
    "from sketch import Portfolio"
   ]
  },
  {
   "cell_type": "code",
   "execution_count": 4,
   "id": "6008590e-1f30-4db5-8ad0-93565251c782",
   "metadata": {},
   "outputs": [
    {
     "name": "stdout",
     "output_type": "stream",
     "text": [
      "0.9297  i -- SQLITE:[../datasets/food-trucks.db] TABLE:[Applicant] COL:[id]\n",
      "0.3438  age -- SQLITE:[../datasets/food-trucks.db] TABLE:[Applicant] COL:[id]\n",
      "0.3047  i -- SQLITE:[../datasets/food-trucks.db] TABLE:[block] COL:[id]\n",
      "0.2734  i -- SQLITE:[../datasets/food-trucks.db] TABLE:[Mobile_Food_Facility_Permit_fts_segments] COL:[blockid]\n",
      "0.1484  i -- SQLITE:[../datasets/food-trucks.db] TABLE:[Mobile_Food_Facility_Permit_fts_docsize] COL:[docid]\n"
     ]
    }
   ],
   "source": [
    "test = Portfolio.from_dataframe(local_df)\n",
    "result = test.find_joinables(apiKey='8f79be2b6d0d47ccb8192e46f38c80ce')"
   ]
  },
  {
   "cell_type": "code",
   "execution_count": null,
   "id": "c22e52b4-dfd4-4bc6-96cb-38a7ae767cc9",
   "metadata": {},
   "outputs": [],
   "source": []
  }
 ],
 "metadata": {
  "kernelspec": {
   "display_name": "Python 3 (ipykernel)",
   "language": "python",
   "name": "python3"
  },
  "language_info": {
   "codemirror_mode": {
    "name": "ipython",
    "version": 3
   },
   "file_extension": ".py",
   "mimetype": "text/x-python",
   "name": "python",
   "nbconvert_exporter": "python",
   "pygments_lexer": "ipython3",
   "version": "3.10.5"
  }
 },
 "nbformat": 4,
 "nbformat_minor": 5
}
