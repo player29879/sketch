{
 "cells": [
  {
   "cell_type": "code",
   "execution_count": null,
   "metadata": {},
   "outputs": [],
   "source": [
    "from sketch.examples.prompt_machine import *"
   ]
  },
  {
   "cell_type": "code",
   "execution_count": null,
   "metadata": {},
   "outputs": [],
   "source": [
    "p = GPT3Prompt(\"Example test\",\n",
    "\"\"\"\n",
    "An itinerary (location -> location -> location) for a trip to Japan,\n",
    "What is a change (added stop or changed stop) that would make the trip more fun?\n",
    "Specifically, what would the new itinerary be?\n",
    "Old Itinerary: ({{ base_chain }})\n",
    "New Itinerary: (\"\"\", stop = \")\")"
   ]
  },
  {
   "cell_type": "code",
   "execution_count": null,
   "metadata": {},
   "outputs": [],
   "source": [
    "# call recursively 10 times\n",
    "PM_SETTINGS['VERBOSE'] = False\n",
    "itinerary = \"Tokyo -> Kyoto -> Osaka -> Hiroshima -> Tokyo\"\n",
    "for i in range(10):\n",
    "    print(itinerary)\n",
    "    itinerary = p(base_chain=itinerary)"
   ]
  },
  {
   "cell_type": "code",
   "execution_count": null,
   "metadata": {},
   "outputs": [],
   "source": []
  },
  {
   "cell_type": "code",
   "execution_count": null,
   "metadata": {},
   "outputs": [],
   "source": []
  }
 ],
 "metadata": {
  "kernelspec": {
   "display_name": "Python 3.10.5 64-bit ('sketch': pyenv)",
   "language": "python",
   "name": "python3"
  },
  "language_info": {
   "codemirror_mode": {
    "name": "ipython",
    "version": 3
   },
   "file_extension": ".py",
   "mimetype": "text/x-python",
   "name": "python",
   "nbconvert_exporter": "python",
   "pygments_lexer": "ipython3",
   "version": "3.10.5"
  },
  "vscode": {
   "interpreter": {
    "hash": "adcb619b33f588203bb576ea56ee3c20c6d0d8de6f18aca777331501d8e7497b"
   }
  }
 },
 "nbformat": 4,
 "nbformat_minor": 2
}
