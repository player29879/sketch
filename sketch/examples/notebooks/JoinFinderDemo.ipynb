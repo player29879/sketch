{
 "cells": [
  {
   "cell_type": "code",
   "execution_count": 1,
   "id": "b6e13a83-15b9-4719-8fb0-1b7770488ae3",
   "metadata": {},
   "outputs": [],
   "source": [
    "import pandas as pd\n",
    "import random\n",
    "\n",
    "local_df = pd.DataFrame(\n",
    "    {'i': [x for x in range(120)]*8,\n",
    "     'age': [random.randint(20,80) for _ in range(120)]*8\n",
    "    }\n",
    ")"
   ]
  },
  {
   "cell_type": "code",
   "execution_count": 2,
   "id": "0cfa3ede-9497-4605-9257-04e070596182",
   "metadata": {},
   "outputs": [
    {
     "data": {
      "text/html": [
       "<div>\n",
       "<style scoped>\n",
       "    .dataframe tbody tr th:only-of-type {\n",
       "        vertical-align: middle;\n",
       "    }\n",
       "\n",
       "    .dataframe tbody tr th {\n",
       "        vertical-align: top;\n",
       "    }\n",
       "\n",
       "    .dataframe thead th {\n",
       "        text-align: right;\n",
       "    }\n",
       "</style>\n",
       "<table border=\"1\" class=\"dataframe\">\n",
       "  <thead>\n",
       "    <tr style=\"text-align: right;\">\n",
       "      <th></th>\n",
       "      <th>i</th>\n",
       "      <th>age</th>\n",
       "    </tr>\n",
       "  </thead>\n",
       "  <tbody>\n",
       "    <tr>\n",
       "      <th>0</th>\n",
       "      <td>0</td>\n",
<<<<<<< Updated upstream
       "      <td>75</td>\n",
=======
       "      <td>43</td>\n",
>>>>>>> Stashed changes
       "    </tr>\n",
       "    <tr>\n",
       "      <th>1</th>\n",
       "      <td>1</td>\n",
       "      <td>26</td>\n",
       "    </tr>\n",
       "    <tr>\n",
       "      <th>2</th>\n",
       "      <td>2</td>\n",
<<<<<<< Updated upstream
       "      <td>55</td>\n",
=======
       "      <td>62</td>\n",
>>>>>>> Stashed changes
       "    </tr>\n",
       "    <tr>\n",
       "      <th>3</th>\n",
       "      <td>3</td>\n",
<<<<<<< Updated upstream
       "      <td>67</td>\n",
=======
       "      <td>41</td>\n",
>>>>>>> Stashed changes
       "    </tr>\n",
       "    <tr>\n",
       "      <th>4</th>\n",
       "      <td>4</td>\n",
<<<<<<< Updated upstream
       "      <td>30</td>\n",
=======
       "      <td>39</td>\n",
>>>>>>> Stashed changes
       "    </tr>\n",
       "  </tbody>\n",
       "</table>\n",
       "</div>"
      ],
      "text/plain": [
       "   i  age\n",
<<<<<<< Updated upstream
       "0  0   75\n",
       "1  1   80\n",
       "2  2   55\n",
       "3  3   67\n",
       "4  4   30"
=======
       "0  0   43\n",
       "1  1   26\n",
       "2  2   62\n",
       "3  3   41\n",
       "4  4   39"
>>>>>>> Stashed changes
      ]
     },
     "execution_count": 2,
     "metadata": {},
     "output_type": "execute_result"
    }
   ],
   "source": [
    "local_df.head()"
   ]
  },
  {
   "cell_type": "code",
   "execution_count": 3,
<<<<<<< Updated upstream
   "id": "15ff151d-3f94-4912-8c6b-b552a9d45bda",
   "metadata": {},
   "outputs": [
    {
     "data": {
      "text/plain": [
       "960"
      ]
     },
     "execution_count": 3,
     "metadata": {},
     "output_type": "execute_result"
    }
   ],
   "source": [
    "len(local_df)"
   ]
  },
  {
   "cell_type": "code",
   "execution_count": 4,
=======
>>>>>>> Stashed changes
   "id": "a739f2c8-7ad7-4f66-932c-c575e2ccefd1",
   "metadata": {},
   "outputs": [],
   "source": [
    "from sketch import Portfolio\n",
    "test = Portfolio.from_dataframe(local_df)"
   ]
  },
  {
   "cell_type": "code",
   "execution_count": null,
<<<<<<< Updated upstream
   "id": "f294b466-ac20-4731-b14a-4649471191f9",
   "metadata": {},
   "outputs": [],
=======
   "id": "94e75ca0-ce8e-439a-9d75-e25652f548ad",
   "metadata": {},
   "outputs": [],
   "source": []
  },
  {
   "cell_type": "code",
   "execution_count": 4,
   "id": "f294b466-ac20-4731-b14a-4649471191f9",
   "metadata": {},
   "outputs": [
    {
     "name": "stdout",
     "output_type": "stream",
     "text": [
      "0.9297  i -- SQLITE:[../datasets/food-trucks.db] TABLE:[Applicant] COL:[id]\n",
      "0.3594  age -- SQLITE:[../datasets/food-trucks.db] TABLE:[Applicant] COL:[id]\n",
      "0.3047  i -- SQLITE:[../datasets/food-trucks.db] TABLE:[block] COL:[id]\n",
      "0.2734  i -- SQLITE:[../datasets/food-trucks.db] TABLE:[Mobile_Food_Facility_Permit_fts_segments] COL:[blockid]\n",
      "0.1484  i -- SQLITE:[../datasets/food-trucks.db] TABLE:[Mobile_Food_Facility_Permit_fts_docsize] COL:[docid]\n"
     ]
    }
   ],
>>>>>>> Stashed changes
   "source": [
    "test.find_joinables(apiKey=\"8f79be2b6d0d47ccb8192e46f38c80ce\")"
   ]
  },
  {
   "cell_type": "code",
<<<<<<< Updated upstream
   "execution_count": null,
=======
   "execution_count": 5,
>>>>>>> Stashed changes
   "id": "6008590e-1f30-4db5-8ad0-93565251c782",
   "metadata": {},
   "outputs": [],
   "source": [
    "test.find_joinables_html(apiKey='8f79be2b6d0d47ccb8192e46f38c80ce')"
   ]
  },
  {
   "cell_type": "code",
   "execution_count": 7,
   "id": "c22e52b4-dfd4-4bc6-96cb-38a7ae767cc9",
   "metadata": {},
   "outputs": [],
   "source": [
    "# !pip install sketch"
   ]
  },
  {
   "cell_type": "code",
   "execution_count": null,
   "id": "fbfac2f3-f8ec-476c-9d00-73ee5e49d6c4",
   "metadata": {},
   "outputs": [],
   "source": []
  }
 ],
 "metadata": {
  "kernelspec": {
   "display_name": "Python 3 (ipykernel)",
   "language": "python",
   "name": "python3"
  },
  "language_info": {
   "codemirror_mode": {
    "name": "ipython",
    "version": 3
   },
   "file_extension": ".py",
   "mimetype": "text/x-python",
   "name": "python",
   "nbconvert_exporter": "python",
   "pygments_lexer": "ipython3",
   "version": "3.10.5"
  }
 },
 "nbformat": 4,
 "nbformat_minor": 5
}
