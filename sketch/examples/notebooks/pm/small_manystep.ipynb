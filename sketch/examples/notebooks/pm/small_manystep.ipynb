{
 "cells": [
  {
   "cell_type": "code",
   "execution_count": null,
   "metadata": {},
   "outputs": [],
   "source": [
    "from sketch.examples.prompt_machine import *\n",
    "import uuid"
   ]
  },
  {
   "cell_type": "code",
   "execution_count": null,
   "metadata": {},
   "outputs": [],
   "source": [
    "new_message = \"\"\n",
    "\n",
    "self_definitions = {k: f\"I am {k}.\" for k in [\"James\", \"John\", \"Mary\", \"Patricia\"]}\n",
    "self_conversations = {k: GPT3Prompt(\"internal_continuation\", \"\"\"\n",
    "The following is an internal monologue that continues an intelligently indefinitely\n",
    "self_definition[{{self_definition}}]\n",
    "rolling_summary[{{rolling_summary}}]\n",
    "==================\n",
    "Internal Monologue\n",
    "==================\n",
    "{{conversation}}\n",
    "\"\"\"+f\"{k}:\") for k in self_definitions}\n",
    "import random\n",
    "conversation = \"\\n\".join([f\"{random.choice(list(self_definitions.keys()))} (is a voice)\" for i in range(4)])\n",
    "recent_conversation = conversation\n",
    "rolling_summary = \"There is an internal conversation, and it is just beginning. The voices have just joined.\"\n",
    "\n",
    "\n",
    "roll_summary = GPT3Prompt(\"rolling_summary\", \"\"\"\n",
    "Previous Summary:[{{rolling_summary}}]\n",
    "=== Recent conversation (each thought) ===\n",
    "{{new_message}}\n",
    "===\n",
    "Summary:[\"\"\", stop=[\"]\"])\n",
    "\n",
    "PM_SETTINGS[\"VERBOSE\"] = False\n",
    "\n",
    "\n",
    "for i in range(20):\n",
    "    rolling_summary = roll_summary(rolling_summary=rolling_summary, new_message=recent_conversation)\n",
    "    new_messages = [c(self_definition=self_definitions[k], rolling_summary=rolling_summary, conversation=conversation) for k, c in list(self_conversations.items())]\n",
    "    random.shuffle(new_messages)\n",
    "    recent_conversation = \"\\n\".join(new_messages)\n",
    "    conversation += recent_conversation\n",
    "    conversation = conversation[-200:]\n",
    "    print(\"=========== CONVERSATION ==============\")\n",
    "    print(conversation)\n",
    "    print(\"===========  END CONV    ==============\")"
   ]
  },
  {
   "cell_type": "code",
   "execution_count": null,
   "metadata": {},
   "outputs": [],
   "source": [
    "# another self loop... wtf. are fixed points ... expected here?"
   ]
  },
  {
   "cell_type": "code",
   "execution_count": null,
   "metadata": {},
   "outputs": [],
   "source": []
  }
 ],
 "metadata": {
  "kernelspec": {
   "display_name": "Python 3.10.5 ('shims': virtualenv)",
   "language": "python",
   "name": "python3"
  },
  "language_info": {
   "codemirror_mode": {
    "name": "ipython",
    "version": 3
   },
   "file_extension": ".py",
   "mimetype": "text/x-python",
   "name": "python",
   "nbconvert_exporter": "python",
   "pygments_lexer": "ipython3",
   "version": "3.10.5"
  },
  "vscode": {
   "interpreter": {
    "hash": "1c0f2ed01f2d65ba46139126d92ee60a218303d6d7af19c1873d0061d56dd84d"
   }
  }
 },
 "nbformat": 4,
 "nbformat_minor": 2
}
