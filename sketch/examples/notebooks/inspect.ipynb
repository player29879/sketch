{
 "cells": [
  {
   "cell_type": "code",
   "execution_count": 1,
   "metadata": {},
   "outputs": [],
   "source": [
    "from databases import Database\n",
    "from sketch.api import data\n",
    "\n",
    "\n",
    "database = Database(\n",
    "    \"sqlite+aiosqlite:///../../test.db\",\n",
    ")\n",
    "\n",
    "pf = await data.get_portfolio(database, 'justin')"
   ]
  },
  {
   "cell_type": "code",
   "execution_count": null,
   "metadata": {},
   "outputs": [],
   "source": []
  },
  {
   "cell_type": "code",
   "execution_count": 6,
   "metadata": {},
   "outputs": [
    {
     "ename": "AttributeError",
     "evalue": "'Series' object has no attribute 'to_parquet'",
     "output_type": "error",
     "traceback": [
      "\u001b[0;31m---------------------------------------------------------------------------\u001b[0m",
      "\u001b[0;31mAttributeError\u001b[0m                            Traceback (most recent call last)",
      "\u001b[1;32m/Users/jawaugh/labs/sketch/sketch/examples/notebooks/inspect.ipynb Cell 3\u001b[0m in \u001b[0;36m<cell line: 5>\u001b[0;34m()\u001b[0m\n\u001b[1;32m      <a href='vscode-notebook-cell:/Users/jawaugh/labs/sketch/sketch/examples/notebooks/inspect.ipynb#W1sZmlsZQ%3D%3D?line=1'>2</a>\u001b[0m \u001b[39mimport\u001b[39;00m \u001b[39mjson\u001b[39;00m\n\u001b[1;32m      <a href='vscode-notebook-cell:/Users/jawaugh/labs/sketch/sketch/examples/notebooks/inspect.ipynb#W1sZmlsZQ%3D%3D?line=3'>4</a>\u001b[0m test \u001b[39m=\u001b[39m pd\u001b[39m.\u001b[39mSeries({k: json\u001b[39m.\u001b[39mdumps(v\u001b[39m.\u001b[39mto_dict()) \u001b[39mfor\u001b[39;00m k, v \u001b[39min\u001b[39;00m pf\u001b[39m.\u001b[39msketchpads\u001b[39m.\u001b[39mitems()})\n\u001b[0;32m----> <a href='vscode-notebook-cell:/Users/jawaugh/labs/sketch/sketch/examples/notebooks/inspect.ipynb#W1sZmlsZQ%3D%3D?line=4'>5</a>\u001b[0m test\u001b[39m.\u001b[39;49mto_parquet(\u001b[39m\"\u001b[39m\u001b[39m349082_wikitable.parquet\u001b[39m\u001b[39m\"\u001b[39m)\n",
      "File \u001b[0;32m~/.pyenv/versions/3.10.5/envs/sketch/lib/python3.10/site-packages/pandas/core/generic.py:5575\u001b[0m, in \u001b[0;36mNDFrame.__getattr__\u001b[0;34m(self, name)\u001b[0m\n\u001b[1;32m   5568\u001b[0m \u001b[39mif\u001b[39;00m (\n\u001b[1;32m   5569\u001b[0m     name \u001b[39mnot\u001b[39;00m \u001b[39min\u001b[39;00m \u001b[39mself\u001b[39m\u001b[39m.\u001b[39m_internal_names_set\n\u001b[1;32m   5570\u001b[0m     \u001b[39mand\u001b[39;00m name \u001b[39mnot\u001b[39;00m \u001b[39min\u001b[39;00m \u001b[39mself\u001b[39m\u001b[39m.\u001b[39m_metadata\n\u001b[1;32m   5571\u001b[0m     \u001b[39mand\u001b[39;00m name \u001b[39mnot\u001b[39;00m \u001b[39min\u001b[39;00m \u001b[39mself\u001b[39m\u001b[39m.\u001b[39m_accessors\n\u001b[1;32m   5572\u001b[0m     \u001b[39mand\u001b[39;00m \u001b[39mself\u001b[39m\u001b[39m.\u001b[39m_info_axis\u001b[39m.\u001b[39m_can_hold_identifiers_and_holds_name(name)\n\u001b[1;32m   5573\u001b[0m ):\n\u001b[1;32m   5574\u001b[0m     \u001b[39mreturn\u001b[39;00m \u001b[39mself\u001b[39m[name]\n\u001b[0;32m-> 5575\u001b[0m \u001b[39mreturn\u001b[39;00m \u001b[39mobject\u001b[39;49m\u001b[39m.\u001b[39;49m\u001b[39m__getattribute__\u001b[39;49m(\u001b[39mself\u001b[39;49m, name)\n",
      "\u001b[0;31mAttributeError\u001b[0m: 'Series' object has no attribute 'to_parquet'"
     ]
    }
   ],
   "source": [
    "import pandas as pd\n",
    "import json\n",
    "\n",
    "test = pd.Series({k: json.dumps(v.to_dict()) for k, v in pf.sketchpads.items()})\n",
    "test.to_parquet(\"349082_wikitable.parquet\")"
   ]
  },
  {
   "cell_type": "code",
   "execution_count": 8,
   "metadata": {},
   "outputs": [],
   "source": [
    "df = test.to_frame()"
   ]
  },
  {
   "cell_type": "code",
   "execution_count": 12,
   "metadata": {},
   "outputs": [],
   "source": [
    "df.columns = [\"sketchpad_data\"]\n",
    "df.index.name = \"sketchpad_id\""
   ]
  },
  {
   "cell_type": "code",
   "execution_count": 18,
   "metadata": {},
   "outputs": [],
   "source": [
    "df.to_parquet(\"349082_wikitable.parquet\", compression=\"gzip\")"
   ]
  },
  {
   "cell_type": "code",
   "execution_count": 19,
   "metadata": {},
   "outputs": [
    {
     "name": "stdout",
     "output_type": "stream",
     "text": [
      "-rw-r--r--  1 jawaugh  staff   217M Aug 20 21:44 349082_wikitable.parquet\n"
     ]
    }
   ],
   "source": [
    "!ls -lh 349082_wikitable.parquet"
   ]
  },
  {
   "cell_type": "code",
   "execution_count": null,
   "metadata": {},
   "outputs": [],
   "source": [
    "# 300 MB -> 200 MB gzip compression on 349082 sketchpad scale\n"
   ]
  },
  {
   "cell_type": "code",
   "execution_count": 22,
   "metadata": {},
   "outputs": [],
   "source": [
    "import numpy as np\n",
    "import altair as alt\n",
    "cards = np.array(\n",
    "    [\n",
    "        x.get_sketchdata_by_name(\"HyperLogLog\").count()\n",
    "        for x in pf.sketchpads.values()\n",
    "    ]\n",
    ")\n",
    "# hist, bins = np.histogram(cards)\n",
    "upper = pow(2, np.ceil(np.log(np.max(cards) / np.log(2))))\n",
    "bins = np.geomspace(1, upper, num=100)\n",
    "hist, *_ = np.histogram(cards, bins=bins)\n",
    "# should be geometric mean...\n",
    "df = pd.DataFrame({\"x\": bins[:-1], \"x1\": bins[1:], \"y\": hist})\n",
    "chart = (\n",
    "    alt.Chart(df)\n",
    "    .mark_bar()\n",
    "    .encode(\n",
    "        x=alt.X(\n",
    "            \"x\", title=\"Unique Count\", scale=alt.Scale(type=\"log\", domainMin=1)\n",
    "        ),\n",
    "        # x2=\"x2\",\n",
    "        # y=alt.Y(\"y\", title=\"Number\", scale=alt.Scale(type=\"log\")),\n",
    "        y=alt.Y(\"y\", title=\"Count\"),\n",
    "    )\n",
    "    .properties(width=\"container\", height=300)\n",
    ")"
   ]
  },
  {
   "cell_type": "code",
   "execution_count": 68,
   "metadata": {},
   "outputs": [
    {
     "name": "stdout",
     "output_type": "stream",
     "text": [
      "[-1.52366976 12.59429358]\n"
     ]
    },
    {
     "data": {
      "text/plain": [
       "[]"
      ]
     },
     "execution_count": 68,
     "metadata": {},
     "output_type": "execute_result"
    },
    {
     "data": {
      "image/png": "[encoded data removed]",
      "text/plain": [
       "<Figure size 1152x648 with 1 Axes>"
      ]
     },
     "metadata": {
      "needs_background": "light"
     },
     "output_type": "display_data"
    }
   ],
   "source": [
    "import matplotlib.pyplot as plt\n",
    "plt.figure(figsize=(16, 9))\n",
    "plt.errorbar(df['x'], df['y'], xerr=0.02*df['x'], yerr=np.sqrt(df['y']), linestyle='None', marker='.')\n",
    "\n",
    "x, y = zip(*[(x, y) for x, y in zip(df['x'], df['y']) if y > 0])\n",
    "# print(x, y)\n",
    "z = np.polyfit(np.log(x), np.log(y), 1)\n",
    "fit_data = np.poly1d(z)(np.log(x))\n",
    "plt.loglog(x, np.exp(fit_data), 'r-',)\n",
    "print(z)\n",
    "plt.plot()"
   ]
  },
  {
   "cell_type": "code",
   "execution_count": null,
   "metadata": {},
   "outputs": [],
   "source": []
  },
  {
   "cell_type": "code",
   "execution_count": null,
   "metadata": {},
   "outputs": [],
   "source": [
    "# Database consideration -> always have a parquet \"rolling source\" or something, something that is the serialized tape\n",
    "#  -> its off of that (read many) that a bunch of things can be calculated.\n",
    "#  -> can have lots of \"named\" rolling-sources. "
   ]
  },
  {
   "cell_type": "code",
   "execution_count": null,
   "metadata": {},
   "outputs": [],
   "source": []
  }
 ],
 "metadata": {
  "kernelspec": {
   "display_name": "Python 3.10.5 64-bit ('sketch')",
   "language": "python",
   "name": "python3"
  },
  "language_info": {
   "codemirror_mode": {
    "name": "ipython",
    "version": 3
   },
   "file_extension": ".py",
   "mimetype": "text/x-python",
   "name": "python",
   "nbconvert_exporter": "python",
   "pygments_lexer": "ipython3",
   "version": "3.10.5"
  },
  "orig_nbformat": 4,
  "vscode": {
   "interpreter": {
    "hash": "1a56c398c352595db7d0130f0fc00eb36e63ee8641ddc16c2e5bdd38e08d5e9b"
   }
  }
 },
 "nbformat": 4,
 "nbformat_minor": 2
}
