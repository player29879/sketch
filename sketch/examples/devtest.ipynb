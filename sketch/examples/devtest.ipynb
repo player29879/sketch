{
 "cells": [
  {
   "cell_type": "code",
   "execution_count": 1,
   "id": "3b0cdaf4-e8fa-443c-8504-a63248adbbf1",
   "metadata": {},
   "outputs": [
    {
     "name": "stdout",
     "output_type": "stream",
     "text": [
      "Hello, welcome to sketch!\n"
     ]
    }
   ],
   "source": [
    "import sketch\n",
    "import pandas as pd\n",
    "import sqlite3\n",
    "import datasketches\n",
    "import datasketch\n",
    "import base64\n",
    "import uuid\n",
    "import datetime\n",
    "import logging"
   ]
  },
  {
   "cell_type": "code",
   "execution_count": null,
   "id": "73d29a4a-4f30-4aa9-9836-2f63679b0129",
   "metadata": {},
   "outputs": [],
   "source": []
  },
  {
   "cell_type": "code",
   "execution_count": 2,
   "id": "a69386c1-2581-4edb-b839-32976cdf2dea",
   "metadata": {},
   "outputs": [],
   "source": [
    "def load_from_sqlite(path):\n",
    "    conn = sqlite3.connect(path)\n",
    "    tables = pd.read_sql(\"SELECT name FROM sqlite_schema WHERE type='table' ORDER BY name;\", conn)\n",
    "    logging.info(f'Found {len(tables)} tables in file {path}')\n",
    "    all_tables = {}\n",
    "    for i, table in enumerate(tables.name):\n",
    "        all_tables[table] = pd.read_sql(f\"SELECT * from '{table}'\", conn)\n",
    "        all_tables[table].attrs |= {'table_name': table, 'source': path}\n",
    "    return all_tables"
   ]
  },
  {
   "cell_type": "code",
   "execution_count": null,
   "id": "14818ce7-91ea-41eb-be9b-4414537735fa",
   "metadata": {},
   "outputs": [],
   "source": []
  },
  {
   "cell_type": "code",
   "execution_count": null,
   "id": "49c330ec-f878-4fef-b26b-c6cd23520724",
   "metadata": {},
   "outputs": [],
   "source": []
  },
  {
   "cell_type": "code",
   "execution_count": null,
   "id": "61c959e9-cfc0-4661-8d5d-ff17279fb453",
   "metadata": {},
   "outputs": [],
   "source": []
  },
  {
   "cell_type": "code",
   "execution_count": 16,
   "id": "b135bda0-5a82-466b-beb7-1bb5bfa6886a",
   "metadata": {},
   "outputs": [],
   "source": [
    "class SketchBase:\n",
    "    def __init__(self, data):\n",
    "        self.data = data\n",
    "\n",
    "    @classmethod\n",
    "    def from_series(cls, series):\n",
    "        raise NotImplementedError(f\"Need from_series method for {self.__class__}\")\n",
    "    \n",
    "    def pack(self):\n",
    "        return self.data\n",
    "    \n",
    "    @staticmethod\n",
    "    def unpack(data):\n",
    "        return data\n",
    "        \n",
    "    def to_dict(self):\n",
    "        return {'name': self.__class__.__name__, 'data': self.pack()}\n",
    "    \n",
    "    @classmethod\n",
    "    def from_dict(cls, data):\n",
    "        tcls = cls\n",
    "        if data['name'] != cls.__name__:\n",
    "            for subclass in cls.__subclasses__():\n",
    "                if subclass.__name__ == data['name']:\n",
    "                    tcls = subclass\n",
    "        return tcls(data=tcls.unpack(data['data']))\n",
    "        \n",
    "\n",
    "class Rows(SketchBase):\n",
    "    @classmethod\n",
    "    def from_series(cls, series):\n",
    "        return cls(data=int(series.size))\n",
    "\n",
    "class Count(SketchBase):\n",
    "    @classmethod\n",
    "    def from_series(cls, series):\n",
    "        return cls(data=int(series.count()))\n",
    "    \n",
    "    \n",
    "class MinHash(SketchBase):\n",
    "    @classmethod\n",
    "    def from_series(cls, series):\n",
    "        minhash = datasketch.MinHash()\n",
    "        minhash.update_batch([str(x).encode('utf-8') for x in series])\n",
    "        lmh = datasketch.LeanMinHash(minhash)\n",
    "        return cls(data=lmh)\n",
    "\n",
    "    def pack(self):\n",
    "        buf = bytearray(self.data.bytesize())\n",
    "        self.data.serialize(buf)\n",
    "        return base64.b64encode(buf).decode('utf-8')\n",
    "         \n",
    "    @staticmethod\n",
    "    def unpack(data):\n",
    "        return datasketch.LeanMinHash.deserialize(base64.b64decode(data))\n",
    "        \n",
    "\n",
    "def get_sketchpad(series, context={}):\n",
    "    sketches = [Rows, Count, MinHash]\n",
    "    skpad = {\n",
    "        'version': '0.0.1',\n",
    "        'metadata': {\n",
    "            'id': str(uuid.uuid4()),\n",
    "            'creation_start': datetime.datetime.utcnow().isoformat()\n",
    "        },\n",
    "        'context': {\n",
    "            'name': series.name,\n",
    "            'context': context\n",
    "        },\n",
    "        'sketches': []\n",
    "    }\n",
    "    for skcls in sketches:\n",
    "        skpad['sketches'].append(skcls.from_series(series).to_dict())\n",
    "        \n",
    "    skpad['metadata']['creation_end'] = datetime.datetime.utcnow().isoformat()\n",
    "    return skpad\n",
    "        \n",
    "def get_sketchbook_for_dataframe(df, sketchbook=None):\n",
    "    sketchbook = sketchbook or []\n",
    "    for col in df.columns:\n",
    "        sketchbook.append(get_sketchpad(df[col], context=df.attrs))\n",
    "    return sketchbook"
   ]
  },
  {
   "cell_type": "code",
   "execution_count": 17,
   "id": "d6fbd08b-f3f2-42f5-967c-614528f5ab80",
   "metadata": {},
   "outputs": [],
   "source": [
    "def get_sketch_by_name(sketchpad, name):\n",
    "    sketches = [sk for sk in sketchpad['sketches'] if sk['name'] == name]\n",
    "    if len(sketches) == 1:\n",
    "        return SketchBase.from_dict(sketches[0])\n",
    "    return None"
   ]
  },
  {
   "cell_type": "code",
   "execution_count": 18,
   "id": "142ab68e-1189-4dc9-86e0-1c7665dd509c",
   "metadata": {},
   "outputs": [],
   "source": [
    "# super slow, find close jaccard for proof test\n",
    "def slow_find_jaccard_similar(sketchpad, sketchbook):\n",
    "    base_minhash = get_sketch_by_name(sketchpad, 'MinHash')\n",
    "    if base_minhash is None:\n",
    "        raise RuntimeError(\"No minhash in base sketchpad\")\n",
    "    for comp_skpad in sketchbook:\n",
    "        comp_minhash = get_sketch_by_name(comp_skpad, 'MinHash')\n",
    "        if comp_minhash:\n",
    "            print(base_minhash.data.jaccard(comp_minhash.data))"
   ]
  },
  {
   "cell_type": "code",
   "execution_count": null,
   "id": "653e3938-637d-4ba0-bf9c-a915ae9f26f7",
   "metadata": {},
   "outputs": [],
   "source": [
    "# rename sketchbook to portfolio"
   ]
  },
  {
   "cell_type": "code",
   "execution_count": null,
   "id": "b9c7e88e-b1aa-47e5-a9d0-36dbaa7794a5",
   "metadata": {},
   "outputs": [],
   "source": []
  },
  {
   "cell_type": "code",
   "execution_count": 6,
   "id": "8cbb5dd1-71c0-4b3f-b94f-13c9f9b80c1a",
   "metadata": {},
   "outputs": [],
   "source": [
    "all_tables = load_from_sqlite('datasets/fivethirtyeight.db')"
   ]
  },
  {
   "cell_type": "code",
   "execution_count": null,
   "id": "58e893b3-4392-42c0-8843-ac8017b1ae3f",
   "metadata": {},
   "outputs": [],
   "source": []
  },
  {
   "cell_type": "code",
   "execution_count": 19,
   "id": "0ffed0d7-e3b3-42b6-8ad7-ac5497e9593f",
   "metadata": {},
   "outputs": [],
   "source": [
    "skpads = get_sketchbook_for_dataframe(all_tables['./index'])"
   ]
  },
  {
   "cell_type": "code",
   "execution_count": null,
   "id": "378aee21-5426-4953-af32-16c5ed974c29",
   "metadata": {},
   "outputs": [],
   "source": []
  },
  {
   "cell_type": "code",
   "execution_count": 21,
   "id": "e048cb99-6186-4338-a07e-3b26aa22a7cf",
   "metadata": {},
   "outputs": [
    {
     "name": "stdout",
     "output_type": "stream",
     "text": [
      "1.0\n",
      "0.0\n",
      "0.0\n"
     ]
    }
   ],
   "source": [
    "slow_find_jaccard_similar(skpads[0], skpads)"
   ]
  },
  {
   "cell_type": "code",
   "execution_count": 24,
   "id": "18b15313-82ec-48dc-b189-4d210aecba8a",
   "metadata": {},
   "outputs": [
    {
     "data": {
      "text/plain": [
       "194"
      ]
     },
     "execution_count": 24,
     "metadata": {},
     "output_type": "execute_result"
    }
   ],
   "source": [
    "get_sketch_by_name(skpads[0], 'Count').data"
   ]
  },
  {
   "cell_type": "code",
   "execution_count": null,
   "id": "85b2f1c7-fb4f-4e6d-91f2-acf00a8922ad",
   "metadata": {},
   "outputs": [],
   "source": []
  },
  {
   "cell_type": "code",
   "execution_count": 22,
   "id": "c02da9f6-21cf-4aab-95a6-a88841cfd65b",
   "metadata": {},
   "outputs": [
    {
     "data": {
      "text/plain": [
       "'{\"version\": \"0.0.1\", \"metadata\": {\"id\": \"606aa2f8-f08a-46a4-9a4f-da641e99ddaa\", \"creation_start\": \"2022-07-15T18:07:34.014006\", \"creation_end\": \"2022-07-15T18:07:34.016996\"}, \"context\": {\"name\": \"dataset_url\", \"context\": {\"table_name\": \"./index\", \"source\": \"datasets/fivethirtyeight.db\"}}, \"sketches\": [{\"name\": \"Rows\", \"data\": 194}, {\"name\": \"Count\", \"data\": 194}, {\"name\": \"MinHash\", \"data\": \"AQAAAAAAAACAAAAApMJIAO73PQHilHsAUSFWAWpQIQDjkhEDzfBnA9O+2AAI4t8EWj4ZANM6EQApIy0BVVxPAC8fNAFk3sIGxZS7BIZ8mgFmyr0CUxI6AHkg0QCUr9gAAywkATn4DwBzvY4CC6SqASyxZwCRz28ATrRVAL0KaAIOEScA3bbwBrznhgAbuVgANFUJBH3pOwDE3YADH4ufALDE0gAzQjUBFiwJAHejdwE73TUD3FiJAT2JdwXxr4gBH/e6ANh+mQM2JicA0NxcAHrVmgBhfqcF1sp8BQN9rgJzDjMAG+jkBpVPzAJQpc0A8HPtAMIHxQAEzN4AKWh0AXNERwHMq8wEFugdAeCqHAFCeisBK897ATwvuACo+6kCIOqIADZlzwAEWmIEvAzQAHH4zgFZIW0BBdrYADwSNwBb8EgD4f80ALsrHQBBUTUCSC51Am8zuQPoMmMC18dYAJzDIgCBrN4DSbyPAOK/PwErVA4AY65TBFQyNQBH5gAAGjE4Adz0NQCTDgwCG9lvAftsWAALjDwCF13YAJXvFwDnPCABPzlDBPcggwCpN5cAsH1zAFiLZwBT2toC1sFyAYKwlwGYrgMBqtABAWdpUAGojmsAygjYAOxblARnPt8Bw/TPAWM+DABepCsALeGxAjG8eQH7WB0EYeTDAM22pQAqrbIAQOz9AV/0FgA=\"}]}'"
      ]
     },
     "execution_count": 22,
     "metadata": {},
     "output_type": "execute_result"
    }
   ],
   "source": [
    "import json\n",
    "json.dumps(skpads[0])"
   ]
  },
  {
   "cell_type": "code",
   "execution_count": null,
   "id": "c67a3d44-6666-4c52-8d89-3095e42ed80b",
   "metadata": {},
   "outputs": [],
   "source": []
  },
  {
   "cell_type": "code",
   "execution_count": null,
   "id": "0724742d-ce1b-4a84-a673-d95d97540058",
   "metadata": {},
   "outputs": [],
   "source": []
  },
  {
   "cell_type": "code",
   "execution_count": null,
   "id": "4c6f4ad0-857a-4313-8865-3403193a87b4",
   "metadata": {},
   "outputs": [],
   "source": []
  },
  {
   "cell_type": "code",
   "execution_count": null,
   "id": "b57fcac1-1986-48a8-9d4a-9b52bc9b10a8",
   "metadata": {},
   "outputs": [],
   "source": []
  },
  {
   "cell_type": "code",
   "execution_count": null,
   "id": "bc603ec3-1a8a-42bc-af19-b7ac2ef431bc",
   "metadata": {},
   "outputs": [],
   "source": []
  }
 ],
 "metadata": {
  "kernelspec": {
   "display_name": "Python 3 (ipykernel)",
   "language": "python",
   "name": "python3"
  },
  "language_info": {
   "codemirror_mode": {
    "name": "ipython",
    "version": 3
   },
   "file_extension": ".py",
   "mimetype": "text/x-python",
   "name": "python",
   "nbconvert_exporter": "python",
   "pygments_lexer": "ipython3",
   "version": "3.10.5"
  }
 },
 "nbformat": 4,
 "nbformat_minor": 5
}
