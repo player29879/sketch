{
 "cells": [
  {
   "cell_type": "code",
   "execution_count": null,
   "id": "3b0cdaf4-e8fa-443c-8504-a63248adbbf1",
   "metadata": {},
   "outputs": [],
   "source": [
    "import sketch\n",
    "import pandas as pd\n",
    "import sqlite3\n",
    "import datasketches\n",
    "import datasketch\n",
    "import base64\n",
    "import uuid\n",
    "import datetime\n",
    "import logging\n",
    "import heapq"
   ]
  },
  {
   "cell_type": "code",
   "execution_count": null,
   "id": "73d29a4a-4f30-4aa9-9836-2f63679b0129",
   "metadata": {},
   "outputs": [],
   "source": []
  },
  {
   "cell_type": "code",
   "execution_count": null,
   "id": "a69386c1-2581-4edb-b839-32976cdf2dea",
   "metadata": {},
   "outputs": [],
   "source": []
  },
  {
   "cell_type": "code",
   "execution_count": null,
   "id": "b135bda0-5a82-466b-beb7-1bb5bfa6886a",
   "metadata": {},
   "outputs": [],
   "source": [
    "class SketchBase:\n",
    "    def __init__(self, data):\n",
    "        self.name = self.__class__.__name__\n",
    "        self.data = data\n",
    "\n",
    "    @classmethod\n",
    "    def from_series(cls, series):\n",
    "        raise NotImplementedError(f\"Need from_series method for {self.__class__}\")\n",
    "    \n",
    "    def pack(self):\n",
    "        return self.data\n",
    "    \n",
    "    @staticmethod\n",
    "    def unpack(data):\n",
    "        return data\n",
    "        \n",
    "    def to_dict(self):\n",
    "        return {'name': self.__class__.__name__, 'data': self.pack()}\n",
    "    \n",
    "    @classmethod\n",
    "    def from_dict(cls, data):\n",
    "        tcls = cls\n",
    "        if data['name'] != cls.__name__:\n",
    "            for subclass in cls.__subclasses__():\n",
    "                if subclass.__name__ == data['name']:\n",
    "                    tcls = subclass\n",
    "        return tcls(data=tcls.unpack(data['data']))\n",
    "        \n",
    "\n",
    "class Rows(SketchBase):\n",
    "    @classmethod\n",
    "    def from_series(cls, series):\n",
    "        return cls(data=int(series.size))\n",
    "\n",
    "class Count(SketchBase):\n",
    "    @classmethod\n",
    "    def from_series(cls, series):\n",
    "        return cls(data=int(series.count()))\n",
    "    \n",
    "    \n",
    "class MinHash(SketchBase):\n",
    "    @classmethod\n",
    "    def from_series(cls, series):\n",
    "        minhash = datasketch.MinHash()\n",
    "        minhash.update_batch([str(x).encode('utf-8') for x in series])\n",
    "        lmh = datasketch.LeanMinHash(minhash)\n",
    "        return cls(data=lmh)\n",
    "\n",
    "    def pack(self):\n",
    "        buf = bytearray(self.data.bytesize())\n",
    "        self.data.serialize(buf)\n",
    "        return base64.b64encode(buf).decode('utf-8')\n",
    "         \n",
    "    @staticmethod\n",
    "    def unpack(data):\n",
    "        return datasketch.LeanMinHash.deserialize(base64.b64decode(data))"
   ]
  },
  {
   "cell_type": "code",
   "execution_count": null,
   "id": "ecc794a5-c64e-45aa-bf7b-e3b58c73c934",
   "metadata": {},
   "outputs": [],
   "source": [
    "class SketchPad:\n",
    "    verison = '0.0.1'\n",
    "    sketches = [Rows, Count, MinHash]\n",
    "    \n",
    "    def __init__(self, context=None):\n",
    "        self.version = '0.0.1'\n",
    "        self.id = str(uuid.uuid4())\n",
    "        self.metadata = {\n",
    "            'id': self.id,\n",
    "            'creation_start': datetime.datetime.utcnow().isoformat()\n",
    "        }\n",
    "        self.context = context or {}\n",
    "        # TODO: consider alternate naming convention\n",
    "        # so can do dictionary lookups\n",
    "        self.sketches = []\n",
    "    \n",
    "    @classmethod\n",
    "    def from_series(cls, series, context=None):\n",
    "        sp = cls(context=context)\n",
    "        for skcls in cls.sketches:\n",
    "            sp.sketches.append(skcls.from_series(series))\n",
    "        sp.metadata['creation_end'] = datetime.datetime.utcnow().isoformat()\n",
    "        sp.context['column_name'] = series.name\n",
    "        return sp\n",
    "    \n",
    "    def get_sketch_by_name(self, name):\n",
    "        sketches = [sk for sk in self.sketches if sk.name == name]\n",
    "        if len(sketches) == 1:\n",
    "            return sketches[0]\n",
    "        return None\n",
    "    \n",
    "    def get_sketchdata_by_name(self, name):\n",
    "        sketch = self.get_sketch_by_name(name)\n",
    "        return sketch.data if sketch else None\n",
    "    \n",
    "    def minhash_jaccard(self, other):\n",
    "        self_minhash = self.get_sketchdata_by_name('MinHash')\n",
    "        other_minhash = other.get_sketchdata_by_name('MinHash')\n",
    "        if self_minhash is None or other_minhash is None:\n",
    "            return None\n",
    "        return self_minhash.jaccard(other_minhash)\n",
    "    \n",
    "    def to_dict(self):\n",
    "        return {\n",
    "            'version': self.version,\n",
    "            'metadata': self.metadata,\n",
    "            'sketches': [s.to_dict() for s in self.sketches],\n",
    "            'context': self.context\n",
    "        }\n",
    "\n",
    "    @classmethod\n",
    "    def from_dict(cls, data):\n",
    "        assert data['version'] == cls.version\n",
    "        sp = cls()\n",
    "        sp.id = data['metadata']['id']\n",
    "        sp.metadata = data['metadata']\n",
    "        sp.context = data['context']\n",
    "        sp.sketches = [SketchBase(s) for s in data['sketches']]\n",
    "        return sp"
   ]
  },
  {
   "cell_type": "code",
   "execution_count": null,
   "id": "f9678bda-242e-44f1-8f32-c168d52884f0",
   "metadata": {},
   "outputs": [],
   "source": [
    "class Portfolio:\n",
    "    def __init__(self, sketchpads=None):\n",
    "        self.sketchpads = {sp.id: sp for sp in (sketchpads or [])}\n",
    "    \n",
    "    def add_dataframe(self, df):\n",
    "        for col in df.columns:\n",
    "            sp = SketchPad.from_series(df[col], context=df.attrs)\n",
    "            self.add_sketchpad(sp)\n",
    "    \n",
    "    def add_dataframes(self, dfs):\n",
    "        for df in dfs:\n",
    "            self.add_dataframe(df)\n",
    "            \n",
    "    def add_sketchpad(self, sketchpad):\n",
    "        self.sketchpads[sketchpad.id] = sketchpad\n",
    "        \n",
    "    def add_sqlite(self, sqlite_db_path):\n",
    "        conn = sqlite3.connect(sqlite_db_path)\n",
    "        tables = pd.read_sql(\"SELECT name FROM sqlite_schema WHERE type='table' ORDER BY name;\", conn)\n",
    "        logging.info(f'Found {len(tables)} tables in file {sqlite_db_path}')\n",
    "        all_tables = {}\n",
    "        for i, table in enumerate(tables.name):\n",
    "            df = pd.read_sql(f\"SELECT * from '{table}'\", conn)\n",
    "            df.attrs |= {'table_name': table, 'source': sqlite_db_path}\n",
    "            self.add_dataframe(df)\n",
    "        return list(tables.name)\n",
    "        \n",
    "    def closest_overlap(self, sketchpad, n=5):\n",
    "        scores = []\n",
    "        for sp in self.sketchpads.values():\n",
    "            score = sketchpad.minhash_jaccard(sp)\n",
    "            heapq.heappush(scores, (score, sp.id))\n",
    "        top_n = heapq.nlargest(n, scores, key=lambda x: x[0])\n",
    "        return [(s, self.sketchpads[i]) for s, i in top_n]"
   ]
  },
  {
   "cell_type": "code",
   "execution_count": null,
   "id": "d6fbd08b-f3f2-42f5-967c-614528f5ab80",
   "metadata": {},
   "outputs": [],
   "source": []
  },
  {
   "cell_type": "code",
   "execution_count": null,
   "id": "653e3938-637d-4ba0-bf9c-a915ae9f26f7",
   "metadata": {},
   "outputs": [],
   "source": []
  },
  {
   "cell_type": "code",
   "execution_count": null,
   "id": "8cbb5dd1-71c0-4b3f-b94f-13c9f9b80c1a",
   "metadata": {},
   "outputs": [],
   "source": []
  },
  {
   "cell_type": "code",
   "execution_count": null,
   "id": "0ffed0d7-e3b3-42b6-8ad7-ac5497e9593f",
   "metadata": {},
   "outputs": [],
   "source": [
    "pf = Portfolio()\n",
    "_ = pf.add_sqlite('datasets/fivethirtyeight.db')"
   ]
  },
  {
   "cell_type": "code",
   "execution_count": null,
   "id": "c2571348-49d3-46e0-8349-f9e83144a8bd",
   "metadata": {},
   "outputs": [],
   "source": [
    "import random\n",
    "random_sketchpad = random.choice(list(pf.sketchpads.values()))"
   ]
  },
  {
   "cell_type": "code",
   "execution_count": null,
   "id": "c15c8060-e36f-4aa3-addb-f2cf7c4e6e41",
   "metadata": {},
   "outputs": [],
   "source": [
    "random_sketchpad.context"
   ]
  },
  {
   "cell_type": "code",
   "execution_count": null,
   "id": "cad94486-beba-4730-9404-90cf94c025a8",
   "metadata": {},
   "outputs": [],
   "source": []
  },
  {
   "cell_type": "code",
   "execution_count": null,
   "id": "378aee21-5426-4953-af32-16c5ed974c29",
   "metadata": {},
   "outputs": [],
   "source": [
    "result = pf.closest_overlap(random_sketchpad)\n",
    "[(s, x.context) for s, x in result]"
   ]
  },
  {
   "cell_type": "code",
   "execution_count": null,
   "id": "00116ece-2e64-4676-aa10-0d9ffb877022",
   "metadata": {},
   "outputs": [],
   "source": [
    "print(get_uniques(random_sketchpad))\n",
    "print('---')\n",
    "for x in result:\n",
    "    print(x, get_uniques(x[1]))"
   ]
  },
  {
   "cell_type": "code",
   "execution_count": null,
   "id": "53ffee4a-9b94-4fd3-92ba-36c5621b1ac2",
   "metadata": {},
   "outputs": [],
   "source": [
    "# def cardinality_spectogram(self, "
   ]
  },
  {
   "cell_type": "code",
   "execution_count": null,
   "id": "aa998605-e449-4c1a-8817-e5f23e09215f",
   "metadata": {},
   "outputs": [],
   "source": []
  },
  {
   "cell_type": "code",
   "execution_count": null,
   "id": "314c9fb9-a8d9-4ecd-91ba-419ca46de048",
   "metadata": {},
   "outputs": [],
   "source": []
  },
  {
   "cell_type": "code",
   "execution_count": null,
   "id": "8c0a4dcb-cb6c-43e5-9bba-d31ab4246ccd",
   "metadata": {},
   "outputs": [],
   "source": [
    "def run_sql(sql, path='datasets/fivethirtyeight.db'):\n",
    "    conn = sqlite3.connect(path)\n",
    "    table = pd.read_sql(sql, conn)\n",
    "    return table\n",
    "\n",
    "def get_uniques(sketchpad):\n",
    "    conn = sqlite3.connect(sketchpad.context['source'])\n",
    "    table = pd.read_sql(f\"\"\"\n",
    "        select \n",
    "            \"{sketchpad.context['column_name']}\"\n",
    "        from\n",
    "            \"{sketchpad.context['table_name']}\"\n",
    "        group by \"{sketchpad.context['column_name']}\"\n",
    "    \"\"\", conn)\n",
    "    return table"
   ]
  },
  {
   "cell_type": "code",
   "execution_count": null,
   "id": "f14ce67c-1f93-494e-a7e8-32b8cc01dd11",
   "metadata": {},
   "outputs": [],
   "source": []
  },
  {
   "cell_type": "code",
   "execution_count": null,
   "id": "4975f4fc-83d8-46bc-81af-139d693b00b6",
   "metadata": {},
   "outputs": [],
   "source": []
  },
  {
   "cell_type": "code",
   "execution_count": null,
   "id": "bff3787f-7658-4b0e-882b-fcb3c32b0246",
   "metadata": {},
   "outputs": [],
   "source": [
    "get_uniques("
   ]
  },
  {
   "cell_type": "code",
   "execution_count": null,
   "id": "f16e6f77-0e68-4db5-9977-3b7c1f6f41f4",
   "metadata": {},
   "outputs": [],
   "source": []
  },
  {
   "cell_type": "code",
   "execution_count": null,
   "id": "85b2f1c7-fb4f-4e6d-91f2-acf00a8922ad",
   "metadata": {},
   "outputs": [],
   "source": []
  },
  {
   "cell_type": "code",
   "execution_count": null,
   "id": "c02da9f6-21cf-4aab-95a6-a88841cfd65b",
   "metadata": {},
   "outputs": [],
   "source": [
    "run_sql(\"Select 'F*G' from 'classic-rock/classic-rock-song-list' limit 10\")"
   ]
  },
  {
   "cell_type": "code",
   "execution_count": null,
   "id": "2694218f-cd51-46a7-9421-ec631df43a96",
   "metadata": {},
   "outputs": [],
   "source": [
    "run_sql(\"Select 'rees-davies' from 'next-bechdel/nextBechdel_allTests' limit 10\")"
   ]
  },
  {
   "cell_type": "code",
   "execution_count": null,
   "id": "e5ffc27c-bc85-4f29-8933-f72fd29daef5",
   "metadata": {},
   "outputs": [],
   "source": []
  }
 ],
 "metadata": {
  "kernelspec": {
   "display_name": "Python 3.10.5 64-bit ('sketch')",
   "language": "python",
   "name": "python3"
  },
  "language_info": {
   "codemirror_mode": {
    "name": "ipython",
    "version": 3
   },
   "file_extension": ".py",
   "mimetype": "text/x-python",
   "name": "python",
   "nbconvert_exporter": "python",
   "pygments_lexer": "ipython3",
   "version": "3.10.5"
  },
  "vscode": {
   "interpreter": {
    "hash": "1a56c398c352595db7d0130f0fc00eb36e63ee8641ddc16c2e5bdd38e08d5e9b"
   }
  }
 },
 "nbformat": 4,
 "nbformat_minor": 5
}
