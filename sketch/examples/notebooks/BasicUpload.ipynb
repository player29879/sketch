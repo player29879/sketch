{
 "cells": [
  {
   "cell_type": "code",
   "execution_count": 1,
   "id": "6b721bd8-c1bf-440f-b518-e9620ae8caae",
   "metadata": {},
   "outputs": [],
   "source": [
    "from sketch import Portfolio"
   ]
  },
  {
   "cell_type": "code",
   "execution_count": 2,
   "id": "61aa4c2b-1202-41ea-9afa-24f0436069a7",
   "metadata": {},
   "outputs": [],
   "source": [
    "pf = Portfolio.from_sqlite('../datasets/food-trucks.db')"
   ]
  },
  {
   "cell_type": "code",
   "execution_count": 3,
   "id": "7b9ac719-5b4a-44b8-bd1f-a7572d93f4a8",
   "metadata": {},
   "outputs": [
    {
     "data": {
      "text/plain": [
       "{'id': '425d7270cf4d1f645be3084bd9545836474b197c3f5f73c834803aee4d299943',\n",
       " 'type': 'SqliteColumn',\n",
       " 'data': {'path': '../datasets/food-trucks.db',\n",
       "  'column': 'value',\n",
       "  'query': 'SELECT value FROM Applicant',\n",
       "  'friendly_name': None}}"
      ]
     },
     "execution_count": 3,
     "metadata": {},
     "output_type": "execute_result"
    }
   ],
   "source": [
    "list(pf.sketchpads.values())[1].reference.to_dict()"
   ]
  },
  {
   "cell_type": "code",
   "execution_count": 4,
   "id": "af7779af-b497-4577-bcd9-c1edf4e84617",
   "metadata": {},
   "outputs": [
    {
     "data": {
      "text/plain": [
       "'SELECT value FROM Applicant value ../datasets/food-trucks.db'"
      ]
     },
     "execution_count": 4,
     "metadata": {},
     "output_type": "execute_result"
    }
   ],
   "source": [
    "list(pf.sketchpads.values())[1].reference.to_searchable_string()"
   ]
  },
  {
   "cell_type": "code",
   "execution_count": 5,
   "id": "afc25fc4-84ec-4bae-8a3b-6df41483bc95",
   "metadata": {},
   "outputs": [
    {
     "name": "stdout",
     "output_type": "stream",
     "text": [
      "import os\n",
      "import pandas as pd\n",
      "import sqlite3\n",
      "conn = sqlite3.connect('../datasets/food-trucks.db')\n",
      "df = pd.read_sql_query('SELECT value FROM Applicant', conn)\n",
      "df = df['value']\n"
     ]
    }
   ],
   "source": [
    "print(list(pf.sketchpads.values())[1].reference.to_pyscript())"
   ]
  },
  {
   "cell_type": "code",
   "execution_count": null,
   "id": "e26fcbac-62ab-4ea3-b70a-6addba010cdc",
   "metadata": {},
   "outputs": [],
   "source": []
  },
  {
   "cell_type": "code",
   "execution_count": 6,
   "id": "08c3cdd7-657a-4999-a74b-5d66f2e33271",
   "metadata": {},
   "outputs": [],
   "source": [
    "pf2 = Portfolio.from_sqlite('https://san-francisco.datasettes.com/food-trucks.db')"
   ]
  },
  {
   "cell_type": "code",
   "execution_count": 7,
   "id": "85605598-9d77-4ac1-8783-623066bcf8e1",
   "metadata": {},
   "outputs": [],
   "source": [
    "pf2.upload(apiKey=\"8f79be2b6d0d47ccb8192e46f38c80ce\")"
   ]
  },
  {
   "cell_type": "code",
   "execution_count": null,
   "id": "e864c8f4-a850-4279-b936-622bf95c5e2a",
   "metadata": {},
   "outputs": [],
   "source": []
  },
  {
   "cell_type": "code",
   "execution_count": 27,
   "id": "9f5e6fdb-ea1b-4320-8b78-f98f138b2474",
   "metadata": {},
   "outputs": [
    {
     "data": {
      "text/plain": [
       "0                            Pipo's Grill\n",
       "1                           Bach Catering\n",
       "2                              La Falafel\n",
       "3                         Taza Halal Cart\n",
       "4                          Tacos El Primo\n",
       "                      ...                \n",
       "126                    Akuranvyka USA Inc\n",
       "127    Mario's Colombian and Mexican Food\n",
       "128                        Serendipity SF\n",
       "129                       Missing Link SF\n",
       "130                         SAS Group LLC\n",
       "Name: value, Length: 131, dtype: object"
      ]
     },
     "execution_count": 27,
     "metadata": {},
     "output_type": "execute_result"
    }
   ],
   "source": [
    "df"
   ]
  },
  {
   "cell_type": "code",
   "execution_count": 24,
   "id": "2fc6e6b4-d31f-4773-a5fc-d0a8ea1df589",
   "metadata": {},
   "outputs": [
    {
     "name": "stderr",
     "output_type": "stream",
     "text": [
      "ERROR:root:Failed to upload sketchpad b70ef19a-6809-4a6b-825c-bed0fbb54e7c\n",
      "ERROR:root:Internal Server Error\n"
     ]
    },
    {
     "data": {
      "text/plain": [
       "False"
      ]
     },
     "execution_count": 24,
     "metadata": {},
     "output_type": "execute_result"
    }
   ],
   "source": [
    "pf.upload(apiKey=\"8f79be2b6d0d47ccb8192e46f38c80ce\")"
   ]
  },
  {
   "cell_type": "code",
   "execution_count": 12,
   "id": "f4556d7a-0b8c-42d0-b55f-cb83046dc3fb",
   "metadata": {},
   "outputs": [],
   "source": [
    "sp, *_ = pf.sketchpads.values()"
   ]
  },
  {
   "cell_type": "code",
   "execution_count": 21,
   "id": "9da1e3cb-b36b-457e-a39e-043bb6a58b83",
   "metadata": {},
   "outputs": [
    {
     "data": {
      "text/plain": [
       "{'version': '0.0.1',\n",
       " 'metadata': {'id': 'b70ef19a-6809-4a6b-825c-bed0fbb54e7c',\n",
       "  'creation_start': '2022-08-03T22:55:27.088002',\n",
       "  'creation_end': '2022-08-03T22:55:27.092711'},\n",
       " 'reference': {'id': 'c4383ec6b0029525e1e9917cd97c11d661f07823e63eae913c090baacce8c0e2',\n",
       "  'type': 'SqliteColumn',\n",
       "  'data': {'path': '../datasets/food-trucks.db',\n",
       "   'column': 'id',\n",
       "   'query': 'SELECT id FROM Applicant',\n",
       "   'friendly_name': None}},\n",
       " 'sketches': [{'name': 'Rows', 'data': 131},\n",
       "  {'name': 'Count', 'data': 131},\n",
       "  {'name': 'MinHash',\n",
       "   'data': 'AQAAAAAAAACAAAAA9J8qABg0cAHo1DcAcnUHAdylCAJRE2EAibEBBvuaYQL13v4ApZxQAxyYSwFtbToFzeB8APxPowGyp1MAKXucAR0GIgKKnR0Ch32wAwmaEgHxOcsBVjRVBpvN2QDuQQwG8wI1AP8/3gR4wv0DDbMCBKnT4QCfAVEErutYAOYgWwRsEXsBVH9IAAAxZgDJkoYFSikcAPRBkQIx+XkDNBCWApxyUgCMH/cAbXD9BLnO/QGtHmkPo15TBPu1DgHNbf8AKosNAPa1jgbK5xEDbQ7uALpbUgN2oz4NV3oxAElM/gH0FzAA/6WSBCCjpAHoHdcBcW+UAC7ZswCTiKYABUqmAW06BwEFgkUEmbaLABIJxAIJLyICYn16A0x1FwBE/9wA3qzOAafAWQEjMH4AyqqRABJ8eQf/pGUAKBObAGLzXgDcX+sC/2aqACG4+AEXhXEBV3hAAWyuPAFRu/cCVmJSAfxuPAGup+IBWseHACQvqQEYgr4AbwOKABistAGWbrwBuN1PBGHrrwB3FAoDy/MTAM8/GwLJU5wAU5jpANXfcgImyekAGgPXADjhXwH1M8YAQEv+AR6XPwHqvXABCZtVAGAfNwPxgiYAa25pA843yQFd84cA8k6GAqDHqwD1jncAh7tBAMC6yACH8CQAIqcqBVsVBQBgqA0Alxv0AcQAhQI='},\n",
       "  {'name': 'HyperLogLog',\n",
       "   'data': 'CAEAAQAAAQABAQACAAIAAAAAAwMBAAICBQAAAAIAAwACAAMBAAAAAAAAAAIAAAECAAABAAAAAgAAAAAAAAYAAAABAAAAAAMAAgAAAAABAQAAAAEDAAUAAAAAAQEBAAAEAAMAAwEDAAEAAQAAAAIAAAQAAAEAAAAFAQEAAAMAAwAAAQMBAAAAAAABAAABAAAEAAgBBAEAAAABAgABAAAAAgAAAgQAAAAAAgACAAABAAACAAIAAQIAAQQBAAAAAQUCAAEBAAAAAgQAAQAHAwAAAAACAAACBQMAAAAAAQEAAAAAAAUAAAAAAgMAAgACAQAAAwACAAEAAAMAAAABAQMAAwA='}],\n",
       " 'context': {'column_name': 'id'}}"
      ]
     },
     "execution_count": 21,
     "metadata": {},
     "output_type": "execute_result"
    }
   ],
   "source": [
    "sp.to_dict()"
   ]
  },
  {
   "cell_type": "code",
   "execution_count": 16,
   "id": "3e91ba2e-06dd-41ec-a82c-14ca82fb2194",
   "metadata": {},
   "outputs": [],
   "source": [
    "from sketch.core import SketchPad\n",
    "test = SketchPad.from_dict(sp.to_dict())"
   ]
  },
  {
   "cell_type": "code",
   "execution_count": null,
   "id": "9ab835a4-367c-471b-9113-6b5a696a147d",
   "metadata": {},
   "outputs": [],
   "source": []
  },
  {
   "cell_type": "code",
   "execution_count": null,
   "id": "d4b5b7bb-a773-4b7a-ad24-f9e801a2cfd2",
   "metadata": {},
   "outputs": [],
   "source": []
  },
  {
   "cell_type": "code",
   "execution_count": null,
   "id": "f710c50a-363d-43d5-9d9a-ccdfde370892",
   "metadata": {},
   "outputs": [],
   "source": [
    "pf = Portfolio.from_sqlite('../datasets/fivethirtyeight.db')"
   ]
  },
  {
   "cell_type": "code",
   "execution_count": 30,
   "id": "f4ce39c4-7a57-495a-9a61-c2d4a86742f3",
   "metadata": {},
   "outputs": [],
   "source": [
    "pf.upload(apiKey=\"8f79be2b6d0d47ccb8192e46f38c80ce\")\n"
   ]
  },
  {
   "cell_type": "code",
   "execution_count": null,
   "id": "ac783e94-f3a3-4dda-8899-539afe64ebf2",
   "metadata": {},
   "outputs": [],
   "source": [
    "!ls -lh ../datasets"
   ]
  },
  {
   "cell_type": "code",
   "execution_count": null,
   "id": "afc08996-f656-4ec5-bc2b-88cd732d8403",
   "metadata": {},
   "outputs": [],
   "source": [
    "# Good error to chase"
   ]
  },
  {
   "cell_type": "code",
   "execution_count": null,
   "id": "fde8375a-1c9e-4b65-a733-e3468b9f2923",
   "metadata": {},
   "outputs": [],
   "source": [
    "import pandas as pd\n",
    "water = pd.read_html('https://en.wikipedia.org/wiki/Spider_taxonomy')"
   ]
  },
  {
   "cell_type": "code",
   "execution_count": null,
   "id": "771747c3-fba3-421d-8dca-5011b7a5b943",
   "metadata": {},
   "outputs": [],
   "source": [
    "pf = Portfolio.from_dataframes(water)"
   ]
  },
  {
   "cell_type": "code",
   "execution_count": null,
   "id": "5cdb4fdb-f843-4ed7-a123-8fcdb58223b6",
   "metadata": {},
   "outputs": [],
   "source": [
    "pf.upload(apiKey=\"8f79be2b6d0d47ccb8192e46f38c80ce\")"
   ]
  },
  {
   "cell_type": "code",
   "execution_count": null,
   "id": "5c14ff98-964f-4abe-bd72-6cca5373235a",
   "metadata": {},
   "outputs": [],
   "source": []
  }
 ],
 "metadata": {
  "kernelspec": {
   "display_name": "Python 3 (ipykernel)",
   "language": "python",
   "name": "python3"
  },
  "language_info": {
   "codemirror_mode": {
    "name": "ipython",
    "version": 3
   },
   "file_extension": ".py",
   "mimetype": "text/x-python",
   "name": "python",
   "nbconvert_exporter": "python",
   "pygments_lexer": "ipython3",
   "version": "3.10.5"
  }
 },
 "nbformat": 4,
 "nbformat_minor": 5
}
