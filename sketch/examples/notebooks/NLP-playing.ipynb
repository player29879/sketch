{
 "cells": [
  {
   "cell_type": "code",
   "execution_count": 2,
   "id": "2f7c3358-867a-4908-97c3-d9fccd95a827",
   "metadata": {},
   "outputs": [
    {
     "name": "stderr",
     "output_type": "stream",
     "text": [
      "/Users/jawaugh/.pyenv/versions/3.10.5/envs/sketch/lib/python3.10/site-packages/tqdm/auto.py:22: TqdmWarning: IProgress not found. Please update jupyter and ipywidgets. See https://ipywidgets.readthedocs.io/en/stable/user_install.html\n",
      "  from .autonotebook import tqdm as notebook_tqdm\n"
     ]
    }
   ],
   "source": [
    "from transformers import pipeline"
   ]
  },
  {
   "cell_type": "code",
   "execution_count": 3,
   "id": "e3403963-36df-439c-9ea0-a817dcdda025",
   "metadata": {},
   "outputs": [
    {
     "name": "stderr",
     "output_type": "stream",
     "text": [
      "Downloading pytorch_model.bin: 100%|█| 478M/478M [00:44<00:0\n",
      "Downloading vocab.json: 100%|█| 878k/878k [00:00<00:00, 2.53\n",
      "Downloading merges.txt: 100%|█| 446k/446k [00:00<00:00, 1.78\n",
      "Downloading tokenizer.json: 100%|█| 1.29M/1.29M [00:00<00:00\n"
     ]
    }
   ],
   "source": [
    "unmasker = pipeline('fill-mask', model='roberta-base')"
   ]
  },
  {
   "cell_type": "code",
   "execution_count": 8,
   "id": "b0b786b6-dab5-452a-8203-43b89bb0b07b",
   "metadata": {},
   "outputs": [
    {
     "name": "stdout",
     "output_type": "stream",
     "text": [
      "0.07817292213439941\n"
     ]
    },
    {
     "data": {
      "text/plain": [
       "[{'score': 0.12359891831874847,\n",
       "  'token': 42,\n",
       "  'token_str': ' this',\n",
       "  'sequence': 'I think i should ask a question about this'},\n",
       " {'score': 0.05730964615941048,\n",
       "  'token': 14,\n",
       "  'token_str': ' that',\n",
       "  'sequence': 'I think i should ask a question about that'},\n",
       " {'score': 0.042798109352588654,\n",
       "  'token': 35,\n",
       "  'token_str': ':',\n",
       "  'sequence': 'I think i should ask a question about:'},\n",
       " {'score': 0.03546227514743805,\n",
       "  'token': 24,\n",
       "  'token_str': ' it',\n",
       "  'sequence': 'I think i should ask a question about it'},\n",
       " {'score': 0.027024833485484123,\n",
       "  'token': 596,\n",
       "  'token_str': ' why',\n",
       "  'sequence': 'I think i should ask a question about why'}]"
      ]
     },
     "execution_count": 8,
     "metadata": {},
     "output_type": "execute_result"
    }
   ],
   "source": [
    "import time\n",
    "st = time.time()\n",
    "results = unmasker(\"I think i should ask a question about <mask>\")\n",
    "print(time.time()-st)\n",
    "results"
   ]
  },
  {
   "cell_type": "code",
   "execution_count": null,
   "id": "213834c8-428b-4fe6-9805-25378a99c91e",
   "metadata": {},
   "outputs": [],
   "source": []
  },
  {
   "cell_type": "code",
   "execution_count": null,
   "id": "e2c97379-da5e-4d55-a0ae-7b4e28703cd4",
   "metadata": {},
   "outputs": [],
   "source": []
  },
  {
   "cell_type": "code",
   "execution_count": 9,
   "id": "9bc79538-757c-46ad-b05d-fe0ee5cedc1e",
   "metadata": {},
   "outputs": [
    {
     "name": "stderr",
     "output_type": "stream",
     "text": [
      "No model was supplied, defaulted to sshleifer/distilbart-cnn-12-6 and revision a4f8f3e (https://huggingface.co/sshleifer/distilbart-cnn-12-6).\n",
      "Using a pipeline without specifying a model name and revision in production is not recommended.\n",
      "Downloading config.json: 100%|█| 1.76k/1.76k [00:00<00:00, 4\n",
      "Downloading pytorch_model.bin: 100%|█| 1.14G/1.14G [01:47<00\n",
      "Downloading tokenizer_config.json: 100%|█| 26.0/26.0 [00:00<\n",
      "Downloading vocab.json: 100%|█| 878k/878k [00:00<00:00, 2.17\n",
      "Downloading merges.txt: 100%|█| 446k/446k [00:00<00:00, 1.58\n"
     ]
    }
   ],
   "source": [
    "summarizer = pipeline(\"summarization\")"
   ]
  },
  {
   "cell_type": "code",
   "execution_count": 10,
   "id": "34dd5299-e224-4022-bbbb-21e7e5f87cf1",
   "metadata": {},
   "outputs": [],
   "source": [
    "ARTICLE = \"\"\"\n",
    "The Casino Theatre was a live theatre, in Toronto, Ontario, Canada. It was located at 87 Queen Street West across the street from the current site of Nathan Phillips Square.[1][2]\n",
    "\n",
    "The structure was designed by architects Kaplan & Sprachman, who designed 21 other theatres in Toronto, and 48 elsewhere in Canada. The theatre opened in 1936 and demolished in 1960.[3][4] It seated almost 1,200 patrons.\n",
    "\n",
    "The theatre hosted well-known performers, such as Johnny Rae, Patti Page, Gene Nelson, Pearl Bailey, Phil Silvers, Abbott and Costello, Nat King Cole, Sammy Davis Jr., Mickey Rooney, Frankie Laine, Sally Rand, Gypsy Rose Lee, Rose La Rose, Cup Cakes Cassidy, the Crewcuts, the Four Lads, Golden Gate Quartet, Billy Daniels and Rosemary Clooney.[5]\n",
    "\n",
    "The strippers, and baudy comedians who performed at Casino made the Casino particularly subject to commentary and complaints.[3][6] Doug Taylor, the author of Toronto Theaters and the Golden Age of the Silver Screen wrote that, \"Other perhaps than the Victory Theatre on Spadina, there is no entertainment venue that elicited as much praise, raunchy stories, condemnation and press coverage as the infamous Casino Theatre.\"[3] He described one high school principal staking out the theatre in order to catch students who were playing hookey to catch a show at the Casino.\n",
    "\n",
    "Mike Filey, the Toronto Sun's historical columnist, noted that the theatre opened at one minute after midnight, April 13, 1936, a Monday, because conservative laws required the closure of venues that catered to pleasure, on Sundays.[3][6] Filey suggested public complaints about the morals of the establishment were routinely ignored, since it was right across the street from City Hall, and many city councilors were regular patrons. Filey wrote that the Casino \"offered every type of performance allowed by law, and some that weren't.\"\n",
    "\n",
    "The three partners who founded the Casino were Jules Allen, and Jay Allen, and Murray Little, who already owned the Broadway Theatre, another Burlesque theatre at 75 Queen Street West.[3]\n",
    "\"\"\""
   ]
  },
  {
   "cell_type": "code",
   "execution_count": 11,
   "id": "f8ff8c51-0c54-4a11-939d-c35700645474",
   "metadata": {},
   "outputs": [
    {
     "name": "stdout",
     "output_type": "stream",
     "text": [
      "[{'summary_text': \" The theatre opened in 1936 and hosted many famous performers . It was located across the street from the current site of Toronto's Queen Street Theatre . The theatre was owned by Jules Allen and Jay Allen .\"}]\n"
     ]
    }
   ],
   "source": [
    "print(summarizer(ARTICLE, max_length=130, min_length=30, do_sample=False))"
   ]
  },
  {
   "cell_type": "code",
   "execution_count": null,
   "id": "32ce31a4-f46b-4619-9f51-74980d766c13",
   "metadata": {},
   "outputs": [],
   "source": []
  },
  {
   "cell_type": "code",
   "execution_count": 38,
   "id": "58e73562-7346-49a8-971f-8f164ad31f8f",
   "metadata": {},
   "outputs": [],
   "source": [
    "model = SentenceTransformer('all-MiniLM-L6-v2')\n"
   ]
  },
  {
   "cell_type": "code",
   "execution_count": 13,
   "id": "18d14496-1c20-4fdd-9c28-2b9fce2c2f3a",
   "metadata": {},
   "outputs": [],
   "source": [
    "test = model.encode([\"This is something, i wonder if it's fast\"])"
   ]
  },
  {
   "cell_type": "code",
   "execution_count": 15,
   "id": "a9ee4430-9963-4797-ab0c-2c88a8d05b17",
   "metadata": {},
   "outputs": [],
   "source": [
    "from sentence_transformers import SentenceTransformer\n",
    "\n",
    "model = SentenceTransformer('all-MiniLM-L6-v2')\n",
    "\n",
    "#Our sentences we like to encode\n",
    "sentences = ['This framework generates embeddings for each input sentence',\n",
    "    'Sentences are passed as a list of string.',\n",
    "    'The quick brown fox jumps over the lazy dog.']*50\n",
    "\n",
    "#Sentences are encoded by calling model.encode()\n",
    "embeddings = model.encode(sentences)\n",
    "\n",
    "# #Print the embeddings\n",
    "# for sentence, embedding in zip(sentences, embeddings):\n",
    "#     print(\"Sentence:\", sentence)\n",
    "#     print(\"Embedding:\", embedding)\n",
    "#     print(\"\")"
   ]
  },
  {
   "cell_type": "code",
   "execution_count": 14,
   "id": "1ba56e09-b075-490b-be97-969dc1dbd4b9",
   "metadata": {},
   "outputs": [],
   "source": [
    "#Our sentences we like to encode\n",
    "sentences = ['This framework generates embeddings for each input sentence',\n",
    "    'Sentences are passed as a list of string.',\n",
    "    'The quick brown fox jumps over the lazy dog.']*50\n",
    "\n",
    "#Sentences are encoded by calling model.encode()\n",
    "embeddings = model.encode(sentences)"
   ]
  },
  {
   "cell_type": "code",
   "execution_count": 22,
   "id": "9e94d18f-ae15-4e04-905e-82f638f839f1",
   "metadata": {},
   "outputs": [],
   "source": [
    "somewords = [\"watermellon\", \"apple\", \"wasps\", 'This framework generates embeddings for each input sentence',\n",
    "    'Sentences are passed as a list of string.',\n",
    "    'The quick brown fox jumps over the lazy dog.']\n",
    "embeddings = model.encode(somewords)"
   ]
  },
  {
   "cell_type": "code",
   "execution_count": 23,
   "id": "93a0e12e-3ec1-4c52-9831-00b589b0095f",
   "metadata": {},
   "outputs": [
    {
     "data": {
      "text/html": [
       "<style>#sk-container-id-3 {color: black;background-color: white;}#sk-container-id-3 pre{padding: 0;}#sk-container-id-3 div.sk-toggleable {background-color: white;}#sk-container-id-3 label.sk-toggleable__label {cursor: pointer;display: block;width: 100%;margin-bottom: 0;padding: 0.3em;box-sizing: border-box;text-align: center;}#sk-container-id-3 label.sk-toggleable__label-arrow:before {content: \"▸\";float: left;margin-right: 0.25em;color: #696969;}#sk-container-id-3 label.sk-toggleable__label-arrow:hover:before {color: black;}#sk-container-id-3 div.sk-estimator:hover label.sk-toggleable__label-arrow:before {color: black;}#sk-container-id-3 div.sk-toggleable__content {max-height: 0;max-width: 0;overflow: hidden;text-align: left;background-color: #f0f8ff;}#sk-container-id-3 div.sk-toggleable__content pre {margin: 0.2em;color: black;border-radius: 0.25em;background-color: #f0f8ff;}#sk-container-id-3 input.sk-toggleable__control:checked~div.sk-toggleable__content {max-height: 200px;max-width: 100%;overflow: auto;}#sk-container-id-3 input.sk-toggleable__control:checked~label.sk-toggleable__label-arrow:before {content: \"▾\";}#sk-container-id-3 div.sk-estimator input.sk-toggleable__control:checked~label.sk-toggleable__label {background-color: #d4ebff;}#sk-container-id-3 div.sk-label input.sk-toggleable__control:checked~label.sk-toggleable__label {background-color: #d4ebff;}#sk-container-id-3 input.sk-hidden--visually {border: 0;clip: rect(1px 1px 1px 1px);clip: rect(1px, 1px, 1px, 1px);height: 1px;margin: -1px;overflow: hidden;padding: 0;position: absolute;width: 1px;}#sk-container-id-3 div.sk-estimator {font-family: monospace;background-color: #f0f8ff;border: 1px dotted black;border-radius: 0.25em;box-sizing: border-box;margin-bottom: 0.5em;}#sk-container-id-3 div.sk-estimator:hover {background-color: #d4ebff;}#sk-container-id-3 div.sk-parallel-item::after {content: \"\";width: 100%;border-bottom: 1px solid gray;flex-grow: 1;}#sk-container-id-3 div.sk-label:hover label.sk-toggleable__label {background-color: #d4ebff;}#sk-container-id-3 div.sk-serial::before {content: \"\";position: absolute;border-left: 1px solid gray;box-sizing: border-box;top: 0;bottom: 0;left: 50%;z-index: 0;}#sk-container-id-3 div.sk-serial {display: flex;flex-direction: column;align-items: center;background-color: white;padding-right: 0.2em;padding-left: 0.2em;position: relative;}#sk-container-id-3 div.sk-item {position: relative;z-index: 1;}#sk-container-id-3 div.sk-parallel {display: flex;align-items: stretch;justify-content: center;background-color: white;position: relative;}#sk-container-id-3 div.sk-item::before, #sk-container-id-3 div.sk-parallel-item::before {content: \"\";position: absolute;border-left: 1px solid gray;box-sizing: border-box;top: 0;bottom: 0;left: 50%;z-index: -1;}#sk-container-id-3 div.sk-parallel-item {display: flex;flex-direction: column;z-index: 1;position: relative;background-color: white;}#sk-container-id-3 div.sk-parallel-item:first-child::after {align-self: flex-end;width: 50%;}#sk-container-id-3 div.sk-parallel-item:last-child::after {align-self: flex-start;width: 50%;}#sk-container-id-3 div.sk-parallel-item:only-child::after {width: 0;}#sk-container-id-3 div.sk-dashed-wrapped {border: 1px dashed gray;margin: 0 0.4em 0.5em 0.4em;box-sizing: border-box;padding-bottom: 0.4em;background-color: white;}#sk-container-id-3 div.sk-label label {font-family: monospace;font-weight: bold;display: inline-block;line-height: 1.2em;}#sk-container-id-3 div.sk-label-container {text-align: center;}#sk-container-id-3 div.sk-container {/* jupyter's `normalize.less` sets `[hidden] { display: none; }` but bootstrap.min.css set `[hidden] { display: none !important; }` so we also need the `!important` here to be able to override the default hidden behavior on the sphinx rendered scikit-learn.org. See: https://github.com/scikit-learn/scikit-learn/issues/21755 */display: inline-block !important;position: relative;}#sk-container-id-3 div.sk-text-repr-fallback {display: none;}</style><div id=\"sk-container-id-3\" class=\"sk-top-container\"><div class=\"sk-text-repr-fallback\"><pre>NearestNeighbors(n_neighbors=2)</pre><b>In a Jupyter environment, please rerun this cell to show the HTML representation or trust the notebook. <br />On GitHub, the HTML representation is unable to render, please try loading this page with nbviewer.org.</b></div><div class=\"sk-container\" hidden><div class=\"sk-item\"><div class=\"sk-estimator sk-toggleable\"><input class=\"sk-toggleable__control sk-hidden--visually\" id=\"sk-estimator-id-3\" type=\"checkbox\" checked><label for=\"sk-estimator-id-3\" class=\"sk-toggleable__label sk-toggleable__label-arrow\">NearestNeighbors</label><div class=\"sk-toggleable__content\"><pre>NearestNeighbors(n_neighbors=2)</pre></div></div></div></div></div>"
      ],
      "text/plain": [
       "NearestNeighbors(n_neighbors=2)"
      ]
     },
     "execution_count": 23,
     "metadata": {},
     "output_type": "execute_result"
    }
   ],
   "source": [
    "from sklearn.neighbors import NearestNeighbors\n",
    "\n",
    "# set desired number of neighbors\n",
    "neigh = NearestNeighbors(n_neighbors=2)\n",
    "neigh.fit(embeddings)\n",
    "# select indices of k nearest neighbors of the vectors in the input list"
   ]
  },
  {
   "cell_type": "code",
   "execution_count": 36,
   "id": "9c2b798a-16b9-4c6d-a2ff-f648f24419a8",
   "metadata": {},
   "outputs": [],
   "source": [
    "neighbors = neigh.kneighbors(model.encode(['lists of strings for ranking']), return_distance = True)"
   ]
  },
  {
   "cell_type": "code",
   "execution_count": 39,
   "id": "43f69153-9487-49aa-a74c-f728490b4d5c",
   "metadata": {},
   "outputs": [],
   "source": [
    "a, b = neighbors"
   ]
  },
  {
   "cell_type": "code",
   "execution_count": 44,
   "id": "79e5bd7f-b4e2-4a45-b7ad-e1e9385e47a7",
   "metadata": {},
   "outputs": [
    {
     "data": {
      "text/plain": [
       "[4, 3]"
      ]
     },
     "execution_count": 44,
     "metadata": {},
     "output_type": "execute_result"
    }
   ],
   "source": [
    "list(b[0])"
   ]
  },
  {
   "cell_type": "code",
   "execution_count": null,
   "id": "6cb7ac9a-137f-4b7f-8754-69c661173c55",
   "metadata": {},
   "outputs": [],
   "source": []
  }
 ],
 "metadata": {
  "kernelspec": {
   "display_name": "Python 3 (ipykernel)",
   "language": "python",
   "name": "python3"
  },
  "language_info": {
   "codemirror_mode": {
    "name": "ipython",
    "version": 3
   },
   "file_extension": ".py",
   "mimetype": "text/x-python",
   "name": "python",
   "nbconvert_exporter": "python",
   "pygments_lexer": "ipython3",
   "version": "3.10.5"
  }
 },
 "nbformat": 4,
 "nbformat_minor": 5
}
