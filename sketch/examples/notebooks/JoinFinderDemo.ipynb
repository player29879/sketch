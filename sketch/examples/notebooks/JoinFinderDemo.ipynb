{
 "cells": [
  {
   "cell_type": "code",
   "execution_count": null,
   "id": "b6e13a83-15b9-4719-8fb0-1b7770488ae3",
   "metadata": {},
   "outputs": [],
   "source": [
    "import pandas as pd\n",
    "import random\n",
    "\n",
    "local_df = pd.DataFrame(\n",
    "    {'i': [x for x in range(120)]*8,\n",
    "     'age': [random.randint(20,80) for _ in range(120)]*8\n",
    "    }\n",
    ")"
   ]
  },
  {
   "cell_type": "code",
   "execution_count": null,
   "id": "0cfa3ede-9497-4605-9257-04e070596182",
   "metadata": {},
   "outputs": [],
   "source": [
    "local_df.head()"
   ]
  },
  {
   "cell_type": "code",
   "execution_count": null,
   "id": "15ff151d-3f94-4912-8c6b-b552a9d45bda",
   "metadata": {},
   "outputs": [],
   "source": [
    "len(local_df)"
   ]
  },
  {
   "cell_type": "code",
   "execution_count": null,
   "id": "54edafce",
   "metadata": {},
   "outputs": [],
   "source": []
  },
  {
   "cell_type": "code",
   "execution_count": null,
   "id": "a739f2c8-7ad7-4f66-932c-c575e2ccefd1",
   "metadata": {},
   "outputs": [],
   "source": [
    "from sketch import Portfolio\n",
    "test = Portfolio.from_dataframe(local_df)"
   ]
  },
  {
   "cell_type": "code",
   "execution_count": null,
   "id": "6008590e-1f30-4db5-8ad0-93565251c782",
   "metadata": {},
   "outputs": [],
   "source": [
    "test.find_joinables_html(apiKey='8f79be2b6d0d47ccb8192e46f38c80ce')"
   ]
  },
  {
   "cell_type": "code",
   "execution_count": null,
   "id": "c22e52b4-dfd4-4bc6-96cb-38a7ae767cc9",
   "metadata": {},
   "outputs": [],
   "source": [
    "# !pip install sketch"
   ]
  },
  {
   "cell_type": "code",
   "execution_count": null,
   "id": "fbfac2f3-f8ec-476c-9d00-73ee5e49d6c4",
   "metadata": {},
   "outputs": [],
   "source": []
  }
 ],
 "metadata": {
  "kernelspec": {
   "display_name": "Python 3 (ipykernel)",
   "language": "python",
   "name": "python3"
  },
  "language_info": {
   "codemirror_mode": {
    "name": "ipython",
    "version": 3
   },
   "file_extension": ".py",
   "mimetype": "text/x-python",
   "name": "python",
   "nbconvert_exporter": "python",
   "pygments_lexer": "ipython3",
   "version": "3.10.5"
  },
  "vscode": {
   "interpreter": {
    "hash": "adcb619b33f588203bb576ea56ee3c20c6d0d8de6f18aca777331501d8e7497b"
   }
  }
 },
 "nbformat": 4,
 "nbformat_minor": 5
}
