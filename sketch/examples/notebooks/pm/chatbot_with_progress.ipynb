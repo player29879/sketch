{
 "cells": [
  {
   "cell_type": "code",
   "execution_count": null,
   "metadata": {},
   "outputs": [],
   "source": [
    "from sketch.examples.prompt_machine import *\n",
    "\n",
    "async def chatbot(response_callback):\n",
    "    messages = []\n",
    "    async with websockets.connect(PM_SETTINGS['uri'], extra_headers={\"Cookie\": f\"Authorization=Bearer {PM_SETTINGS['BOT_TOKEN']}\"}) as ws:\n",
    "        while True:\n",
    "            try:\n",
    "                raw_data = await asyncio.wait_for(ws.recv(), timeout=0.5)\n",
    "                data = json.loads(raw_data)\n",
    "                print(\"log:\", data)\n",
    "                if data.get(\"meta\", False):\n",
    "                    continue\n",
    "                if data.get(\"replay\", False) or data[\"sender\"] == \"datAI\":\n",
    "                    messages.append(data)\n",
    "                    continue\n",
    "                if data[\"message\"] == \"sudo clear\":\n",
    "                    print(\"Sudo clearing\")\n",
    "                    await ws.send(json.dumps({\"message\": \"sudo clear thread\"}))\n",
    "                    messages = []\n",
    "                    continue\n",
    "                if data[\"message\"] == \"break\":\n",
    "                    break\n",
    "                messages.append(data)\n",
    "            except asyncio.TimeoutError:\n",
    "                # not sure why I'm doing this, it felt important to have an \"infinite\" loop...\n",
    "                continue\n",
    "            await ws.send(json.dumps({\"typing\": True}))\n",
    "            response = await response_callback(ws, \"\\n\".join([f\"{m['sender']}: {m['message']}\" for m in messages[-1:]]))\n",
    "            await ws.send(json.dumps({\"message\": response}))\n",
    "            await ws.send(json.dumps({\"typing\": False}))\n"
   ]
  },
  {
   "cell_type": "code",
   "execution_count": null,
   "metadata": {},
   "outputs": [],
   "source": [
    "sqlExecutor = GPT3Prompt(\n",
    "    \"sqlExecutor\",\n",
    "    \"\"\"\n",
    "The user's intent in this conversation {{ userIntent }}.\n",
    "Answer the users intent with SQLite SQL from the following database.\n",
    "|| Database Context ||\n",
    "{{ database_context }}\n",
    "===\n",
    "Query to answer [{{ userIntent }}]:\n",
    "{% if previousAttempt %}\n",
    "DIFFERING ATTEMPTS: (3)\n",
    "(1)\n",
    "{{ previousAttempt }}\n",
    "\n",
    "(2)\n",
    "{% endif %}\n",
    "```\"\"\",\n",
    "    stop=\"```\",\n",
    "    model_name=\"code-davinci-002\"\n",
    ")"
   ]
  },
  {
   "cell_type": "code",
   "execution_count": null,
   "metadata": {},
   "outputs": [],
   "source": [
    "composeDataDrivenAnswer = GPT3Prompt(\n",
    "    \"composeDataDrivenAnswer\",\n",
    "    \"\"\"\"\n",
    "===\n",
    "The query and response:\n",
    "{{ sql }}\n",
    "Result:\n",
    "{{ result }}\n",
    "===\n",
    "what the query does {{ whatWasAnswered }}\n",
    "===\n",
    "What should datAI say in response to the last message from the user, answering with the data returned from the query.\n",
    "(Note: AI can say something funny too!)\n",
    "\n",
    "datAI:\"\"\",\n",
    ")"
   ]
  },
  {
   "cell_type": "code",
   "execution_count": null,
   "metadata": {},
   "outputs": [],
   "source": [
    "whatQuestionWasAnswered = GPT3Prompt(\n",
    "    \"whatQuestionWasAnswered\",\n",
    "    \"\"\"\"\n",
    "The query and response:\n",
    "{{ sql }}\n",
    "Result:\n",
    "{{ result }}\n",
    "===\n",
    "Explain the query that was run to a 5 year old\n",
    "datAI:\"\"\",\n",
    ")"
   ]
  },
  {
   "cell_type": "code",
   "execution_count": null,
   "metadata": {},
   "outputs": [],
   "source": [
    "database_context = get_db_context()\n",
    "\n",
    "async def simple_qa_bot(ws, conversation):\n",
    "    userIntent = getUserIntent(conversation=conversation)\n",
    "    await ws.send(json.dumps({\"message\": \"I am interpreting your intent as... {}\".format(userIntent)}))\n",
    "    trials = 0\n",
    "    previousAttempt = \"\"\n",
    "    previousPreviousAttempt = \"\"\n",
    "    while trials < 8:\n",
    "        sqlresponse = sqlExecutor(\n",
    "            userIntent=userIntent,\n",
    "            previousAttempt=previousAttempt,\n",
    "            database_context=database_context,\n",
    "        )\n",
    "        res = exec_sql(sqlresponse)\n",
    "        validSQL = gotAValidSQLResponse(\n",
    "            conversation=conversation, sql=sqlresponse, result=res\n",
    "        )\n",
    "        if starts_with_y(validSQL):\n",
    "            whatWasAnswered = whatQuestionWasAnswered(\n",
    "                sql=sqlresponse, result=res\n",
    "            )\n",
    "            await ws.send(json.dumps({\"message\": f\"The question that was answered is: {whatWasAnswered}\"}))\n",
    "            return composeDataDrivenAnswer(\n",
    "                whatWasAnswered=whatWasAnswered, sql=sqlresponse, result=res\n",
    "            )\n",
    "        trials += 1\n",
    "        previousPreviousAttempt = previousAttempt\n",
    "        previousAttempt = f\"```{sqlresponse}```\\nResult:{res[:100]}\\n\"\n",
    "        if previousAttempt == previousPreviousAttempt:\n",
    "            previousAttempt = f\"STOP DOING THE SAME THING!!!!! TRY HARDER {userIntent} {userIntent} {userIntent}\"\n",
    "        await ws.send(json.dumps({\"message\": \"My previous attempt was... but it clearly failed, trying again\" + previousAttempt}))\n",
    "    return f\"I'm sorry, I tried to execute {previousAttempt} but I couldn't get a valid response. Please try again.\""
   ]
  },
  {
   "cell_type": "code",
   "execution_count": null,
   "metadata": {},
   "outputs": [],
   "source": [
    "await chatbot(simple_qa_bot)"
   ]
  },
  {
   "cell_type": "code",
   "execution_count": null,
   "metadata": {},
   "outputs": [],
   "source": []
  },
  {
   "cell_type": "code",
   "execution_count": null,
   "metadata": {},
   "outputs": [],
   "source": [
    "# SELECT player_game_log.game_id, SUM(player_game_log.pts) as total_points\n",
    "# FROM player_game_log\n",
    "# LEFT JOIN game ON game.game_id = player_game_log.game_id\n",
    "# WHERE game.season_id = 2021\n",
    "# GROUP BY game.game_id\n",
    "# HAVING total_points > 0\n",
    "# ORDER BY total_points DESC\n",
    "# LIMIT 3;"
   ]
  },
  {
   "cell_type": "code",
   "execution_count": null,
   "metadata": {},
   "outputs": [],
   "source": [
    "execute_sql(\n",
    "    \"\"\"\n",
    "    SELECT pgl1.game_id, player1.player_name AS player1, player2.player_name AS player2 \n",
    "    FROM (SELECT * FROM player_game_log WHERE pts > 40) AS pgl1 \n",
    "    LEFT JOIN (SELECT * FROM player_game_log WHERE pts > 40) AS pgl2 ON pgl1.game_id = pgl2.game_id AND pgl1.team_id = pgl2.team_id AND pgl1.player_id != pgl2.player_id \n",
    "    LEFT JOIN player as player1 ON player1.player_id = pgl1.player_id \n",
    "    LEFT JOIN player as player2 ON player2.player_id = pgl2.player_id\n",
    "    \"\"\"\n",
    ")\n",
    "\n"
   ]
  },
  {
   "cell_type": "code",
   "execution_count": null,
   "metadata": {},
   "outputs": [],
   "source": [
    "execute_sql(\n",
    "    \"\"\"\n",
    "    SELECT pgl1.game_id, pgl1.player_id, pgl2.player_id\n",
    "    FROM (SELECT * FROM player_game_log WHERE pts > 40) AS pgl1 \n",
    "    LEFT JOIN (SELECT * FROM player_game_log WHERE pts > 40) AS pgl2 ON pgl1.game_id = pgl2.game_id AND pgl1.team_id = pgl2.team_id AND pgl1.player_id != pgl2.player_id \n",
    "    \"\"\")"
   ]
  },
  {
   "cell_type": "code",
   "execution_count": null,
   "metadata": {},
   "outputs": [],
   "source": []
  }
 ],
 "metadata": {
  "kernelspec": {
   "display_name": "Python 3.10.5 64-bit ('sketch': pyenv)",
   "language": "python",
   "name": "python3"
  },
  "language_info": {
   "codemirror_mode": {
    "name": "ipython",
    "version": 3
   },
   "file_extension": ".py",
   "mimetype": "text/x-python",
   "name": "python",
   "nbconvert_exporter": "python",
   "pygments_lexer": "ipython3",
   "version": "3.10.5"
  },
  "vscode": {
   "interpreter": {
    "hash": "adcb619b33f588203bb576ea56ee3c20c6d0d8de6f18aca777331501d8e7497b"
   }
  }
 },
 "nbformat": 4,
 "nbformat_minor": 2
}
