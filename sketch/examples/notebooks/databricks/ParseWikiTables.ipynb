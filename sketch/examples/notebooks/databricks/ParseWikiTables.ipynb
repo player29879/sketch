{
 "cells": [
  {
   "cell_type": "code",
   "execution_count": null,
   "metadata": {
    "application/vnd.databricks.v1+cell": {
     "inputWidgets": {},
     "nuid": "94a9a0c5-2974-40e8-b7c5-cb652643130b",
     "showTitle": false,
     "title": ""
    }
   },
   "outputs": [],
   "source": []
  },
  {
   "cell_type": "code",
   "execution_count": null,
   "metadata": {
    "application/vnd.databricks.v1+cell": {
     "inputWidgets": {},
     "nuid": "6e1ca991-7058-4b0e-a349-a0f64e07f022",
     "showTitle": false,
     "title": ""
    }
   },
   "outputs": [],
   "source": []
  },
  {
   "cell_type": "code",
   "execution_count": null,
   "metadata": {
    "application/vnd.databricks.v1+cell": {
     "inputWidgets": {},
     "nuid": "855afb80-3dae-4720-bdfe-7382c13f90ba",
     "showTitle": true,
     "title": ""
    }
   },
   "outputs": [],
   "source": [
    "# !pip install beautifulsoup4 py-wikimarkup==2.1.3 html5lib lxml==4.9.1"
   ]
  },
  {
   "cell_type": "code",
   "execution_count": null,
   "metadata": {
    "application/vnd.databricks.v1+cell": {
     "inputWidgets": {},
     "nuid": "42a9a8ed-bf09-4e3d-8a20-f9e824755344",
     "showTitle": false,
     "title": ""
    }
   },
   "outputs": [],
   "source": [
    "import bz2\n",
    "from bs4 import BeautifulSoup\n",
    "import os\n",
    "import bisect\n",
    "import re\n",
    "import time\n",
    "import pandas as pd\n",
    "import traceback\n",
    "from wikimarkup.parser import Parser\n",
    "\n",
    "import pyspark.pandas as ps\n",
    "import pyarrow as pa\n",
    "import pickle\n",
    "\n",
    "indexpath = \"/dbfs/wiki/raw/enwiki-latest-pages-articles-multistream-index.txt\"\n",
    "DUMP_FILE = \"/dbfs/wiki/raw/enwiki-latest-pages-articles-multistream.xml.bz2\"\n",
    "\n",
    "def get_page_from_byte_offset(start, end):\n",
    "    raw = get_xml_pages(start, end)\n",
    "    soup = BeautifulSoup(raw, \"lxml\")\n",
    "    return soup.find_all(\"page\")\n",
    "\n",
    "  \n",
    "def get_xml_pages(start, end):\n",
    "    decomp = bz2.BZ2Decompressor()\n",
    "    with open(DUMP_FILE, 'rb') as f:\n",
    "        f.seek(start)\n",
    "        readback = f.read(end - start - 1)\n",
    "        page_xml = decomp.decompress(readback).decode()\n",
    "    return page_xml\n",
    "\n",
    "\n",
    "def get_tables(soup_page):\n",
    "    parser = Parser()\n",
    "#     default_return = [(str(soup_page.title.text), None, None, None)]\n",
    "    output = []\n",
    "    try:\n",
    "        try:\n",
    "            html = parser.parse(soup_page.text)\n",
    "        except TypeError:\n",
    "            return []\n",
    "        soup = BeautifulSoup(html, 'html.parser')\n",
    "        tables = soup.find_all('table')\n",
    "        try:\n",
    "            df_tables = pd.read_html(html)\n",
    "        except ValueError:\n",
    "            df_tables = []\n",
    "        if len(tables) != len(df_tables):\n",
    "            print(\"tables offset..\")\n",
    "            return []\n",
    "        for i, table in enumerate(tables):\n",
    "            # all previous headings in order\n",
    "            headings = []\n",
    "            for k in range(6):\n",
    "                h = table.find_previous_sibling(f'h{k}')\n",
    "                headings.append(\n",
    "                    str(h.text) if h else ''\n",
    "                )\n",
    "            output.append((soup_page.title.text, i, \"\\n\".join(headings), df_tables[i]))\n",
    "    except Exception as e:\n",
    "        print(traceback.format_exc())\n",
    "        print(f\"Failed to parse... {soup_page.title.text}\")\n",
    "#     if len(output) == 0 and 'wikitable' in soup_page.text:\n",
    "#         print(soup_page.text)\n",
    "#         raise RuntimeError(\"AHHH!\")\n",
    "    return output\n",
    "\n",
    "\n",
    "def get_pages(start_byte, end_byte):\n",
    "    result = get_page_from_byte_offset(start_byte, end_byte)\n",
    "    final = []\n",
    "    for page in result:\n",
    "        for title, i, headers, df in get_tables(page):\n",
    "            final.append((title, i, headers, pickle.dumps(pa.Table.from_pandas(df))))\n",
    "#     print(f\"Found {len(final)} tables\")\n",
    "    return final"
   ]
  },
  {
   "cell_type": "code",
   "execution_count": null,
   "metadata": {
    "application/vnd.databricks.v1+cell": {
     "inputWidgets": {},
     "nuid": "c2369458-3b52-499d-afd6-f6f47333f596",
     "showTitle": false,
     "title": ""
    }
   },
   "outputs": [],
   "source": [
    "with open(indexpath, \"r\") as f:\n",
    "    index_file = f.readlines()\n",
    "start_bytes = list(sorted(set([int(x.split(\":\")[0]) for x in index_file])))\n",
    "start_bytes.append(os.path.getsize(DUMP_FILE) + 1)"
   ]
  },
  {
   "cell_type": "code",
   "execution_count": null,
   "metadata": {
    "application/vnd.databricks.v1+cell": {
     "inputWidgets": {},
     "nuid": "02046c5d-3212-4d56-9ad4-dc9d6d539c44",
     "showTitle": false,
     "title": ""
    }
   },
   "outputs": [],
   "source": [
    "offsets = pd.DataFrame({'start_byte': start_bytes[:-1], 'end_byte': start_bytes[1:]})"
   ]
  },
  {
   "cell_type": "code",
   "execution_count": null,
   "metadata": {
    "application/vnd.databricks.v1+cell": {
     "inputWidgets": {},
     "nuid": "a247c574-3fa5-462a-830e-b0c243d86762",
     "showTitle": false,
     "title": ""
    }
   },
   "outputs": [],
   "source": []
  },
  {
   "cell_type": "code",
   "execution_count": null,
   "metadata": {
    "application/vnd.databricks.v1+cell": {
     "inputWidgets": {},
     "nuid": "528511bb-4346-45d9-9bef-a184d8b2b186",
     "showTitle": false,
     "title": ""
    }
   },
   "outputs": [],
   "source": [
    "import ray\n",
    "import sys\n",
    " \n",
    "sys.stdout.fileno = lambda: False"
   ]
  },
  {
   "cell_type": "code",
   "execution_count": null,
   "metadata": {
    "application/vnd.databricks.v1+cell": {
     "inputWidgets": {},
     "nuid": "2a1023d8-5413-4ce7-8bf6-26270a42ea87",
     "showTitle": false,
     "title": ""
    }
   },
   "outputs": [],
   "source": [
    "ray.init(runtime_env={'pip': [\"beautifulsoup4\", \"py-wikimarkup==2.1.3\", \"html5lib\", \"lxml==4.9.1\"]})"
   ]
  },
  {
   "cell_type": "code",
   "execution_count": null,
   "metadata": {
    "application/vnd.databricks.v1+cell": {
     "inputWidgets": {},
     "nuid": "c86ff469-fd7c-42d5-b3a9-71b4c0e41944",
     "showTitle": false,
     "title": ""
    }
   },
   "outputs": [],
   "source": [
    "batch = []\n",
    "for i, x in offsets.iterrows():\n",
    "    parsed = ray.remote(get_pages).remote(x.start_byte, x.end_byte)\n",
    "    batch.append(parsed)\n",
    "    if len(batch) >= 1000:\n",
    "        st = time.time()\n",
    "        print(\"Gathering... \")\n",
    "        results = ray.get(batch)\n",
    "        path = f\"/dbfs/wiki/tables/wiki_table_part_{i+1:06d}.parquet\"\n",
    "        print(f\"Saving! {path} (( gathering took: {time.time() - st} ))\")\n",
    "        pd.DataFrame([x for y in results for x in y], columns=[\"title\", \"i\", \"headers\", \"pa_table_pickle\"]).to_parquet(path)\n",
    "        batch = []\n",
    "st = time.time()\n",
    "print(\"Gathering... \")\n",
    "results = ray.get(batch)\n",
    "path = f\"/dbfs/wiki/tables/wiki_table_part_{i:06d}.parquet\"\n",
    "print(f\"Saving! {path} (( gathering took: {time.time() - st} ))\")\n",
    "pd.DataFrame([x for y in results for x in y], columns=[\"title\", \"i\", \"headers\", \"pa_table_pickle\"]).to_parquet(path)"
   ]
  },
  {
   "cell_type": "code",
   "execution_count": null,
   "metadata": {
    "application/vnd.databricks.v1+cell": {
     "inputWidgets": {},
     "nuid": "d6c4e11e-7599-4dac-a479-f024fc71e002",
     "showTitle": false,
     "title": ""
    }
   },
   "outputs": [],
   "source": []
  },
  {
   "cell_type": "code",
   "execution_count": null,
   "metadata": {
    "application/vnd.databricks.v1+cell": {
     "inputWidgets": {},
     "nuid": "400a3e93-d4b5-4ed2-b664-a647b1d665d0",
     "showTitle": false,
     "title": ""
    }
   },
   "outputs": [],
   "source": []
  },
  {
   "cell_type": "code",
   "execution_count": null,
   "metadata": {
    "application/vnd.databricks.v1+cell": {
     "inputWidgets": {},
     "nuid": "28c1d83e-5e98-4b46-9de5-c37252ccdbe0",
     "showTitle": false,
     "title": ""
    }
   },
   "outputs": [],
   "source": []
  }
 ],
 "metadata": {
  "application/vnd.databricks.v1+notebook": {
   "dashboards": [],
   "language": "python",
   "notebookMetadata": {
    "pythonIndentUnit": 2
   },
   "notebookName": "ParseWikiTables",
   "notebookOrigID": 1588809420766470,
   "widgets": {}
  },
  "language_info": {
   "name": "python"
  }
 },
 "nbformat": 4,
 "nbformat_minor": 0
}
