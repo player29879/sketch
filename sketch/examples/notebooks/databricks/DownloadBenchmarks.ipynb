{
 "cells": [
  {
   "cell_type": "code",
   "execution_count": null,
   "metadata": {
    "application/vnd.databricks.v1+cell": {
     "inputWidgets": {},
     "nuid": "ba3ea9fb-508b-4c5d-b7c0-703ba90a38f0",
     "showTitle": false,
     "title": ""
    }
   },
   "outputs": [],
   "source": [
    "! pip install gdown"
   ]
  },
  {
   "cell_type": "code",
   "execution_count": null,
   "metadata": {
    "application/vnd.databricks.v1+cell": {
     "inputWidgets": {},
     "nuid": "25afba4d-3db5-402f-9aae-33b379606eb5",
     "showTitle": false,
     "title": ""
    }
   },
   "outputs": [],
   "source": []
  },
  {
   "cell_type": "code",
   "execution_count": null,
   "metadata": {
    "application/vnd.databricks.v1+cell": {
     "inputWidgets": {},
     "nuid": "addbd2e0-4074-458a-a239-5ead6d728701",
     "showTitle": false,
     "title": ""
    }
   },
   "outputs": [],
   "source": [
    "# https://yale-lily.github.io/spider\n",
    "# https://yale-lily.github.io/cosql"
   ]
  },
  {
   "cell_type": "code",
   "execution_count": null,
   "metadata": {
    "application/vnd.databricks.v1+cell": {
     "inputWidgets": {},
     "nuid": "0e9e595e-b3a7-4cb9-9734-bc267c6d474e",
     "showTitle": false,
     "title": ""
    }
   },
   "outputs": [],
   "source": [
    "import gdown\n",
    "url = 'https://drive.google.com/uc?export=download&id=1TqleXec_OykOYFREKKtschzY29dUcVAQ'\n",
    "output = '/dbfs/benchmarks/raw/spider.zip'\n",
    "\n",
    "gdown.download(url, output, quiet=False)"
   ]
  },
  {
   "cell_type": "code",
   "execution_count": null,
   "metadata": {
    "application/vnd.databricks.v1+cell": {
     "inputWidgets": {},
     "nuid": "7dcf395b-f879-4f9f-8b1a-5bd23c7e06b7",
     "showTitle": false,
     "title": ""
    }
   },
   "outputs": [],
   "source": [
    "url = 'https://drive.google.com/uc?export=download&id=1Y3ydpFiQQ3FC0bzdfy3groV95O_f1nXF'\n",
    "output = '/dbfs/benchmarks/raw/cosql_dataset.zip'\n",
    "\n",
    "gdown.download(url, output, quiet=False)"
   ]
  },
  {
   "cell_type": "code",
   "execution_count": null,
   "metadata": {
    "application/vnd.databricks.v1+cell": {
     "inputWidgets": {},
     "nuid": "90edcdfa-0b24-4b82-b727-93a6e4e90527",
     "showTitle": false,
     "title": ""
    }
   },
   "outputs": [],
   "source": [
    "!unzip /dbfs/benchmarks/raw/cosql_dataset.zip -d /dbfs/benchmarks/raw/cosql"
   ]
  },
  {
   "cell_type": "code",
   "execution_count": null,
   "metadata": {
    "application/vnd.databricks.v1+cell": {
     "inputWidgets": {},
     "nuid": "a9f5823d-b8a5-492f-8036-d94169021cc2",
     "showTitle": false,
     "title": ""
    }
   },
   "outputs": [],
   "source": [
    "!unzip /dbfs/benchmarks/raw/spider.zip -d /dbfs/benchmarks/raw/spider"
   ]
  },
  {
   "cell_type": "code",
   "execution_count": null,
   "metadata": {
    "application/vnd.databricks.v1+cell": {
     "inputWidgets": {},
     "nuid": "8642a782-f70c-41ef-9915-7669fbaffcd4",
     "showTitle": false,
     "title": ""
    }
   },
   "outputs": [],
   "source": [
    "!ls /dbfs/benchmarks/raw/spider"
   ]
  },
  {
   "cell_type": "code",
   "execution_count": null,
   "metadata": {
    "application/vnd.databricks.v1+cell": {
     "inputWidgets": {},
     "nuid": "0cbf20ea-b134-4f94-9fee-b50559356475",
     "showTitle": false,
     "title": ""
    }
   },
   "outputs": [],
   "source": [
    "! du -sh /dbfs/benchmarks/raw/spider"
   ]
  },
  {
   "cell_type": "code",
   "execution_count": null,
   "metadata": {
    "application/vnd.databricks.v1+cell": {
     "inputWidgets": {},
     "nuid": "eeab882f-f08b-459a-ae7c-df8f81ad06d5",
     "showTitle": false,
     "title": ""
    }
   },
   "outputs": [],
   "source": []
  }
 ],
 "metadata": {
  "application/vnd.databricks.v1+notebook": {
   "dashboards": [],
   "language": "python",
   "notebookMetadata": {
    "pythonIndentUnit": 2
   },
   "notebookName": "DownloadBenchmarks",
   "notebookOrigID": 2588807581506263,
   "widgets": {}
  },
  "language_info": {
   "name": "python"
  }
 },
 "nbformat": 4,
 "nbformat_minor": 0
}
