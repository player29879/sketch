{
 "cells": [
  {
   "cell_type": "code",
   "execution_count": null,
   "id": "6b721bd8-c1bf-440f-b518-e9620ae8caae",
   "metadata": {},
   "outputs": [],
   "source": [
    "from sketch import Portfolio"
   ]
  },
  {
   "cell_type": "code",
   "execution_count": null,
   "id": "61aa4c2b-1202-41ea-9afa-24f0436069a7",
   "metadata": {},
   "outputs": [],
   "source": [
    "# pf = Portfolio.from_sqlite('../datasets/food-trucks.db')"
   ]
  },
  {
   "cell_type": "code",
   "execution_count": null,
   "id": "e26fcbac-62ab-4ea3-b70a-6addba010cdc",
   "metadata": {},
   "outputs": [],
   "source": []
  },
  {
   "cell_type": "code",
   "execution_count": null,
   "id": "08c3cdd7-657a-4999-a74b-5d66f2e33271",
   "metadata": {},
   "outputs": [],
   "source": [
    "pf2 = Portfolio.from_sqlite('https://san-francisco.datasettes.com/food-trucks.db')"
   ]
  },
  {
   "cell_type": "code",
   "execution_count": null,
   "id": "85605598-9d77-4ac1-8783-623066bcf8e1",
   "metadata": {},
   "outputs": [],
   "source": [
    "pf2.upload(apiKey=\"8f79be2b6d0d47ccb8192e46f38c80ce\")"
   ]
  },
  {
   "cell_type": "code",
   "execution_count": null,
   "id": "e864c8f4-a850-4279-b936-622bf95c5e2a",
   "metadata": {},
   "outputs": [],
   "source": []
  },
  {
   "cell_type": "code",
   "execution_count": null,
   "id": "08adc135-6381-47d0-abde-b3725f5abc7a",
   "metadata": {},
   "outputs": [],
   "source": [
    "import os\n",
    "import pandas as pd\n",
    "import sqlite3\n",
    "os.system(\"wget -nc 'https://san-francisco.datasettes.com/food-trucks.db' -P ~/.cache/sketch/\")\n",
    "conn = sqlite3.connect('~/.cache/sketch/food-trucks.db')\n",
    "df = pd.read_sql_query('SELECT LocationDescription FROM Mobile_Food_Facility_Permit_fts', conn)\n",
    "df = df['LocationDescription']"
   ]
  },
  {
   "cell_type": "code",
   "execution_count": null,
   "id": "0ae3eeae-b28b-42b0-8b7e-528ad67ae165",
   "metadata": {},
   "outputs": [],
   "source": []
  },
  {
   "cell_type": "code",
   "execution_count": null,
   "id": "15226a59-11de-4740-ba56-206f5d1cdcb6",
   "metadata": {},
   "outputs": [],
   "source": []
  },
  {
   "cell_type": "code",
   "execution_count": null,
   "id": "9f5e6fdb-ea1b-4320-8b78-f98f138b2474",
   "metadata": {},
   "outputs": [],
   "source": [
    "df"
   ]
  },
  {
   "cell_type": "code",
   "execution_count": null,
   "id": "2fc6e6b4-d31f-4773-a5fc-d0a8ea1df589",
   "metadata": {},
   "outputs": [],
   "source": [
    "pf.upload(apiKey=\"8f79be2b6d0d47ccb8192e46f38c80ce\")"
   ]
  },
  {
   "cell_type": "code",
   "execution_count": null,
   "id": "f4556d7a-0b8c-42d0-b55f-cb83046dc3fb",
   "metadata": {},
   "outputs": [],
   "source": [
    "sp, *_ = pf.sketchpads.values()"
   ]
  },
  {
   "cell_type": "code",
   "execution_count": null,
   "id": "9da1e3cb-b36b-457e-a39e-043bb6a58b83",
   "metadata": {},
   "outputs": [],
   "source": [
    "sp.to_dict()"
   ]
  },
  {
   "cell_type": "code",
   "execution_count": null,
   "id": "3e91ba2e-06dd-41ec-a82c-14ca82fb2194",
   "metadata": {},
   "outputs": [],
   "source": [
    "from sketch.core import SketchPad\n",
    "test = SketchPad.from_dict(sp.to_dict())"
   ]
  },
  {
   "cell_type": "code",
   "execution_count": null,
   "id": "9ab835a4-367c-471b-9113-6b5a696a147d",
   "metadata": {},
   "outputs": [],
   "source": []
  },
  {
   "cell_type": "code",
   "execution_count": null,
   "id": "d4b5b7bb-a773-4b7a-ad24-f9e801a2cfd2",
   "metadata": {},
   "outputs": [],
   "source": []
  },
  {
   "cell_type": "code",
   "execution_count": null,
   "id": "f710c50a-363d-43d5-9d9a-ccdfde370892",
   "metadata": {},
   "outputs": [],
   "source": [
    "pf = Portfolio.from_sqlite('../datasets/fivethirtyeight.db')"
   ]
  },
  {
   "cell_type": "code",
   "execution_count": null,
   "id": "f4ce39c4-7a57-495a-9a61-c2d4a86742f3",
   "metadata": {},
   "outputs": [],
   "source": [
    "pf.upload(apiKey=\"8f79be2b6d0d47ccb8192e46f38c80ce\")\n"
   ]
  },
  {
   "cell_type": "code",
   "execution_count": null,
   "id": "ac783e94-f3a3-4dda-8899-539afe64ebf2",
   "metadata": {},
   "outputs": [],
   "source": [
    "!ls -lh ../datasets"
   ]
  },
  {
   "cell_type": "code",
   "execution_count": null,
   "id": "afc08996-f656-4ec5-bc2b-88cd732d8403",
   "metadata": {},
   "outputs": [],
   "source": [
    "# Good error to chase"
   ]
  },
  {
   "cell_type": "code",
   "execution_count": null,
   "id": "fde8375a-1c9e-4b65-a733-e3468b9f2923",
   "metadata": {},
   "outputs": [],
   "source": [
    "import pandas as pd\n",
    "water = pd.read_html('https://en.wikipedia.org/wiki/Spider_taxonomy')"
   ]
  },
  {
   "cell_type": "code",
   "execution_count": null,
   "id": "771747c3-fba3-421d-8dca-5011b7a5b943",
   "metadata": {},
   "outputs": [],
   "source": [
    "pf = Portfolio.from_dataframes(water)"
   ]
  },
  {
   "cell_type": "code",
   "execution_count": null,
   "id": "5cdb4fdb-f843-4ed7-a123-8fcdb58223b6",
   "metadata": {},
   "outputs": [],
   "source": [
    "pf.upload(apiKey=\"8f79be2b6d0d47ccb8192e46f38c80ce\")"
   ]
  },
  {
   "cell_type": "code",
   "execution_count": null,
   "id": "5c14ff98-964f-4abe-bd72-6cca5373235a",
   "metadata": {},
   "outputs": [],
   "source": []
  }
 ],
 "metadata": {
  "kernelspec": {
   "display_name": "Python 3.10.5 64-bit ('sketch')",
   "language": "python",
   "name": "python3"
  },
  "language_info": {
   "codemirror_mode": {
    "name": "ipython",
    "version": 3
   },
   "file_extension": ".py",
   "mimetype": "text/x-python",
   "name": "python",
   "nbconvert_exporter": "python",
   "pygments_lexer": "ipython3",
   "version": "3.10.5"
  },
  "vscode": {
   "interpreter": {
    "hash": "1a56c398c352595db7d0130f0fc00eb36e63ee8641ddc16c2e5bdd38e08d5e9b"
   }
  }
 },
 "nbformat": 4,
 "nbformat_minor": 5
}
