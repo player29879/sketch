{
 "cells": [
  {
   "cell_type": "code",
   "execution_count": null,
   "metadata": {},
   "outputs": [],
   "source": [
    "# groundtruth starting point\n",
    "\n",
    "import pandas as pd\n",
    "from sentence_transformers import SentenceTransformer\n",
    "import faiss\n",
    "from sketch.api import data\n",
    "import json\n",
    "import numpy as np\n",
    "import time\n",
    "import os\n",
    "\n",
    "run_name = \"220910_2ary_groundtruth\"\n",
    "base_path = \"/home/jawaugh\"\n",
    "\n",
    "groundtruth_path = os.path.join(base_path, f'sketch/sketch/examples/Text2SQL_Iterations/{run_name}.parquet')\n",
    "knn_path = os.path.join(base_path, f'sketch/sketch/examples/Text2SQL_Iterations/{run_name}_knn.parquet')\n",
    "sketchpad_path = os.path.join(base_path, f'sketch/sketch/examples/Text2SQL_Iterations/{run_name}_sketchpad.parquet')\n",
    "\n",
    "prebuilt_index =  os.path.join(base_path, f'sketch/sketch/trained.index')\n",
    "database = os.path.join(base_path, f'sketch/sketch/test.db')\n",
    "database_path = f'sqlite+aiosqlite:///{database}'\n",
    "username = 'justin'"
   ]
  },
  {
   "cell_type": "code",
   "execution_count": null,
   "metadata": {},
   "outputs": [],
   "source": [
    "database = data.Database(database_path)\n",
    "await database.connect()\n",
    "model = SentenceTransformer(\"all-MiniLM-L6-v2\")\n",
    "index = faiss.read_index(prebuilt_index)"
   ]
  },
  {
   "cell_type": "code",
   "execution_count": null,
   "metadata": {},
   "outputs": [],
   "source": [
    "# extract = {}\n",
    "\n",
    "# # Build index... (since it seems like there's possibly an erro\n",
    "# async def build_index():\n",
    "#     # iterate over references, and add to index\n",
    "#     short_ids, references = zip(*[x async for x in data.get_references(database)])\n",
    "#     print(\"references_gathered\")\n",
    "#     embeddings = model.encode([r.to_searchable_string() for r in references])\n",
    "#     print(\"searchable_strings_gathered\")\n",
    "    \n",
    "#     index = faiss.IndexFlatL2(embeddings.shape[1])\n",
    "#     # index = faiss.IndexHNSWFlat(embeddings.shape[1], 32)\n",
    "#     # index.hnsw.efConstruction = 40\n",
    "#     index2 = faiss.IndexIDMap(index)\n",
    "#     index2.add_with_ids(\n",
    "#         embeddings,\n",
    "#         np.array(short_ids, dtype=np.int64),\n",
    "#     )\n",
    "#     index = index2\n",
    "#     faiss.write_index(index2, prebuilt_index)\n",
    "\n",
    "# await build_index()"
   ]
  },
  {
   "cell_type": "code",
   "execution_count": null,
   "metadata": {},
   "outputs": [],
   "source": [
    "# for each left, right, get the knn sketchpads and store them in line\n",
    "import asyncio\n",
    "import time\n",
    "\n",
    "cache = {}\n",
    "\n",
    "def memoize(func):\n",
    "    async def memoized_async_func(*args, **kwargs):\n",
    "        key = (args, frozenset(sorted(kwargs.items())))\n",
    "        if key in cache:\n",
    "            return cache[key]\n",
    "        result = await func(*args, **kwargs)\n",
    "        cache[key] = result\n",
    "        return result\n",
    "    return memoized_async_func\n",
    "\n",
    "@memoize\n",
    "async def get_knn(q, k=5):\n",
    "    model = SentenceTransformer(\"all-MiniLM-L6-v2\")\n",
    "    query_vector = model.encode([q])\n",
    "    D, I = index.search(query_vector, k)\n",
    "    indexes = list(I[0])\n",
    "    sketchpads = {\n",
    "            i: x\n",
    "            async for i, x in data.get_most_recent_sketchpads_by_reference_short_ids(\n",
    "                database, indexes, username\n",
    "            )\n",
    "        }\n",
    "    sketchpads = [sketchpads[i] for i in indexes]\n",
    "    return list(zip(D[0], sketchpads))"
   ]
  },
  {
   "cell_type": "code",
   "execution_count": null,
   "metadata": {},
   "outputs": [],
   "source": [
    "groundtruth = pd.read_parquet(groundtruth_path)"
   ]
  },
  {
   "cell_type": "code",
   "execution_count": null,
   "metadata": {},
   "outputs": [],
   "source": [
    "new_results = []\n",
    "sketchpads = {}\n",
    "st = time.time()\n",
    "for i, row in groundtruth.iterrows():\n",
    "    left = row['left_string']\n",
    "    right = row['right_string']\n",
    "    left_knn = await get_knn(left)\n",
    "    right_knn = await get_knn(right)\n",
    "    res = {}\n",
    "    for j, (score, sketchpad) in enumerate(left_knn):\n",
    "        res[f\"left_knn_{j}_score\"] = score\n",
    "        res[f\"left_knn_{j}_sketchpad\"] = sketchpad.id\n",
    "        sketchpads[sketchpad.id] = json.dumps(sketchpad.to_dict())\n",
    "    for j, (score, sketchpad) in enumerate(right_knn):\n",
    "        res[f\"right_knn_{j}_score\"] = score\n",
    "        res[f\"right_knn_{j}_sketchpad\"] = sketchpad.id\n",
    "        sketchpads[sketchpad.id] = json.dumps(sketchpad.to_dict())\n",
    "    new_results.append(res)\n",
    "    if i % 200 == 0:\n",
    "        cache = {}\n",
    "        d = time.time() - st\n",
    "        print(i, d, d * len(groundtruth) / (i + 1))"
   ]
  },
  {
   "cell_type": "code",
   "execution_count": null,
   "metadata": {},
   "outputs": [],
   "source": [
    "output = pd.DataFrame(new_results)\n",
    "output.to_parquet(knn_path)"
   ]
  },
  {
   "cell_type": "code",
   "execution_count": null,
   "metadata": {},
   "outputs": [],
   "source": [
    "pd.Series(sketchpads).to_frame().reset_index().rename(columns={'index': 'sketchpad_id', 0: 'sketchpad'}).to_parquet(sketchpad_path)"
   ]
  },
  {
   "cell_type": "code",
   "execution_count": null,
   "metadata": {},
   "outputs": [],
   "source": []
  }
 ],
 "metadata": {
  "kernelspec": {
   "display_name": "Python 3.10.5 ('shims': virtualenv)",
   "language": "python",
   "name": "python3"
  },
  "language_info": {
   "codemirror_mode": {
    "name": "ipython",
    "version": 3
   },
   "file_extension": ".py",
   "mimetype": "text/x-python",
   "name": "python",
   "nbconvert_exporter": "python",
   "pygments_lexer": "ipython3",
   "version": "3.10.5"
  },
  "vscode": {
   "interpreter": {
    "hash": "1c0f2ed01f2d65ba46139126d92ee60a218303d6d7af19c1873d0061d56dd84d"
   }
  }
 },
 "nbformat": 4,
 "nbformat_minor": 2
}
