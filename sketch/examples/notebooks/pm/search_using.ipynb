{
 "cells": [
  {
   "cell_type": "code",
   "execution_count": 8,
   "metadata": {},
   "outputs": [
    {
     "name": "stdout",
     "output_type": "stream",
     "text": [
      "Collecting google-api-python-client\n",
      "  Downloading google_api_python_client-2.63.0-py2.py3-none-any.whl (9.3 MB)\n",
      "\u001b[2K     \u001b[90m━━━━━━━━━━━━━━━━━━━━━━━━━━━━━━━━━━━━━━━━\u001b[0m \u001b[32m9.3/9.3 MB\u001b[0m \u001b[31m44.4 MB/s\u001b[0m eta \u001b[36m0:00:00\u001b[0m00:01\u001b[0m00:01\u001b[0m\n",
      "\u001b[?25hCollecting httplib2<1dev,>=0.15.0\n",
      "  Downloading httplib2-0.20.4-py3-none-any.whl (96 kB)\n",
      "\u001b[2K     \u001b[90m━━━━━━━━━━━━━━━━━━━━━━━━━━━━━━━━━━━━━━━━\u001b[0m \u001b[32m96.6/96.6 KB\u001b[0m \u001b[31m8.8 MB/s\u001b[0m eta \u001b[36m0:00:00\u001b[0m\n",
      "\u001b[?25hCollecting google-auth<3.0.0dev,>=1.19.0\n",
      "  Downloading google_auth-2.12.0-py2.py3-none-any.whl (169 kB)\n",
      "\u001b[2K     \u001b[90m━━━━━━━━━━━━━━━━━━━━━━━━━━━━━━━━━━━━━━\u001b[0m \u001b[32m169.8/169.8 KB\u001b[0m \u001b[31m10.6 MB/s\u001b[0m eta \u001b[36m0:00:00\u001b[0m\n",
      "\u001b[?25hCollecting google-api-core!=2.0.*,!=2.1.*,!=2.2.*,!=2.3.0,<3.0.0dev,>=1.31.5\n",
      "  Downloading google_api_core-2.10.1-py3-none-any.whl (115 kB)\n",
      "\u001b[2K     \u001b[90m━━━━━━━━━━━━━━━━━━━━━━━━━━━━━━━━━━━━━━\u001b[0m \u001b[32m115.5/115.5 KB\u001b[0m \u001b[31m12.1 MB/s\u001b[0m eta \u001b[36m0:00:00\u001b[0m\n",
      "\u001b[?25hCollecting uritemplate<5,>=3.0.1\n",
      "  Downloading uritemplate-4.1.1-py2.py3-none-any.whl (10 kB)\n",
      "Collecting google-auth-httplib2>=0.1.0\n",
      "  Downloading google_auth_httplib2-0.1.0-py2.py3-none-any.whl (9.3 kB)\n",
      "Collecting googleapis-common-protos<2.0dev,>=1.56.2\n",
      "  Downloading googleapis_common_protos-1.56.4-py2.py3-none-any.whl (211 kB)\n",
      "\u001b[2K     \u001b[90m━━━━━━━━━━━━━━━━━━━━━━━━━━━━━━━━━━━━━━\u001b[0m \u001b[32m211.7/211.7 KB\u001b[0m \u001b[31m14.1 MB/s\u001b[0m eta \u001b[36m0:00:00\u001b[0m\n",
      "\u001b[?25hRequirement already satisfied: protobuf<5.0.0dev,>=3.20.1 in /home/jawaugh/.pyenv/versions/3.10.5/envs/sketch/lib/python3.10/site-packages (from google-api-core!=2.0.*,!=2.1.*,!=2.2.*,!=2.3.0,<3.0.0dev,>=1.31.5->google-api-python-client) (3.20.1)\n",
      "Requirement already satisfied: requests<3.0.0dev,>=2.18.0 in /home/jawaugh/.pyenv/versions/3.10.5/envs/sketch/lib/python3.10/site-packages (from google-api-core!=2.0.*,!=2.1.*,!=2.2.*,!=2.3.0,<3.0.0dev,>=1.31.5->google-api-python-client) (2.28.1)\n",
      "Requirement already satisfied: rsa<5,>=3.1.4 in /home/jawaugh/.pyenv/versions/3.10.5/envs/sketch/lib/python3.10/site-packages (from google-auth<3.0.0dev,>=1.19.0->google-api-python-client) (4.9)\n",
      "Requirement already satisfied: cachetools<6.0,>=2.0.0 in /home/jawaugh/.pyenv/versions/3.10.5/envs/sketch/lib/python3.10/site-packages (from google-auth<3.0.0dev,>=1.19.0->google-api-python-client) (5.2.0)\n",
      "Requirement already satisfied: six>=1.9.0 in /home/jawaugh/.pyenv/versions/3.10.5/envs/sketch/lib/python3.10/site-packages (from google-auth<3.0.0dev,>=1.19.0->google-api-python-client) (1.16.0)\n",
      "Collecting pyasn1-modules>=0.2.1\n",
      "  Downloading pyasn1_modules-0.2.8-py2.py3-none-any.whl (155 kB)\n",
      "\u001b[2K     \u001b[90m━━━━━━━━━━━━━━━━━━━━━━━━━━━━━━━━━━━━━━\u001b[0m \u001b[32m155.3/155.3 KB\u001b[0m \u001b[31m16.1 MB/s\u001b[0m eta \u001b[36m0:00:00\u001b[0m\n",
      "\u001b[?25hRequirement already satisfied: pyparsing!=3.0.0,!=3.0.1,!=3.0.2,!=3.0.3,<4,>=2.4.2 in /home/jawaugh/.pyenv/versions/3.10.5/envs/sketch/lib/python3.10/site-packages (from httplib2<1dev,>=0.15.0->google-api-python-client) (3.0.9)\n",
      "Requirement already satisfied: pyasn1<0.5.0,>=0.4.6 in /home/jawaugh/.pyenv/versions/3.10.5/envs/sketch/lib/python3.10/site-packages (from pyasn1-modules>=0.2.1->google-auth<3.0.0dev,>=1.19.0->google-api-python-client) (0.4.8)\n",
      "Requirement already satisfied: certifi>=2017.4.17 in /home/jawaugh/.pyenv/versions/3.10.5/envs/sketch/lib/python3.10/site-packages (from requests<3.0.0dev,>=2.18.0->google-api-core!=2.0.*,!=2.1.*,!=2.2.*,!=2.3.0,<3.0.0dev,>=1.31.5->google-api-python-client) (2022.6.15)\n",
      "Requirement already satisfied: urllib3<1.27,>=1.21.1 in /home/jawaugh/.pyenv/versions/3.10.5/envs/sketch/lib/python3.10/site-packages (from requests<3.0.0dev,>=2.18.0->google-api-core!=2.0.*,!=2.1.*,!=2.2.*,!=2.3.0,<3.0.0dev,>=1.31.5->google-api-python-client) (1.26.12)\n",
      "Requirement already satisfied: idna<4,>=2.5 in /home/jawaugh/.pyenv/versions/3.10.5/envs/sketch/lib/python3.10/site-packages (from requests<3.0.0dev,>=2.18.0->google-api-core!=2.0.*,!=2.1.*,!=2.2.*,!=2.3.0,<3.0.0dev,>=1.31.5->google-api-python-client) (3.3)\n",
      "Requirement already satisfied: charset-normalizer<3,>=2 in /home/jawaugh/.pyenv/versions/3.10.5/envs/sketch/lib/python3.10/site-packages (from requests<3.0.0dev,>=2.18.0->google-api-core!=2.0.*,!=2.1.*,!=2.2.*,!=2.3.0,<3.0.0dev,>=1.31.5->google-api-python-client) (2.1.1)\n",
      "Installing collected packages: uritemplate, pyasn1-modules, httplib2, googleapis-common-protos, google-auth, google-auth-httplib2, google-api-core, google-api-python-client\n",
      "Successfully installed google-api-core-2.10.1 google-api-python-client-2.63.0 google-auth-2.12.0 google-auth-httplib2-0.1.0 googleapis-common-protos-1.56.4 httplib2-0.20.4 pyasn1-modules-0.2.8 uritemplate-4.1.1\n",
      "\u001b[33mWARNING: You are using pip version 22.0.4; however, version 22.2.2 is available.\n",
      "You should consider upgrading via the '/home/jawaugh/.pyenv/versions/3.10.5/envs/sketch/bin/python3.10 -m pip install --upgrade pip' command.\u001b[0m\u001b[33m\n",
      "\u001b[0m"
     ]
    }
   ],
   "source": [
    "# https://pypi.org/project/google-search-results/\n",
    "! pip install google-api-python-client"
   ]
  },
  {
   "cell_type": "code",
   "execution_count": 1,
   "metadata": {},
   "outputs": [],
   "source": [
    "# oh yeah, i want to do search based... or at least, define the prompt that returns a google search top-N\n",
    "# from serpapi import GoogleSearch\n",
    "\n",
    "\n",
    "# Function that takes in a string, queries google, and returns the top N results as a list of strings\n",
    "# hmm. not sure i want to do this, requires a third party api key -> not sure i know enough about them...\n",
    "# -> Eg. meta note about sketch api, shows how much i'd not really want to do that. I'd use the library\n",
    "#   if i could specifically set the underlying api key, but to specifically make an aggregator account\n",
    "#   to make an api key like serp wants to do.. BUT, in this case\n",
    "# they're offering a service that isn't really available from google. (according to a quora post)\n",
    "# https://www.quora.com/Is-there-an-API-for-Google-search-results\n",
    "\n",
    "\n",
    "# NEVERMIND: https://stackoverflow.com/questions/4082966/what-are-the-alternatives-now-that-the-google-web-search-api-has-been-deprecated#:~:text=Google%20Web%20Search%20API%20has%20been%20deprecated%20and%20replaced%20with,%2Fapis%2Fwebsearch%2F).\n",
    "# look like the Custom Search can search entire internet. And it charges a fee: 100 queries per day, $5 for 1000 queries, and _maximum of 10k queries per day. (as per 2012 note, i wonder if it's changed...) \n",
    "# it maxes you out of $50 of spending per day... I guess, in some sense, that's \"cheap\" so should use all 10k efficiently...\n",
    "# --> special note: the first 100 are free. -> there's a little bit of... when offering this as a client library, it has a \"quota\" per week, of a special gemstone or something (like a video game)\n",
    "# and that quota is how many google searches it will do. but in this case, it's throughout the day, as you grab your phone, as you do {x}, etc. it's using google on your behalf via the api and as long as\n",
    "# it doesn't use more than 10 a day, it's \"free\". Apis have a special tier which you can run under i guess? and if you can do that with a specific \"client\", then you can do it for free. (i guess)\n",
    "\n",
    "# def search_using(query, n=10):\n",
    "#     # Create a GoogleSearchResults object\n",
    "#     params = {\n",
    "#         \"q\": query,\n",
    "#         \"location\": \"United States\",\n",
    "#         \"hl\": \"en\",\n",
    "#         \"gl\": \"us\",\n",
    "#         \"google_domain\": \"google.com\",\n",
    "#         \"api_key\": \"demo\"\n",
    "#     }\n",
    "#     results = GoogleSearch(params).get_dict()\n",
    "    \n",
    "#     print(results)\n",
    "\n",
    "#     # Get the organic results\n",
    "#     organic_results = results['organic_results']\n",
    "#     # Get the top N results\n",
    "#     top_results = organic_results[:n]\n",
    "#     # Get the title of each result\n",
    "#     titles = [result['title'] for result in top_results]\n",
    "#     return titles"
   ]
  },
  {
   "cell_type": "code",
   "execution_count": 10,
   "metadata": {},
   "outputs": [],
   "source": []
  },
  {
   "cell_type": "code",
   "execution_count": null,
   "metadata": {},
   "outputs": [],
   "source": [
    "\n"
   ]
  }
 ],
 "metadata": {
  "kernelspec": {
   "display_name": "Python 3.10.5 64-bit ('sketch': pyenv)",
   "language": "python",
   "name": "python3"
  },
  "language_info": {
   "codemirror_mode": {
    "name": "ipython",
    "version": 3
   },
   "file_extension": ".py",
   "mimetype": "text/x-python",
   "name": "python",
   "nbconvert_exporter": "python",
   "pygments_lexer": "ipython3",
   "version": "3.10.5"
  },
  "orig_nbformat": 4,
  "vscode": {
   "interpreter": {
    "hash": "adcb619b33f588203bb576ea56ee3c20c6d0d8de6f18aca777331501d8e7497b"
   }
  }
 },
 "nbformat": 4,
 "nbformat_minor": 2
}
