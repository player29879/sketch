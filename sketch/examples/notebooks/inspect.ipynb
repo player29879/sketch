{
 "cells": [
  {
   "cell_type": "code",
   "execution_count": null,
   "metadata": {},
   "outputs": [],
   "source": [
    "from databases import Database\n",
    "from sketch.api import data\n",
    "\n",
    "\n",
    "database = Database(\n",
    "    \"sqlite+aiosqlite:///../../test.db\",\n",
    ")\n",
    "\n",
    "pf = await data.get_portfolio(database, 'justin')"
   ]
  },
  {
   "cell_type": "code",
   "execution_count": null,
   "metadata": {},
   "outputs": [],
   "source": []
  },
  {
   "cell_type": "code",
   "execution_count": null,
   "metadata": {},
   "outputs": [],
   "source": [
    "import pandas as pd\n",
    "import json\n",
    "\n",
    "test = pd.Series({k: json.dumps(v.to_dict()) for k, v in pf.sketchpads.items()})\n",
    "test.to_parquet(\"349082_wikitable.parquet\")"
   ]
  },
  {
   "cell_type": "code",
   "execution_count": null,
   "metadata": {},
   "outputs": [],
   "source": [
    "df = test.to_frame()"
   ]
  },
  {
   "cell_type": "code",
   "execution_count": null,
   "metadata": {},
   "outputs": [],
   "source": [
    "df.columns = [\"sketchpad_data\"]\n",
    "df.index.name = \"sketchpad_id\""
   ]
  },
  {
   "cell_type": "code",
   "execution_count": null,
   "metadata": {},
   "outputs": [],
   "source": [
    "df.to_parquet(\"349082_wikitable.parquet\", compression=\"gzip\")"
   ]
  },
  {
   "cell_type": "code",
   "execution_count": null,
   "metadata": {},
   "outputs": [],
   "source": [
    "!ls -lh 349082_wikitable.parquet"
   ]
  },
  {
   "cell_type": "code",
   "execution_count": null,
   "metadata": {},
   "outputs": [],
   "source": [
    "# 300 MB -> 200 MB gzip compression on 349082 sketchpad scale\n"
   ]
  },
  {
   "cell_type": "code",
   "execution_count": null,
   "metadata": {},
   "outputs": [],
   "source": [
    "import numpy as np\n",
    "import altair as alt\n",
    "cards = np.array(\n",
    "    [\n",
    "        x.get_sketchdata_by_name(\"HyperLogLog\").count()\n",
    "        for x in pf.sketchpads.values()\n",
    "    ]\n",
    ")\n",
    "# hist, bins = np.histogram(cards)\n",
    "upper = pow(2, np.ceil(np.log(np.max(cards) / np.log(2))))\n",
    "bins = np.geomspace(1, upper, num=100)\n",
    "hist, *_ = np.histogram(cards, bins=bins)\n",
    "# should be geometric mean...\n",
    "df = pd.DataFrame({\"x\": bins[:-1], \"x1\": bins[1:], \"y\": hist})\n",
    "chart = (\n",
    "    alt.Chart(df)\n",
    "    .mark_bar()\n",
    "    .encode(\n",
    "        x=alt.X(\n",
    "            \"x\", title=\"Unique Count\", scale=alt.Scale(type=\"log\", domainMin=1)\n",
    "        ),\n",
    "        # x2=\"x2\",\n",
    "        # y=alt.Y(\"y\", title=\"Number\", scale=alt.Scale(type=\"log\")),\n",
    "        y=alt.Y(\"y\", title=\"Count\"),\n",
    "    )\n",
    "    .properties(width=\"container\", height=300)\n",
    ")"
   ]
  },
  {
   "cell_type": "code",
   "execution_count": null,
   "metadata": {},
   "outputs": [],
   "source": [
    "import matplotlib.pyplot as plt\n",
    "plt.figure(figsize=(16, 9))\n",
    "\n",
    "x, y = zip(*[(x, y) for x, y in zip(df['x'], df['y']) if y > 0])\n",
    "x, y = np.array(x), np.array(y)\n",
    "\n",
    "y = y/np.array([1, *(x[1:] - x[:-1])])\n",
    "\n",
    "plt.errorbar(x, y, xerr=0.02*x, yerr=np.sqrt(y), linestyle='None', marker='.')\n",
    "\n",
    "# print(x, y)\n",
    "z = np.polyfit(np.log(x[7:]), np.log(y[7:]), 1)\n",
    "fit_data = np.poly1d(z)(np.log(x))\n",
    "plt.loglog(x, np.exp(fit_data), 'r-',)\n",
    "# plt.plot(x, np.exp(fit_data), 'r-',)\n",
    "print(z)\n",
    "plt.xlim([0, max(x)])\n",
    "plt.ylim([0, max(y)])\n",
    "plt.plot()"
   ]
  },
  {
   "cell_type": "code",
   "execution_count": null,
   "metadata": {},
   "outputs": [],
   "source": [
    "df = pd.DataFrame(zip(*[x, y, np.exp(fit_data)]), columns=['cardinality', 'count', 'fit'])\n",
    "cardcount = lambda x: float(df.iloc[(df['cardinality'] - x).abs().argsort()[0],:]['count'])\n",
    "cardcount_est = lambda x: float(df.iloc[(df['cardinality'] - x).abs().argsort()[0],:]['fit'])"
   ]
  },
  {
   "cell_type": "code",
   "execution_count": null,
   "metadata": {},
   "outputs": [],
   "source": [
    "for i in range(0, 10):\n",
    "    print(i, 2**i, cardcount_est(2**(i))/cardcount_est(2**(i+1)), cardcount_est(2**i))"
   ]
  },
  {
   "cell_type": "code",
   "execution_count": null,
   "metadata": {},
   "outputs": [],
   "source": [
    "3.621120346441395*(6.12**)"
   ]
  },
  {
   "cell_type": "code",
   "execution_count": null,
   "metadata": {},
   "outputs": [],
   "source": [
    " (6.12**40)"
   ]
  },
  {
   "cell_type": "code",
   "execution_count": null,
   "metadata": {},
   "outputs": [],
   "source": [
    "# this was cool, co-pilot played along great here. \n",
    "# print(1, 2, 41616/32095)\n",
    "# print(2, 4, 32095/23511)\n",
    "# print(4, 8, 23511/11155)\n",
    "# print(8, 16, 11155/4455)\n",
    "# print(16, 32, 4455/1398) # co-pilot just guessed 4455/1331, but right answer is 1398 lol\n",
    "# print(32, 64, 1398/590) # co pilot typed \"32, 64, 1398/397\" but right answer is 590 (??)\n",
    "# print(64, 128, 590/273) # co pilot typed \"64, 128, 590/273\" but right answer is 273 (??)\n",
    "# # i might have a flawed binning x-axis strategy... Need to think about that some more. \n"
   ]
  },
  {
   "cell_type": "code",
   "execution_count": null,
   "metadata": {},
   "outputs": [],
   "source": [
    "# Database consideration -> always have a parquet \"rolling source\" or something, something that is the serialized tape\n",
    "#  -> its off of that (read many) that a bunch of things can be calculated.\n",
    "#  -> can have lots of \"named\" rolling-sources. "
   ]
  },
  {
   "cell_type": "code",
   "execution_count": null,
   "metadata": {},
   "outputs": [],
   "source": [
    "2**40"
   ]
  },
  {
   "cell_type": "code",
   "execution_count": null,
   "metadata": {},
   "outputs": [],
   "source": []
  }
 ],
 "metadata": {
  "kernelspec": {
   "display_name": "Python 3.10.5 64-bit ('sketch')",
   "language": "python",
   "name": "python3"
  },
  "language_info": {
   "codemirror_mode": {
    "name": "ipython",
    "version": 3
   },
   "file_extension": ".py",
   "mimetype": "text/x-python",
   "name": "python",
   "nbconvert_exporter": "python",
   "pygments_lexer": "ipython3",
   "version": "3.10.5"
  },
  "vscode": {
   "interpreter": {
    "hash": "1a56c398c352595db7d0130f0fc00eb36e63ee8641ddc16c2e5bdd38e08d5e9b"
   }
  }
 },
 "nbformat": 4,
 "nbformat_minor": 2
}
