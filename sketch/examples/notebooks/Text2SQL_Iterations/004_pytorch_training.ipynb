{
 "cells": [
  {
   "cell_type": "code",
   "execution_count": null,
   "metadata": {},
   "outputs": [],
   "source": [
    "import os\n",
    "import json\n",
    "import pandas as pd\n",
    "import torch\n",
    "from torch.utils.data import Dataset, DataLoader, random_split\n",
    "\n",
    "run_name = \"220905_250k_train_knn\"\n",
    "base_path = \"/Users/jawaugh/labs\" if os.path.exists(\"/Users/jawaugh/labs\") else \"/home/jawaugh\"\n",
    "\n",
    "groundtruth_path = os.path.join(base_path, f'sketch/sketch/examples/Text2SQL_Iterations/{run_name}_groundtruth.parquet')\n",
    "knn_path = os.path.join(base_path, f'sketch/sketch/examples/Text2SQL_Iterations/{run_name}_knn.parquet')\n",
    "sketchpad_path = os.path.join(base_path, f'sketch/sketch/examples/Text2SQL_Iterations/{run_name}_sketchpad.parquet')\n",
    "metrics_path = os.path.join(base_path, f'sketch/sketch/examples/Text2SQL_Iterations/{run_name}_metrics.parquet')"
   ]
  },
  {
   "cell_type": "code",
   "execution_count": null,
   "metadata": {},
   "outputs": [],
   "source": [
    "# print(torch.backends.mps.is_available())\n",
    "# print(torch.backends.mps.is_built())\n",
    "\n",
    "# device = torch.device(\"mps\") if torch.backends.mps.is_available() else torch.device(\"cpu\")\n",
    "device = torch.device(\"cpu\")\n",
    "print(device)"
   ]
  },
  {
   "cell_type": "code",
   "execution_count": null,
   "metadata": {},
   "outputs": [],
   "source": [
    "\n",
    "class BinaryKNNSketch(Dataset):\n",
    "    def __init__(self, metrics_path, groundtruth_path):\n",
    "        self.metrics = pd.read_parquet(metrics_path)\n",
    "        self.metrics = self.metrics.astype({c: 'float32' for c in self.metrics.columns})\n",
    "        self.metrics = self.metrics.fillna(-1)\n",
    "        self.metrics = torch.tensor(self.metrics.values, dtype=torch.float32, device=device)\n",
    "        self.groundtruth = pd.read_parquet(groundtruth_path).drop(columns=['left', 'right', 'left_string', 'right_string', 'path', 'union'])\n",
    "        self.groundtruth = self.groundtruth.astype({c: 'float32' for c in self.groundtruth.columns})\n",
    "        self.groundtruth = self.groundtruth.fillna(-1)\n",
    "        self.groundtruth = torch.tensor(self.groundtruth.values, dtype=torch.float32, device=device)\n",
    "        assert len(self.metrics) == len(self.groundtruth)\n",
    "\n",
    "    def __len__(self):\n",
    "        return len(self.metrics)\n",
    "\n",
    "    def __getitem__(self, idx):\n",
    "        # return self.metrics[idx], self.groundtruth[idx]\n",
    "        return self.groundtruth[idx], self.groundtruth[idx]"
   ]
  },
  {
   "cell_type": "code",
   "execution_count": null,
   "metadata": {},
   "outputs": [],
   "source": [
    "dataset = BinaryKNNSketch(metrics_path, groundtruth_path)\n",
    "\n",
    "test_data, train_data = random_split(dataset, [10000, len(dataset) - 10000])"
   ]
  },
  {
   "cell_type": "code",
   "execution_count": null,
   "metadata": {},
   "outputs": [],
   "source": [
    "# for i, batch in enumerate(train_dataloader):\n",
    "#     print(i, batch)\n",
    "\n",
    "# Basic NN model with 2 hidden layers\n",
    "class BinaryNN(torch.nn.Module):\n",
    "    def __init__(self, input_size, hidden_size, output_size):\n",
    "        super(BinaryNN, self).__init__()\n",
    "        self.linear1 = torch.nn.Linear(input_size, hidden_size, device=device)\n",
    "        self.linear2 = torch.nn.Linear(hidden_size, hidden_size, device=device)\n",
    "        self.linear3 = torch.nn.Linear(hidden_size, output_size, device=device)\n",
    "\n",
    "\n",
    "    def forward(self, x):\n",
    "        x = torch.relu(self.linear1(x))\n",
    "        x = torch.relu(self.linear2(x))\n",
    "        x = torch.relu(self.linear3(x))\n",
    "        return x"
   ]
  },
  {
   "cell_type": "code",
   "execution_count": null,
   "metadata": {},
   "outputs": [],
   "source": [
    "train_dataloader = DataLoader(train_data, batch_size=50000, shuffle=True)"
   ]
  },
  {
   "cell_type": "code",
   "execution_count": null,
   "metadata": {},
   "outputs": [],
   "source": [
    "# Create model\n",
    "model = BinaryNN(len(dataset[0][0]), 200, len(dataset[0][1]))\n",
    "\n",
    "# Create loss function\n",
    "loss_fn = torch.nn.MSELoss()\n",
    "\n",
    "# Create optimizer\n",
    "optimizer = torch.optim.Adam(model.parameters(), lr=1e-4, weight_decay=1e-5)\n",
    "\n",
    "# Train model\n",
    "for t in range(100):\n",
    "    for i, batch in enumerate(train_dataloader):\n",
    "        x, y = batch\n",
    "        y_pred = model(x)\n",
    "        loss = loss_fn(y_pred, y)\n",
    "        if i % 1 == 0:\n",
    "            print(f\"{t:<4} {i:<5} {loss.item():24.1f}\")\n",
    "        loss.backward()\n",
    "        optimizer.step()\n",
    "        optimizer.zero_grad()"
   ]
  },
  {
   "cell_type": "code",
   "execution_count": null,
   "metadata": {},
   "outputs": [],
   "source": [
    "x, y = test_data[22]\n",
    "y_pred = model(x)\n",
    "print([f\"{x.item():2.3f}\" for x in y])\n",
    "print([f\"{x.item():2.3f}\" for x in y_pred])"
   ]
  },
  {
   "cell_type": "code",
   "execution_count": null,
   "metadata": {},
   "outputs": [],
   "source": [
    "pd.read_parquet(groundtruth_path).head().T"
   ]
  },
  {
   "cell_type": "code",
   "execution_count": null,
   "metadata": {},
   "outputs": [],
   "source": [
    "print([f\"{x.item():2.3f}\" for x in x])"
   ]
  },
  {
   "cell_type": "code",
   "execution_count": null,
   "metadata": {},
   "outputs": [],
   "source": [
    "# # fake data to prove it works\n",
    "# class FakeData(Dataset):\n",
    "#     def __init__(self):\n",
    "#         self.x = torch.tensor([[1], [2], [3], [4], [5], [6]], dtype=torch.float32)\n",
    "#         self.y = torch.tensor([[1, 5], [2, 4], [3, 3], [4, 2], [5, 1], [6, 0]], dtype=torch.float32)\n",
    "    \n",
    "#     def __len__(self):\n",
    "#         return len(self.x)\n",
    "    \n",
    "#     def __getitem__(self, idx):\n",
    "#         return self.x[idx], self.y[idx]\n",
    "\n",
    "# loader = DataLoader(FakeData(), batch_size=2, shuffle=True)\n",
    "\n",
    "# model = BinaryNN(1, 10, 2)\n",
    "# criterion = torch.nn.MSELoss()\n",
    "# optimizer = torch.optim.Adam(model.parameters(), lr=1e-1)\n",
    "\n",
    "# for epoch in range(100):\n",
    "#     for i, batch in enumerate(loader):\n",
    "#         x, y = batch\n",
    "#         y_pred = model(x)\n",
    "#         loss = criterion(y_pred, y)\n",
    "#         loss.backward()\n",
    "#         optimizer.step()\n",
    "#         optimizer.zero_grad()\n",
    "#         if i % 100 == 0:\n",
    "#             print(f'Epoch: {epoch}, Batch: {i}, Loss: {loss.item()}')"
   ]
  }
 ],
 "metadata": {
  "kernelspec": {
   "display_name": "Python 3.10.5 64-bit ('sketch')",
   "language": "python",
   "name": "python3"
  },
  "language_info": {
   "codemirror_mode": {
    "name": "ipython",
    "version": 3
   },
   "file_extension": ".py",
   "mimetype": "text/x-python",
   "name": "python",
   "nbconvert_exporter": "python",
   "pygments_lexer": "ipython3",
   "version": "3.10.5"
  },
  "vscode": {
   "interpreter": {
    "hash": "1a56c398c352595db7d0130f0fc00eb36e63ee8641ddc16c2e5bdd38e08d5e9b"
   }
  }
 },
 "nbformat": 4,
 "nbformat_minor": 2
}
