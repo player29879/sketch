{
 "cells": [
  {
   "cell_type": "code",
   "execution_count": null,
   "metadata": {},
   "outputs": [],
   "source": [
    "import pandas as pd"
   ]
  },
  {
   "cell_type": "code",
   "execution_count": null,
   "metadata": {},
   "outputs": [],
   "source": [
    "# directory = '/media/share/DataSaves/wikitable_extract_220814_test'\n",
    "directory = '/Volumes/14TB/DataSaves/wikitable_extract_220814_test'"
   ]
  },
  {
   "cell_type": "code",
   "execution_count": null,
   "metadata": {},
   "outputs": [],
   "source": [
    "import glob\n",
    "test = glob.glob(directory + '/*.parquet')"
   ]
  },
  {
   "cell_type": "code",
   "execution_count": null,
   "metadata": {},
   "outputs": [],
   "source": [
    "len(test)"
   ]
  },
  {
   "cell_type": "code",
   "execution_count": null,
   "metadata": {},
   "outputs": [],
   "source": [
    "# ! pip inst?all py-wikimarkup"
   ]
  },
  {
   "cell_type": "code",
   "execution_count": null,
   "metadata": {},
   "outputs": [],
   "source": [
    "from wikimarkup.parser import Parser\n",
    "from bs4 import BeautifulSoup\n",
    "\n",
    "parser = Parser()\n",
    "\n",
    "def get_tables(markdowntext):\n",
    "    output = []\n",
    "    try:\n",
    "        html = parser.parse(markdowntext)\n",
    "        soup = BeautifulSoup(html, 'html.parser')\n",
    "        tables = soup.find_all('table')\n",
    "        df_tables = pd.read_html(html)\n",
    "        if len(tables) != len(df_tables):\n",
    "            print(\"tables offset..\")\n",
    "            return []\n",
    "        output = []\n",
    "        for i, table in enumerate(tables):\n",
    "            # all previous headings in order\n",
    "            headings = []\n",
    "            for k in range(6):\n",
    "                h = table.find_previous_sibling(f'h{k}')\n",
    "                headings.append(\n",
    "                    h.text if h else ''\n",
    "                )\n",
    "            output.append((i, \"\\n\".join(headings), df_tables[i]))\n",
    "    except Exception as e:\n",
    "        print(\"Failed to parse...\")\n",
    "    return output\n",
    "\n",
    "def get_all_tables(path):\n",
    "    data = pd.read_parquet(path)\n",
    "    data = data['page_text'].groupby(data['page_title_text']).first()\n",
    "    for title, text in data.iteritems():\n",
    "        result = get_tables(text)\n",
    "        for row in result:\n",
    "            yield title, *row"
   ]
  },
  {
   "cell_type": "code",
   "execution_count": null,
   "metadata": {},
   "outputs": [],
   "source": [
    "from sketch import Portfolio"
   ]
  },
  {
   "cell_type": "code",
   "execution_count": null,
   "metadata": {},
   "outputs": [],
   "source": [
    "import time\n",
    "st = time.time()\n",
    "results = []\n",
    "for k, thing in enumerate(test[4:54]):\n",
    "    print(k, thing)\n",
    "    for i, x in enumerate(get_all_tables(thing)):\n",
    "        results.append(x)\n",
    "        if i%100 == 0:\n",
    "            print(i, time.time() - st)\n",
    "            pf = Portfolio()\n",
    "            for result in results:\n",
    "                pf.add_wikitable(result[0], result[1], result[2], result[3])\n",
    "            print(f\"About to upload... {len(pf.sketchpads)}\")\n",
    "            pf.upload(apiKey=\"8f79be2b6d0d47ccb8192e46f38c80ce\")\n",
    "            results = []\n",
    "            "
   ]
  },
  {
   "cell_type": "code",
   "execution_count": null,
   "metadata": {},
   "outputs": [],
   "source": [
    "i"
   ]
  },
  {
   "cell_type": "code",
   "execution_count": null,
   "metadata": {},
   "outputs": [],
   "source": [
    "# there's an infinite loop somewhere in here, things keep hanging"
   ]
  },
  {
   "cell_type": "code",
   "execution_count": null,
   "metadata": {},
   "outputs": [],
   "source": []
  }
 ],
 "metadata": {
  "kernelspec": {
   "display_name": "Python 3.10.5 64-bit ('sketch')",
   "language": "python",
   "name": "python3"
  },
  "language_info": {
   "codemirror_mode": {
    "name": "ipython",
    "version": 3
   },
   "file_extension": ".py",
   "mimetype": "text/x-python",
   "name": "python",
   "nbconvert_exporter": "python",
   "pygments_lexer": "ipython3",
   "version": "3.10.5"
  },
  "vscode": {
   "interpreter": {
    "hash": "1a56c398c352595db7d0130f0fc00eb36e63ee8641ddc16c2e5bdd38e08d5e9b"
   }
  }
 },
 "nbformat": 4,
 "nbformat_minor": 2
}
