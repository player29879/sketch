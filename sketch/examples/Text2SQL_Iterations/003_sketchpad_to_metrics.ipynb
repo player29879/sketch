{
 "cells": [
  {
   "cell_type": "code",
   "execution_count": null,
   "metadata": {},
   "outputs": [],
   "source": [
    "# in this notebook, functions that produce 2 sets of metrics\n",
    "# set 1, direct metrics measured on each sketchpad\n",
    "# set 2, distance-metrics measured between sketchpads\n",
    "\n",
    "# Given n_chunks*k sketchpads -> get vectorized V in R^d representations for each object as well as a W in R^(d x d)\n",
    "# #  cross-distance representation. (first d/2 tokens represent BERT on reference, second d/2 represent content-derived \n",
    "# #  sketch-measures) -> Note: for a given set of chunks, V and W are \"freezable\" (unchanging during training if DB is\n",
    "# #  unchanged), so can \"cache\" these for faster lookup.\n",
    "\n",
    "\n",
    "# likely should put these operations into \"metrics\" and \"cross-metrics\" (or something like that) into \n",
    "# the actual sketch library"
   ]
  },
  {
   "cell_type": "code",
   "execution_count": null,
   "metadata": {},
   "outputs": [],
   "source": [
    "import os\n",
    "import json\n",
    "import pandas as pd\n",
    "from sketch.metrics import unary_metrics, binary_metrics\n",
    "from sketch.core import SketchPad\n",
    "\n",
    "run_name = \"220910_2ary_groundtruth\"\n",
    "base_path = \"/home/jawaugh\"\n",
    "\n",
    "groundtruth_path = os.path.join(base_path, f'sketch/sketch/examples/Text2SQL_Iterations/{run_name}.parquet')\n",
    "knn_path = os.path.join(base_path, f'sketch/sketch/examples/Text2SQL_Iterations/{run_name}_knn.parquet')\n",
    "sketchpad_path = os.path.join(base_path, f'sketch/sketch/examples/Text2SQL_Iterations/{run_name}_sketchpad.parquet')\n",
    "metrics_path = os.path.join(base_path, f'sketch/sketch/examples/Text2SQL_Iterations/{run_name}_metrics.parquet')"
   ]
  },
  {
   "cell_type": "code",
   "execution_count": null,
   "metadata": {},
   "outputs": [],
   "source": [
    "sketchpads_df = pd.read_parquet(sketchpad_path)\n",
    "sketchpads = {}\n",
    "for i, row in sketchpads_df.iterrows():\n",
    "    sketchpads[row.sketchpad_id] = SketchPad.from_dict(json.loads(row.sketchpad))"
   ]
  },
  {
   "cell_type": "code",
   "execution_count": null,
   "metadata": {},
   "outputs": [],
   "source": [
    "training_df = pd.read_parquet(knn_path)"
   ]
  },
  {
   "cell_type": "code",
   "execution_count": null,
   "metadata": {},
   "outputs": [],
   "source": [
    "import time\n",
    "import os\n",
    "import shutil\n",
    "shutil.rmtree(\"metrics\", ignore_errors=True)\n",
    "os.makedirs(\"metrics\", exist_ok=True)\n",
    "wide_metrics = []\n",
    "st = time.time()\n",
    "sketchpad_id_cols = [x for x in training_df.columns if 'sketchpad' in x]\n",
    "scores_cols = [x for x in training_df.columns if '_score' in x]\n",
    "for i_outer, row in training_df.iterrows():\n",
    "    local_metrics = {}\n",
    "    # sketchpads\n",
    "    local_sp = []\n",
    "    for k in sketchpad_id_cols:\n",
    "        local_sp.append(sketchpads[row[k]])\n",
    "    # metrics\n",
    "    for score in scores_cols:\n",
    "        local_metrics[score] = row[score]\n",
    "    # unary metrics\n",
    "    for i, sp in enumerate(local_sp):\n",
    "        for k, v in sp.get_metrics().items():\n",
    "            local_metrics[f\"sketchpad_{i}_{k}\"] = v\n",
    "    # binary metrics\n",
    "    for i1, sp1 in enumerate(local_sp):\n",
    "        for i2, sp2 in enumerate(local_sp):\n",
    "            if i1 < i2:\n",
    "                for k, v in sp1.get_cross_metrics(sp2).items():\n",
    "                    local_metrics[f\"sketchpad_{i1}_{i2}_{k}\"] = v\n",
    "    wide_metrics.append(local_metrics)\n",
    "    if (i_outer+1) % 100 == 0:\n",
    "        pd.DataFrame(wide_metrics).to_parquet(f\"metrics/temp_{i_outer+1:07}.parquet\")\n",
    "        print(i_outer+1, time.time()-st)\n",
    "        wide_metrics=[]\n",
    "if (i_outer+1) % 100 == 0:\n",
    "    pd.DataFrame(wide_metrics).to_parquet(f\"metrics/temp_{i_outer+1:07}.parquet\")\n",
    "    print(i_outer+1, time.time()-st)\n",
    "    wide_metrics=[]"
   ]
  },
  {
   "cell_type": "code",
   "execution_count": null,
   "metadata": {},
   "outputs": [],
   "source": [
    "# TODO: add the reference via BERT sentence embeddings to each row as well for every sketchpad"
   ]
  },
  {
   "cell_type": "code",
   "execution_count": null,
   "metadata": {},
   "outputs": [],
   "source": [
    "import glob\n",
    "\n",
    "dfs = []\n",
    "for f in sorted(glob.glob(\"metrics/*.parquet\"), key=lambda x: int(x.split(\"_\")[-1].split(\".\")[0])):\n",
    "    print(f)\n",
    "    dfs.append(pd.read_parquet(f))\n",
    "metrics_df = pd.concat(dfs)\n",
    "metrics_df.to_parquet(metrics_path)"
   ]
  },
  {
   "cell_type": "code",
   "execution_count": null,
   "metadata": {},
   "outputs": [],
   "source": [
    "len(metrics_df)"
   ]
  },
  {
   "cell_type": "code",
   "execution_count": null,
   "metadata": {},
   "outputs": [],
   "source": [
    "pd.set_option('display.max_rows', None)\n",
    "\n",
    "print(metrics_df.head().T)"
   ]
  },
  {
   "cell_type": "code",
   "execution_count": null,
   "metadata": {},
   "outputs": [],
   "source": []
  }
 ],
 "metadata": {
  "kernelspec": {
   "display_name": "Python 3.10.5 64-bit ('sketch')",
   "language": "python",
   "name": "python3"
  },
  "language_info": {
   "codemirror_mode": {
    "name": "ipython",
    "version": 3
   },
   "file_extension": ".py",
   "mimetype": "text/x-python",
   "name": "python",
   "nbconvert_exporter": "python",
   "pygments_lexer": "ipython3",
   "version": "3.10.5"
  },
  "vscode": {
   "interpreter": {
    "hash": "1a56c398c352595db7d0130f0fc00eb36e63ee8641ddc16c2e5bdd38e08d5e9b"
   }
  }
 },
 "nbformat": 4,
 "nbformat_minor": 2
}
