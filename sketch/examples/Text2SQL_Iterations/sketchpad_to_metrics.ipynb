{
 "cells": [
  {
   "cell_type": "code",
   "execution_count": 1,
   "metadata": {},
   "outputs": [],
   "source": [
    "# in this notebook, functions that produce 2 sets of metrics\n",
    "# set 1, direct metrics measured on each sketchpad\n",
    "# set 2, distance-metrics measured between sketchpads\n",
    "\n",
    "# Given n_chunks*k sketchpads -> get vectorized V in R^d representations for each object as well as a W in R^(d x d)\n",
    "# #  cross-distance representation. (first d/2 tokens represent BERT on reference, second d/2 represent content-derived \n",
    "# #  sketch-measures) -> Note: for a given set of chunks, V and W are \"freezable\" (unchanging during training if DB is\n",
    "# #  unchanged), so can \"cache\" these for faster lookup.\n",
    "\n",
    "\n",
    "# likely should put these operations into \"metrics\" and \"cross-metrics\" (or something like that) into \n",
    "# the actual sketch library"
   ]
  },
  {
   "cell_type": "code",
   "execution_count": null,
   "metadata": {},
   "outputs": [],
   "source": []
  }
 ],
 "metadata": {
  "kernelspec": {
   "display_name": "Python 3.10.5 64-bit ('sketch')",
   "language": "python",
   "name": "python3"
  },
  "language_info": {
   "codemirror_mode": {
    "name": "ipython",
    "version": 3
   },
   "file_extension": ".py",
   "mimetype": "text/x-python",
   "name": "python",
   "nbconvert_exporter": "python",
   "pygments_lexer": "ipython3",
   "version": "3.10.5"
  },
  "orig_nbformat": 4,
  "vscode": {
   "interpreter": {
    "hash": "1a56c398c352595db7d0130f0fc00eb36e63ee8641ddc16c2e5bdd38e08d5e9b"
   }
  }
 },
 "nbformat": 4,
 "nbformat_minor": 2
}
