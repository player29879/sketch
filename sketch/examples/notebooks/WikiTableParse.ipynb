{
 "cells": [
  {
   "cell_type": "code",
   "execution_count": 1,
   "metadata": {},
   "outputs": [],
   "source": [
    "import pandas as pd"
   ]
  },
  {
   "cell_type": "code",
   "execution_count": 2,
   "metadata": {},
   "outputs": [],
   "source": [
    "directory = '/media/share/DataSaves/wikitable_extract_220814_test'\n"
   ]
  },
  {
   "cell_type": "code",
   "execution_count": 3,
   "metadata": {},
   "outputs": [],
   "source": [
    "import glob\n",
    "test = glob.glob(directory + '/*.parquet')"
   ]
  },
  {
   "cell_type": "code",
   "execution_count": null,
   "metadata": {},
   "outputs": [],
   "source": []
  },
  {
   "cell_type": "code",
   "execution_count": 4,
   "metadata": {},
   "outputs": [],
   "source": [
    "# !pip install py-wikimarkup"
   ]
  },
  {
   "cell_type": "code",
   "execution_count": 48,
   "metadata": {},
   "outputs": [],
   "source": [
    "from wikimarkup.parser import Parser\n",
    "from bs4 import BeautifulSoup\n",
    "\n",
    "parser = Parser()\n",
    "\n",
    "def get_tables(markdowntext):\n",
    "    output = []\n",
    "    try:\n",
    "        html = parser.parse(markdowntext)\n",
    "        soup = BeautifulSoup(html, 'html.parser')\n",
    "        tables = soup.find_all('table')\n",
    "        df_tables = pd.read_html(html)\n",
    "        if len(tables) != len(df_tables):\n",
    "            print(\"tables offset..\")\n",
    "            return []\n",
    "        output = []\n",
    "        for i, table in enumerate(tables):\n",
    "            # all previous headings in order\n",
    "            headings = []\n",
    "            for k in range(6):\n",
    "                h = table.find_previous_sibling(f'h{k}')\n",
    "                headings.append(\n",
    "                    h.text if h else ''\n",
    "                )\n",
    "            output.append((i, \"\\n\".join(headings), df_tables[i]))\n",
    "    except Exception as e:\n",
    "        print(\"Failed to parse...\")\n",
    "    return output\n",
    "\n",
    "def get_all_tables(path):\n",
    "    data = pd.read_parquet(path)\n",
    "    data = data['page_text'].groupby(data['page_title_text']).first()\n",
    "    for title, text in data.iteritems():\n",
    "        result = get_tables(text)\n",
    "        for row in result:\n",
    "            yield title, *row"
   ]
  },
  {
   "cell_type": "code",
   "execution_count": 6,
   "metadata": {},
   "outputs": [
    {
     "name": "stdout",
     "output_type": "stream",
     "text": [
      "0 2.017167568206787\n",
      "10 2.5265681743621826\n",
      "20 2.6810081005096436\n",
      "30 2.862239360809326\n",
      "40 3.198089122772217\n",
      "50 3.198174238204956\n",
      "60 3.253628730773926\n",
      "70 3.525266170501709\n",
      "80 3.66201114654541\n",
      "90 3.9148833751678467\n",
      "100 3.91496205329895\n",
      "110 3.9149725437164307\n",
      "120 4.185628175735474\n",
      "130 4.340177059173584\n",
      "140 4.754835605621338\n",
      "150 4.963443279266357\n",
      "160 5.167338609695435\n",
      "tables offset..\n",
      "170 5.66095232963562\n",
      "180 5.8487021923065186\n",
      "190 5.945636987686157\n",
      "200 6.134185552597046\n",
      "210 6.682735919952393\n",
      "220 7.268476247787476\n",
      "230 7.783344268798828\n",
      "240 8.288628578186035\n",
      "250 8.63939356803894\n",
      "260 8.929021835327148\n",
      "270 9.133349180221558\n",
      "280 9.415085792541504\n",
      "290 9.566310405731201\n",
      "300 9.833694219589233\n",
      "310 9.833808660507202\n",
      "320 10.13634443283081\n",
      "330 10.327559232711792\n",
      "340 10.607861042022705\n",
      "350 10.777730703353882\n",
      "360 10.803031921386719\n",
      "370 11.178155660629272\n",
      "380 11.302590370178223\n",
      "390 11.385343313217163\n",
      "400 11.72278881072998\n",
      "410 11.862169742584229\n",
      "420 11.972707271575928\n",
      "430 12.320104598999023\n",
      "440 12.55119514465332\n",
      "450 12.911612033843994\n",
      "460 13.04038143157959\n",
      "470 13.167195796966553\n",
      "480 13.496493577957153\n",
      "490 13.733107089996338\n",
      "500 14.074474573135376\n"
     ]
    }
   ],
   "source": [
    "import time\n",
    "st = time.time()\n",
    "results = []\n",
    "for i, x in enumerate(get_all_tables(test[125])):\n",
    "    results.append(x)\n",
    "    if i%10 == 0:\n",
    "        print(i, time.time() - st)\n",
    "    if i > 500:\n",
    "        break"
   ]
  },
  {
   "cell_type": "code",
   "execution_count": 16,
   "metadata": {},
   "outputs": [],
   "source": [
    "import random\n",
    "page, index, text, frame = random.choice(results)"
   ]
  },
  {
   "cell_type": "code",
   "execution_count": 45,
   "metadata": {},
   "outputs": [
    {
     "data": {
      "text/plain": [
       "('1923 AAA Championship Car season',\n",
       " 1,\n",
       " ',,Leading National Championship standings,,,',\n",
       "    #                                 Driver  \\\n",
       " 0  1                       [[Eddie Hearne]]   \n",
       " 1  2  [[James Anthony Murphy|Jimmy Murphy]]   \n",
       " 2  3                       [[Bennett Hill]]   \n",
       " 3  4                        [[Harry Hartz]]   \n",
       " 4  5                       [[Tommy Milton]]   \n",
       " \n",
       "                                                  Car  Points  \n",
       " 0              [[Harry Miller (auto racing)|Miller]]    1882  \n",
       " 1              [[Harry Miller (auto racing)|Miller]]    1350  \n",
       " 2  [[Harry Miller (auto racing)|Miller]], [[Duese...     955  \n",
       " 3  [[Duesenberg]], [[Harry Miller (auto racing)|M...     820  \n",
       " 4              [[Harry Miller (auto racing)|Miller]]     810  )"
      ]
     },
     "execution_count": 45,
     "metadata": {},
     "output_type": "execute_result"
    }
   ],
   "source": [
    "results[112]"
   ]
  },
  {
   "cell_type": "code",
   "execution_count": 17,
   "metadata": {},
   "outputs": [],
   "source": [
    "url = f\"https://en.wikipedia.org/wiki/{page.replace(' ', '_')}\""
   ]
  },
  {
   "cell_type": "code",
   "execution_count": 24,
   "metadata": {},
   "outputs": [
    {
     "name": "stdout",
     "output_type": "stream",
     "text": [
      "https://en.wikipedia.org/wiki/1952_South_Korean_presidential_election\n"
     ]
    }
   ],
   "source": [
    "print(url)"
   ]
  },
  {
   "cell_type": "code",
   "execution_count": 37,
   "metadata": {},
   "outputs": [],
   "source": [
    "dfs = pd.read_html(url)[7]  # note, 7 may be wrong, please consider changing to other numbers"
   ]
  },
  {
   "cell_type": "code",
   "execution_count": 38,
   "metadata": {},
   "outputs": [
    {
     "data": {
      "text/html": [
       "<div>\n",
       "<style scoped>\n",
       "    .dataframe tbody tr th:only-of-type {\n",
       "        vertical-align: middle;\n",
       "    }\n",
       "\n",
       "    .dataframe tbody tr th {\n",
       "        vertical-align: top;\n",
       "    }\n",
       "\n",
       "    .dataframe thead tr th {\n",
       "        text-align: left;\n",
       "    }\n",
       "</style>\n",
       "<table border=\"1\" class=\"dataframe\">\n",
       "  <thead>\n",
       "    <tr>\n",
       "      <th></th>\n",
       "      <th>Region</th>\n",
       "      <th colspan=\"2\" halign=\"left\">Syngman Rhee</th>\n",
       "      <th colspan=\"2\" halign=\"left\">Cho Bong-am</th>\n",
       "      <th colspan=\"2\" halign=\"left\">Yi Si-yeong</th>\n",
       "      <th colspan=\"2\" halign=\"left\">Shin Heung-u</th>\n",
       "    </tr>\n",
       "    <tr>\n",
       "      <th></th>\n",
       "      <th>Region</th>\n",
       "      <th>Unnamed: 1_level_1</th>\n",
       "      <th>Unnamed: 2_level_1</th>\n",
       "      <th>Unnamed: 3_level_1</th>\n",
       "      <th>Unnamed: 4_level_1</th>\n",
       "      <th>Unnamed: 5_level_1</th>\n",
       "      <th>Unnamed: 6_level_1</th>\n",
       "      <th>Unnamed: 7_level_1</th>\n",
       "      <th>Unnamed: 8_level_1</th>\n",
       "    </tr>\n",
       "    <tr>\n",
       "      <th></th>\n",
       "      <th>Region</th>\n",
       "      <th>Votes</th>\n",
       "      <th>%</th>\n",
       "      <th>Votes</th>\n",
       "      <th>%</th>\n",
       "      <th>Votes</th>\n",
       "      <th>%</th>\n",
       "      <th>Votes</th>\n",
       "      <th>%</th>\n",
       "    </tr>\n",
       "  </thead>\n",
       "  <tbody>\n",
       "    <tr>\n",
       "      <th>0</th>\n",
       "      <td>Seoul</td>\n",
       "      <td>205300</td>\n",
       "      <td>82.2</td>\n",
       "      <td>25631</td>\n",
       "      <td>10.3</td>\n",
       "      <td>14883</td>\n",
       "      <td>6.0</td>\n",
       "      <td>3923</td>\n",
       "      <td>1.6</td>\n",
       "    </tr>\n",
       "    <tr>\n",
       "      <th>1</th>\n",
       "      <td>Gyeonggi</td>\n",
       "      <td>657174</td>\n",
       "      <td>87.7</td>\n",
       "      <td>44967</td>\n",
       "      <td>6.0</td>\n",
       "      <td>34704</td>\n",
       "      <td>4.6</td>\n",
       "      <td>12891</td>\n",
       "      <td>1.7</td>\n",
       "    </tr>\n",
       "    <tr>\n",
       "      <th>2</th>\n",
       "      <td>Gangwon</td>\n",
       "      <td>366583</td>\n",
       "      <td>92.4</td>\n",
       "      <td>10516</td>\n",
       "      <td>2.7</td>\n",
       "      <td>13378</td>\n",
       "      <td>3.4</td>\n",
       "      <td>6305</td>\n",
       "      <td>1.6</td>\n",
       "    </tr>\n",
       "    <tr>\n",
       "      <th>3</th>\n",
       "      <td>North Chungcheong</td>\n",
       "      <td>386665</td>\n",
       "      <td>86.7</td>\n",
       "      <td>25875</td>\n",
       "      <td>5.8</td>\n",
       "      <td>23006</td>\n",
       "      <td>5.2</td>\n",
       "      <td>10409</td>\n",
       "      <td>2.3</td>\n",
       "    </tr>\n",
       "    <tr>\n",
       "      <th>4</th>\n",
       "      <td>South Chungcheong</td>\n",
       "      <td>636061</td>\n",
       "      <td>82.4</td>\n",
       "      <td>56590</td>\n",
       "      <td>7.3</td>\n",
       "      <td>58754</td>\n",
       "      <td>7.6</td>\n",
       "      <td>20947</td>\n",
       "      <td>2.7</td>\n",
       "    </tr>\n",
       "  </tbody>\n",
       "</table>\n",
       "</div>"
      ],
      "text/plain": [
       "              Region       Syngman Rhee                           Cho Bong-am  \\\n",
       "              Region Unnamed: 1_level_1 Unnamed: 2_level_1 Unnamed: 3_level_1   \n",
       "              Region              Votes                  %              Votes   \n",
       "0              Seoul             205300               82.2              25631   \n",
       "1           Gyeonggi             657174               87.7              44967   \n",
       "2            Gangwon             366583               92.4              10516   \n",
       "3  North Chungcheong             386665               86.7              25875   \n",
       "4  South Chungcheong             636061               82.4              56590   \n",
       "\n",
       "                            Yi Si-yeong                          Shin Heung-u  \\\n",
       "  Unnamed: 4_level_1 Unnamed: 5_level_1 Unnamed: 6_level_1 Unnamed: 7_level_1   \n",
       "                   %              Votes                  %              Votes   \n",
       "0               10.3              14883                6.0               3923   \n",
       "1                6.0              34704                4.6              12891   \n",
       "2                2.7              13378                3.4               6305   \n",
       "3                5.8              23006                5.2              10409   \n",
       "4                7.3              58754                7.6              20947   \n",
       "\n",
       "                      \n",
       "  Unnamed: 8_level_1  \n",
       "                   %  \n",
       "0                1.6  \n",
       "1                1.7  \n",
       "2                1.6  \n",
       "3                2.3  \n",
       "4                2.7  "
      ]
     },
     "execution_count": 38,
     "metadata": {},
     "output_type": "execute_result"
    }
   ],
   "source": [
    "dfs.head()"
   ]
  },
  {
   "cell_type": "code",
   "execution_count": null,
   "metadata": {},
   "outputs": [],
   "source": []
  },
  {
   "cell_type": "code",
   "execution_count": null,
   "metadata": {},
   "outputs": [],
   "source": [
    "'1963 Campeonato Brasileiro Série A'.replace(' ', '_')"
   ]
  },
  {
   "cell_type": "code",
   "execution_count": null,
   "metadata": {},
   "outputs": [],
   "source": [
    "test[0]"
   ]
  },
  {
   "cell_type": "code",
   "execution_count": null,
   "metadata": {},
   "outputs": [],
   "source": [
    "trial.columns"
   ]
  },
  {
   "cell_type": "code",
   "execution_count": null,
   "metadata": {},
   "outputs": [],
   "source": [
    "# print(trial['page_title_text'][15])\n",
    "print(trial['template_internals'][15])"
   ]
  },
  {
   "cell_type": "code",
   "execution_count": null,
   "metadata": {},
   "outputs": [],
   "source": [
    "# |- seems to be a row break\n",
    "# | {...} |seems to be a cell break\n",
    "\n"
   ]
  }
 ],
 "metadata": {
  "kernelspec": {
   "display_name": "Python 3.10.5 64-bit ('sketch')",
   "language": "python",
   "name": "python3"
  },
  "language_info": {
   "codemirror_mode": {
    "name": "ipython",
    "version": 3
   },
   "file_extension": ".py",
   "mimetype": "text/x-python",
   "name": "python",
   "nbconvert_exporter": "python",
   "pygments_lexer": "ipython3",
   "version": "3.10.5"
  },
  "orig_nbformat": 4,
  "vscode": {
   "interpreter": {
    "hash": "adcb619b33f588203bb576ea56ee3c20c6d0d8de6f18aca777331501d8e7497b"
   }
  }
 },
 "nbformat": 4,
 "nbformat_minor": 2
}
